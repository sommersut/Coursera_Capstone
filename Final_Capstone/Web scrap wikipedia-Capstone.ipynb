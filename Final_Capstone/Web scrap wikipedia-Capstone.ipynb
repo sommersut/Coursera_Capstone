{
 "cells": [
  {
   "cell_type": "code",
   "execution_count": 1,
   "metadata": {},
   "outputs": [],
   "source": [
    "import requests\n",
    "from bs4 import BeautifulSoup\n",
    "import pandas as pd\n",
    "import numpy as np\n",
    "#https://www.youtube.com/watch?v=ICXR9nDbudk&pbjreload=101\n",
    "#https://www.youtube.com/watch?v=cdAYhLSXDj4 esse é o video"
   ]
  },
  {
   "cell_type": "code",
   "execution_count": 2,
   "metadata": {},
   "outputs": [],
   "source": [
    "url_wiki = 'https://pt.wikipedia.org/wiki/Lista_dos_distritos_de_S%C3%A3o_Paulo_por_popula%C3%A7%C3%A3o'"
   ]
  },
  {
   "cell_type": "code",
   "execution_count": 3,
   "metadata": {},
   "outputs": [],
   "source": [
    "response = requests.get(url_wiki)"
   ]
  },
  {
   "cell_type": "code",
   "execution_count": 4,
   "metadata": {},
   "outputs": [],
   "source": [
    "soup = BeautifulSoup(response.text, \"html.parser\")"
   ]
  },
  {
   "cell_type": "code",
   "execution_count": 5,
   "metadata": {},
   "outputs": [],
   "source": [
    "table = soup.find('table', {'class':'wikitable sortable'}).tbody"
   ]
  },
  {
   "cell_type": "code",
   "execution_count": 6,
   "metadata": {},
   "outputs": [
    {
     "name": "stdout",
     "output_type": "stream",
     "text": [
      "['Posição', 'Distrito', 'População 2010']\n"
     ]
    }
   ],
   "source": [
    "rows = table.find_all('tr')\n",
    "columns= [v.text.replace('\\n', '') for v in rows[0].find_all('th')]\n",
    "print(columns)"
   ]
  },
  {
   "cell_type": "code",
   "execution_count": 7,
   "metadata": {},
   "outputs": [],
   "source": [
    "df=pd.DataFrame(columns=columns)"
   ]
  },
  {
   "cell_type": "code",
   "execution_count": 8,
   "metadata": {},
   "outputs": [
    {
     "data": {
      "text/plain": [
       "(0, 3)"
      ]
     },
     "execution_count": 8,
     "metadata": {},
     "output_type": "execute_result"
    }
   ],
   "source": [
    "df.shape"
   ]
  },
  {
   "cell_type": "code",
   "execution_count": 9,
   "metadata": {},
   "outputs": [],
   "source": [
    "#now have to populate the table\n",
    "for i in range (1,len(rows)-1): #find skipping the first row, search in all rows minus last rows (there is a issue on wiki table with 4 columns in last rows)\n",
    "    tds=rows[i].find_all('td')\n",
    "    #inspect ...rowspan 2 td tags, otherwise 3 td tags\n",
    "    if len(tds) == 2:\n",
    "        values = [tds[0].text.replace('\\n', ''), tds[1].text.replace('\\n', ''), tds[2].text.replace('\\n', '')]\n",
    "    else:\n",
    "        values=[td.text.replace('\\n', '') for td in tds]\n",
    "    #print(values)\n",
    "    #print(np.shape(values))\n",
    "    df=df.append(pd.Series(values, index=columns), ignore_index=True)\n",
    "    #print(df)"
   ]
  },
  {
   "cell_type": "code",
   "execution_count": 10,
   "metadata": {},
   "outputs": [
    {
     "name": "stdout",
     "output_type": "stream",
     "text": [
      "   Posição         Distrito População 2010\n",
      "0        1           Grajaú        360.787\n",
      "1        2    Jardim Ângela        295.434\n",
      "2        3        Sapopemba        284.524\n",
      "3        4    Capão Redondo        268.729\n",
      "4        5  Jardim São Luís        267.871\n",
      "..     ...              ...            ...\n",
      "91      92          Jaguara         24.895\n",
      "92      93               Sé         23.651\n",
      "93      94             Pari         17.299\n",
      "94      95      Barra Funda         14.383\n",
      "95      96         Marsilac          8.258\n",
      "\n",
      "[96 rows x 3 columns]\n"
     ]
    }
   ],
   "source": [
    "print(df)"
   ]
  },
  {
   "cell_type": "code",
   "execution_count": 11,
   "metadata": {},
   "outputs": [],
   "source": [
    "df.to_csv(r'C:\\Users\\Home\\Downloads\\Capstone' + \n",
    "         '\\\\saopaulo_districts.csv', index=False)"
   ]
  },
  {
   "cell_type": "code",
   "execution_count": 15,
   "metadata": {},
   "outputs": [],
   "source": [
    "#checking\n",
    "df1=pd.read_csv(r'C:\\Users\\Home\\Downloads\\Capstone\\saopaulo_districts.csv')"
   ]
  },
  {
   "cell_type": "code",
   "execution_count": 16,
   "metadata": {},
   "outputs": [
    {
     "data": {
      "text/html": [
       "<div>\n",
       "<style scoped>\n",
       "    .dataframe tbody tr th:only-of-type {\n",
       "        vertical-align: middle;\n",
       "    }\n",
       "\n",
       "    .dataframe tbody tr th {\n",
       "        vertical-align: top;\n",
       "    }\n",
       "\n",
       "    .dataframe thead th {\n",
       "        text-align: right;\n",
       "    }\n",
       "</style>\n",
       "<table border=\"1\" class=\"dataframe\">\n",
       "  <thead>\n",
       "    <tr style=\"text-align: right;\">\n",
       "      <th></th>\n",
       "      <th>Posição</th>\n",
       "      <th>Distrito</th>\n",
       "      <th>População 2010</th>\n",
       "    </tr>\n",
       "  </thead>\n",
       "  <tbody>\n",
       "    <tr>\n",
       "      <th>0</th>\n",
       "      <td>1</td>\n",
       "      <td>Grajaú</td>\n",
       "      <td>360.787</td>\n",
       "    </tr>\n",
       "    <tr>\n",
       "      <th>1</th>\n",
       "      <td>2</td>\n",
       "      <td>Jardim Ângela</td>\n",
       "      <td>295.434</td>\n",
       "    </tr>\n",
       "    <tr>\n",
       "      <th>2</th>\n",
       "      <td>3</td>\n",
       "      <td>Sapopemba</td>\n",
       "      <td>284.524</td>\n",
       "    </tr>\n",
       "    <tr>\n",
       "      <th>3</th>\n",
       "      <td>4</td>\n",
       "      <td>Capão Redondo</td>\n",
       "      <td>268.729</td>\n",
       "    </tr>\n",
       "    <tr>\n",
       "      <th>4</th>\n",
       "      <td>5</td>\n",
       "      <td>Jardim São Luís</td>\n",
       "      <td>267.871</td>\n",
       "    </tr>\n",
       "    <tr>\n",
       "      <th>...</th>\n",
       "      <td>...</td>\n",
       "      <td>...</td>\n",
       "      <td>...</td>\n",
       "    </tr>\n",
       "    <tr>\n",
       "      <th>91</th>\n",
       "      <td>92</td>\n",
       "      <td>Jaguara</td>\n",
       "      <td>24.895</td>\n",
       "    </tr>\n",
       "    <tr>\n",
       "      <th>92</th>\n",
       "      <td>93</td>\n",
       "      <td>Sé</td>\n",
       "      <td>23.651</td>\n",
       "    </tr>\n",
       "    <tr>\n",
       "      <th>93</th>\n",
       "      <td>94</td>\n",
       "      <td>Pari</td>\n",
       "      <td>17.299</td>\n",
       "    </tr>\n",
       "    <tr>\n",
       "      <th>94</th>\n",
       "      <td>95</td>\n",
       "      <td>Barra Funda</td>\n",
       "      <td>14.383</td>\n",
       "    </tr>\n",
       "    <tr>\n",
       "      <th>95</th>\n",
       "      <td>96</td>\n",
       "      <td>Marsilac</td>\n",
       "      <td>8.258</td>\n",
       "    </tr>\n",
       "  </tbody>\n",
       "</table>\n",
       "<p>96 rows × 3 columns</p>\n",
       "</div>"
      ],
      "text/plain": [
       "    Posição         Distrito  População 2010\n",
       "0         1           Grajaú         360.787\n",
       "1         2    Jardim Ângela         295.434\n",
       "2         3        Sapopemba         284.524\n",
       "3         4    Capão Redondo         268.729\n",
       "4         5  Jardim São Luís         267.871\n",
       "..      ...              ...             ...\n",
       "91       92          Jaguara          24.895\n",
       "92       93               Sé          23.651\n",
       "93       94             Pari          17.299\n",
       "94       95      Barra Funda          14.383\n",
       "95       96         Marsilac           8.258\n",
       "\n",
       "[96 rows x 3 columns]"
      ]
     },
     "execution_count": 16,
     "metadata": {},
     "output_type": "execute_result"
    }
   ],
   "source": [
    "df1 #done :-)"
   ]
  },
  {
   "cell_type": "code",
   "execution_count": null,
   "metadata": {},
   "outputs": [],
   "source": []
  }
 ],
 "metadata": {
  "kernelspec": {
   "display_name": "Python 3",
   "language": "python",
   "name": "python3"
  },
  "language_info": {
   "codemirror_mode": {
    "name": "ipython",
    "version": 3
   },
   "file_extension": ".py",
   "mimetype": "text/x-python",
   "name": "python",
   "nbconvert_exporter": "python",
   "pygments_lexer": "ipython3",
   "version": "3.8.5"
  }
 },
 "nbformat": 4,
 "nbformat_minor": 4
}
