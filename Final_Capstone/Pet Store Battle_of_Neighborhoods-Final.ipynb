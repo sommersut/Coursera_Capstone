{
 "cells": [
  {
   "cell_type": "markdown",
   "metadata": {},
   "source": [
    "# Introduction"
   ]
  },
  {
   "cell_type": "markdown",
   "metadata": {},
   "source": [
    "Sao Paulo is the largest city in Brazil presenting a city population of about 12.25 million and almost 22 million in its metropolitan region (2019). It is the capital of the Southeastern state of São Paulo, and  one of the richest cities in the southern hemisphere. Historically attractive to immigrants as well as (somewhat later) Brazilians from other states, it's one of the most diverse cities in the world.\n",
    "\n",
    "Sao Paulo is Brazil technological and economical hub. It has the largest economy by Gross Domestic Product (GDP) in Latin America and the Southern Hemisphere, representing 10.7% of all Brazilian GDP and being home to 63% of stablished multinational companies in the country.\n",
    "\n",
    "According to the Brazilian Association of the Pet Products (Abinpet), Brazil has the second largest population of dogs, cats and domestic songbirds worldwide and is the third largest country in pet total population only. According to Euromonitor, there are about 150 million pets in the country - a larger number than Brazilian children, for example. Still according to Euromonitor, the Brazilian market for pet products is the fourth largest in the world in terms of sales volume and presented a 10.8% Compound Annual Growth Rate (CAGR) between 2014 and 2019. The evolution of this market in the country was mainly driven by the increase in the pet population. In the next five years, this growth rate is expected to reach a 16.6% CAGR.\n",
    "\n",
    "The number of pet stores (or pet shops) in Sao Paulo city almost doubled between 2006 and 2016 reaching 3072 stores. According to Instituto Pet Brasil this business generates R$ 23 billion (USD 4 billion) each year including veterinary products, pet food and accessories and services.\n",
    "\n",
    "Considering this growing market in Sao Paulo, what should a business person take into account before making the decision to open a pet store? What is the best location in Sao Paulo and why?"
   ]
  },
  {
   "cell_type": "markdown",
   "metadata": {},
   "source": [
    "# Business Problem"
   ]
  },
  {
   "cell_type": "markdown",
   "metadata": {},
   "source": [
    "The goal is to find a proper location to open a pet store by clustering the districts of Sao Paulo. I will explore, segment and cluster districts in Sao Paulo and find main features related to the business. In this report I will find the pet stores based on the total number of stores and their ratings. By clustering data using Foursquare API, I can provide information about the best location to open a pet store in the city.\n",
    "\n",
    "1. What is / are the best location(s) for pet store in Sao Paulo city?\n",
    "2. In what district should the investor open a pet store to have the best chance of being successful?"
   ]
  },
  {
   "cell_type": "markdown",
   "metadata": {},
   "source": [
    "# Data"
   ]
  },
  {
   "cell_type": "markdown",
   "metadata": {},
   "source": [
    "I used the BeautifulSoap library for webscraping data in Wikipedia website. The code will be provided in Jupyter Notebook.\n",
    "https://pt.wikipedia.org/wiki/Lista_dos_distritos_de_S%C3%A3o_Paulo_por_popula%C3%A7%C3%A3o\n",
    "\n",
    "Then I have to find Sao Paulo districts geographical coordinates. At first, I tried to use Google services, but it asks the user a credit card number. Then geocoder class from Geopy client worked just fine to extract latitude and longitude coordinates for each Sao Paulo district. This data is uploaded to Google Drive and a method to call it is provided in the Notebook.\n",
    "\n",
    "For venues in each Sao Paulo district, I used Foursquare API tools. It collects venues available along with their categories, ratings and counts for likes and tips.\n",
    "\n",
    "For data preparation, I had to check the file for any NA cell concerning latitude and longitude coordinates for the districts. There are 96 districts on the CSV dataframe, and dropped the original 'Population' column for this project.\n",
    "\n",
    "In the next step, I used the Foursquare API tool to extract a maximum 120 venues located within a 600 meter radius based on latitude and longitude coordinates from city districts. \n",
    "\n",
    "Then, Foursquare API is used to collected ratings, likes and tips for Pet Stores in Sao Paulo districts. Filtered Pet Stores based on minimum ratings and plotted a bar chart for decision making.\n",
    "I will select districts where I can find at least one Pet Store, along with their respective average ratings and merged these columns with geographical coordinates."
   ]
  },
  {
   "cell_type": "markdown",
   "metadata": {},
   "source": [
    "## Importing all required libraries"
   ]
  },
  {
   "cell_type": "code",
   "execution_count": 1,
   "metadata": {},
   "outputs": [
    {
     "name": "stdout",
     "output_type": "stream",
     "text": [
      "Collecting package metadata (current_repodata.json): ...working... done\n",
      "Solving environment: ...working... done\n",
      "\n",
      "# All requested packages already installed.\n",
      "\n",
      "Requirement already satisfied: gdown in c:\\users\\danilo\\anaconda3\\lib\\site-packages (3.12.2)\n",
      "Requirement already satisfied: filelock in c:\\users\\danilo\\anaconda3\\lib\\site-packages (from gdown) (3.0.12)\n",
      "Requirement already satisfied: six in c:\\users\\danilo\\anaconda3\\lib\\site-packages (from gdown) (1.15.0)\n",
      "Requirement already satisfied: tqdm in c:\\users\\danilo\\anaconda3\\lib\\site-packages (from gdown) (4.50.2)\n",
      "Requirement already satisfied: requests[socks] in c:\\users\\danilo\\anaconda3\\lib\\site-packages (from gdown) (2.24.0)\n",
      "Requirement already satisfied: urllib3!=1.25.0,!=1.25.1,<1.26,>=1.21.1 in c:\\users\\danilo\\anaconda3\\lib\\site-packages (from requests[socks]->gdown) (1.25.11)\n",
      "Requirement already satisfied: chardet<4,>=3.0.2 in c:\\users\\danilo\\anaconda3\\lib\\site-packages (from requests[socks]->gdown) (3.0.4)\n",
      "Requirement already satisfied: idna<3,>=2.5 in c:\\users\\danilo\\anaconda3\\lib\\site-packages (from requests[socks]->gdown) (2.10)\n",
      "Requirement already satisfied: certifi>=2017.4.17 in c:\\users\\danilo\\anaconda3\\lib\\site-packages (from requests[socks]->gdown) (2020.6.20)\n",
      "Requirement already satisfied: PySocks!=1.5.7,>=1.5.6; extra == \"socks\" in c:\\users\\danilo\\anaconda3\\lib\\site-packages (from requests[socks]->gdown) (1.7.1)\n",
      "Collecting package metadata (current_repodata.json): ...working... done\n",
      "Solving environment: ...working... done\n",
      "\n",
      "# All requested packages already installed.\n",
      "\n"
     ]
    }
   ],
   "source": [
    "!conda install -c conda-forge geopy --yes\n",
    "from geopy.geocoders import Nominatim\n",
    "import requests\n",
    "import pandas as pd\n",
    "import numpy as np\n",
    "import matplotlib.pyplot as plt\n",
    "%matplotlib inline\n",
    "\n",
    "#gdown library used to download data from Google Drive\n",
    "!pip install gdown\n",
    "\n",
    "!conda install -c conda-forge folium=0.5.0 --yes\n",
    "import folium\n",
    "\n",
    "import matplotlib.cm as cm\n",
    "import matplotlib.colors as colors\n",
    "\n",
    "#for clustering\n",
    "from sklearn.preprocessing import StandardScaler\n",
    "from sklearn.cluster import KMeans\n",
    "from sklearn import datasets"
   ]
  },
  {
   "cell_type": "markdown",
   "metadata": {},
   "source": [
    "## Web scrapping data from Wikipedia"
   ]
  },
  {
   "cell_type": "code",
   "execution_count": 2,
   "metadata": {},
   "outputs": [],
   "source": [
    "from bs4 import BeautifulSoup\n",
    "import pandas as pd\n",
    "import numpy as np"
   ]
  },
  {
   "cell_type": "code",
   "execution_count": 3,
   "metadata": {},
   "outputs": [],
   "source": [
    "url_wiki = 'https://pt.wikipedia.org/wiki/Lista_dos_distritos_de_S%C3%A3o_Paulo_por_popula%C3%A7%C3%A3o'\n",
    "\n",
    "response = requests.get(url_wiki)\n",
    "\n",
    "soup = BeautifulSoup(response.text, \"html.parser\")\n",
    "\n",
    "table = soup.find('table', {'class':'wikitable sortable'}).tbody"
   ]
  },
  {
   "cell_type": "code",
   "execution_count": 4,
   "metadata": {},
   "outputs": [
    {
     "name": "stdout",
     "output_type": "stream",
     "text": [
      "['Posição', 'Distrito', 'População 2010']\n"
     ]
    }
   ],
   "source": [
    "rows = table.find_all('tr')\n",
    "columns= [v.text.replace('\\n', '') for v in rows[0].find_all('th')]\n",
    "print(columns)"
   ]
  },
  {
   "cell_type": "code",
   "execution_count": 5,
   "metadata": {},
   "outputs": [
    {
     "data": {
      "text/plain": [
       "(0, 3)"
      ]
     },
     "execution_count": 5,
     "metadata": {},
     "output_type": "execute_result"
    }
   ],
   "source": [
    "df=pd.DataFrame(columns=columns)\n",
    "df.shape"
   ]
  },
  {
   "cell_type": "markdown",
   "metadata": {},
   "source": [
    "Populating the table with data"
   ]
  },
  {
   "cell_type": "code",
   "execution_count": 6,
   "metadata": {},
   "outputs": [],
   "source": [
    "for i in range (1,len(rows)-1): #find skipping the first row, search in all rows minus last rows (there is a issue on wiki table with 4 columns in last rows)\n",
    "    tds=rows[i].find_all('td')\n",
    "    #inspect ...rowspan 2 td tags, otherwise 3 td tags\n",
    "    if len(tds) == 2:\n",
    "        values = [tds[0].text.replace('\\n', ''), tds[1].text.replace('\\n', ''), tds[2].text.replace('\\n', '')]\n",
    "    else:\n",
    "        values=[td.text.replace('\\n', '') for td in tds]\n",
    "    #print(values)\n",
    "    #print(np.shape(values))\n",
    "    df=df.append(pd.Series(values, index=columns), ignore_index=True)\n",
    "    #print(df)"
   ]
  },
  {
   "cell_type": "code",
   "execution_count": 7,
   "metadata": {},
   "outputs": [
    {
     "name": "stdout",
     "output_type": "stream",
     "text": [
      "   Posição         Distrito População 2010\n",
      "0        1           Grajaú        360.787\n",
      "1        2    Jardim Ângela        295.434\n",
      "2        3        Sapopemba        284.524\n",
      "3        4    Capão Redondo        268.729\n",
      "4        5  Jardim São Luís        267.871\n",
      "..     ...              ...            ...\n",
      "91      92          Jaguara         24.895\n",
      "92      93               Sé         23.651\n",
      "93      94             Pari         17.299\n",
      "94      95      Barra Funda         14.383\n",
      "95      96         Marsilac          8.258\n",
      "\n",
      "[96 rows x 3 columns]\n"
     ]
    }
   ],
   "source": [
    "print(df)"
   ]
  },
  {
   "cell_type": "code",
   "execution_count": 8,
   "metadata": {},
   "outputs": [],
   "source": [
    "df.to_csv(r'C:\\Users\\Danilo\\Downloads\\Capstone' + \n",
    "         '\\\\saopaulo_districts.csv', index=False)"
   ]
  },
  {
   "cell_type": "code",
   "execution_count": 9,
   "metadata": {},
   "outputs": [
    {
     "data": {
      "text/html": [
       "<div>\n",
       "<style scoped>\n",
       "    .dataframe tbody tr th:only-of-type {\n",
       "        vertical-align: middle;\n",
       "    }\n",
       "\n",
       "    .dataframe tbody tr th {\n",
       "        vertical-align: top;\n",
       "    }\n",
       "\n",
       "    .dataframe thead th {\n",
       "        text-align: right;\n",
       "    }\n",
       "</style>\n",
       "<table border=\"1\" class=\"dataframe\">\n",
       "  <thead>\n",
       "    <tr style=\"text-align: right;\">\n",
       "      <th></th>\n",
       "      <th>Posição</th>\n",
       "      <th>Distrito</th>\n",
       "      <th>População 2010</th>\n",
       "    </tr>\n",
       "  </thead>\n",
       "  <tbody>\n",
       "    <tr>\n",
       "      <th>0</th>\n",
       "      <td>1</td>\n",
       "      <td>Grajaú</td>\n",
       "      <td>360.787</td>\n",
       "    </tr>\n",
       "    <tr>\n",
       "      <th>1</th>\n",
       "      <td>2</td>\n",
       "      <td>Jardim Ângela</td>\n",
       "      <td>295.434</td>\n",
       "    </tr>\n",
       "    <tr>\n",
       "      <th>2</th>\n",
       "      <td>3</td>\n",
       "      <td>Sapopemba</td>\n",
       "      <td>284.524</td>\n",
       "    </tr>\n",
       "    <tr>\n",
       "      <th>3</th>\n",
       "      <td>4</td>\n",
       "      <td>Capão Redondo</td>\n",
       "      <td>268.729</td>\n",
       "    </tr>\n",
       "    <tr>\n",
       "      <th>4</th>\n",
       "      <td>5</td>\n",
       "      <td>Jardim São Luís</td>\n",
       "      <td>267.871</td>\n",
       "    </tr>\n",
       "    <tr>\n",
       "      <th>...</th>\n",
       "      <td>...</td>\n",
       "      <td>...</td>\n",
       "      <td>...</td>\n",
       "    </tr>\n",
       "    <tr>\n",
       "      <th>91</th>\n",
       "      <td>92</td>\n",
       "      <td>Jaguara</td>\n",
       "      <td>24.895</td>\n",
       "    </tr>\n",
       "    <tr>\n",
       "      <th>92</th>\n",
       "      <td>93</td>\n",
       "      <td>Sé</td>\n",
       "      <td>23.651</td>\n",
       "    </tr>\n",
       "    <tr>\n",
       "      <th>93</th>\n",
       "      <td>94</td>\n",
       "      <td>Pari</td>\n",
       "      <td>17.299</td>\n",
       "    </tr>\n",
       "    <tr>\n",
       "      <th>94</th>\n",
       "      <td>95</td>\n",
       "      <td>Barra Funda</td>\n",
       "      <td>14.383</td>\n",
       "    </tr>\n",
       "    <tr>\n",
       "      <th>95</th>\n",
       "      <td>96</td>\n",
       "      <td>Marsilac</td>\n",
       "      <td>8.258</td>\n",
       "    </tr>\n",
       "  </tbody>\n",
       "</table>\n",
       "<p>96 rows × 3 columns</p>\n",
       "</div>"
      ],
      "text/plain": [
       "    Posição         Distrito  População 2010\n",
       "0         1           Grajaú         360.787\n",
       "1         2    Jardim Ângela         295.434\n",
       "2         3        Sapopemba         284.524\n",
       "3         4    Capão Redondo         268.729\n",
       "4         5  Jardim São Luís         267.871\n",
       "..      ...              ...             ...\n",
       "91       92          Jaguara          24.895\n",
       "92       93               Sé          23.651\n",
       "93       94             Pari          17.299\n",
       "94       95      Barra Funda          14.383\n",
       "95       96         Marsilac           8.258\n",
       "\n",
       "[96 rows x 3 columns]"
      ]
     },
     "execution_count": 9,
     "metadata": {},
     "output_type": "execute_result"
    }
   ],
   "source": [
    "df1=pd.read_csv(r'C:\\Users\\Danilo\\Downloads\\Capstone\\saopaulo_districts.csv')\n",
    "df1"
   ]
  },
  {
   "cell_type": "markdown",
   "metadata": {},
   "source": [
    "Generating a bar plot for total population in 2010 (Portuguese: 'população 2010') for each Sao Paulo district"
   ]
  },
  {
   "cell_type": "code",
   "execution_count": 10,
   "metadata": {},
   "outputs": [
    {
     "data": {
      "image/png": "[encoded data removed]",
      "text/plain": [
       "<Figure size 1872x720 with 1 Axes>"
      ]
     },
     "metadata": {
      "needs_background": "light"
     },
     "output_type": "display_data"
    }
   ],
   "source": [
    "df1.plot(x='Distrito',y='População 2010', kind='bar', figsize=(26, 10))\n",
    "plt.title('Bar plot for population in Sao Paulo districts (2010)')\n",
    "plt.ylabel('Population')\n",
    "plt.xlabel('Districts')\n",
    "plt.show()"
   ]
  },
  {
   "cell_type": "markdown",
   "metadata": {},
   "source": [
    "After scrapping district data it is ncessary to aggregate geographical coordinates. Tried Google services, but it asks the user a credit card number. Then geocoder class from Geopy client worked just fine to extract latitude and longitude coordinates for each Sao Paulo district. This data is uploaded to Google Drive and a method to call is 'gdown'."
   ]
  },
  {
   "cell_type": "code",
   "execution_count": 11,
   "metadata": {},
   "outputs": [
    {
     "name": "stderr",
     "output_type": "stream",
     "text": [
      "Downloading...\n",
      "From: https://drive.google.com/uc?id=1qa_jjyP9mwXkxc03A2jqkMnYMq8QlU6E\n",
      "To: C:\\Users\\Danilo\\Downloads\\Capstone\\spgeocoders.csv\n",
      "100%|██████████| 3.30k/3.30k [00:00<?, ?B/s]\n"
     ]
    },
    {
     "data": {
      "text/plain": [
       "'spgeocoders.csv'"
      ]
     },
     "execution_count": 11,
     "metadata": {},
     "output_type": "execute_result"
    }
   ],
   "source": [
    "# Used geopy boring loops to attach districts to lat and long data. Uploaded file to google drive. This is how I import it today\n",
    "import gdown\n",
    "url = 'https://drive.google.com/uc?id=1qa_jjyP9mwXkxc03A2jqkMnYMq8QlU6E'\n",
    "output = 'spgeocoders.csv'\n",
    "gdown.download(url, output, quiet=False)"
   ]
  },
  {
   "cell_type": "markdown",
   "metadata": {},
   "source": [
    "The above dataframe looks like the one below."
   ]
  },
  {
   "cell_type": "code",
   "execution_count": 12,
   "metadata": {},
   "outputs": [
    {
     "data": {
      "text/html": [
       "<div>\n",
       "<style scoped>\n",
       "    .dataframe tbody tr th:only-of-type {\n",
       "        vertical-align: middle;\n",
       "    }\n",
       "\n",
       "    .dataframe tbody tr th {\n",
       "        vertical-align: top;\n",
       "    }\n",
       "\n",
       "    .dataframe thead th {\n",
       "        text-align: right;\n",
       "    }\n",
       "</style>\n",
       "<table border=\"1\" class=\"dataframe\">\n",
       "  <thead>\n",
       "    <tr style=\"text-align: right;\">\n",
       "      <th></th>\n",
       "      <th>District</th>\n",
       "      <th>Latitude</th>\n",
       "      <th>Longitude</th>\n",
       "    </tr>\n",
       "  </thead>\n",
       "  <tbody>\n",
       "    <tr>\n",
       "      <th>0</th>\n",
       "      <td>Água Rasa</td>\n",
       "      <td>-23.565372</td>\n",
       "      <td>-46.573697</td>\n",
       "    </tr>\n",
       "    <tr>\n",
       "      <th>1</th>\n",
       "      <td>Alto de Pinheiros</td>\n",
       "      <td>-23.549549</td>\n",
       "      <td>-46.712155</td>\n",
       "    </tr>\n",
       "    <tr>\n",
       "      <th>2</th>\n",
       "      <td>Anhanguera</td>\n",
       "      <td>-23.432909</td>\n",
       "      <td>-46.788534</td>\n",
       "    </tr>\n",
       "    <tr>\n",
       "      <th>3</th>\n",
       "      <td>Aricanduva</td>\n",
       "      <td>-23.578024</td>\n",
       "      <td>-46.511454</td>\n",
       "    </tr>\n",
       "    <tr>\n",
       "      <th>4</th>\n",
       "      <td>Artur Alvim</td>\n",
       "      <td>-23.539221</td>\n",
       "      <td>-46.485265</td>\n",
       "    </tr>\n",
       "  </tbody>\n",
       "</table>\n",
       "</div>"
      ],
      "text/plain": [
       "            District   Latitude  Longitude\n",
       "0          Água Rasa -23.565372 -46.573697\n",
       "1  Alto de Pinheiros -23.549549 -46.712155\n",
       "2         Anhanguera -23.432909 -46.788534\n",
       "3         Aricanduva -23.578024 -46.511454\n",
       "4        Artur Alvim -23.539221 -46.485265"
      ]
     },
     "execution_count": 12,
     "metadata": {},
     "output_type": "execute_result"
    }
   ],
   "source": [
    "df = pd.read_csv('spgeocoders.csv')\n",
    "df.head()"
   ]
  },
  {
   "cell_type": "markdown",
   "metadata": {},
   "source": [
    "Entering Foursquare credentials for API requests."
   ]
  },
  {
   "cell_type": "code",
   "execution_count": 13,
   "metadata": {},
   "outputs": [],
   "source": [
    "# Foursquare credentials\n",
    "\n",
    "CLIENT_ID = 'KF1NUMEWXWSWVCALEAO2ZEQACAT5TGWSXQYHZZMURABZKAAM' # your Foursquare ID\n",
    "CLIENT_SECRET = '2YBQW1Q1UAWRIK3TBVJNCDOGTLOJ4NUU0MUI4DYXNWHQ5RQO' # your Foursquare Secret\n",
    "ACCESS_TOKEN = 'ZT4HFFZFHB55EQA0J2GP5OA00GKAZRZHFKJOMJHQPCYFPAOX' # your FourSquare Access Token\n",
    "VERSION = '20180604'"
   ]
  },
  {
   "cell_type": "markdown",
   "metadata": {},
   "source": [
    "### Defining all the functions used in this project¶"
   ]
  },
  {
   "cell_type": "markdown",
   "metadata": {},
   "source": [
    "1 - defining a function to collect all venues available in the districts, limiting to a total of 120 in a 600 meter radius\n",
    "\n",
    "2 - defining function to collect information about selected business. By passing venues ID's it will return likes, tips, ratings, etc for each business assocoiated to this project\n",
    "\n",
    "3 - defining the 10 most common venue category for each district"
   ]
  },
  {
   "cell_type": "code",
   "execution_count": 14,
   "metadata": {},
   "outputs": [],
   "source": [
    "#1\n",
    "def getNearbyVenues(names, latitudes, longitudes, LIMIT=120, radius=600):\n",
    "    \n",
    "    venues_list=[]\n",
    "    for name, lat, lng in zip(names, latitudes, longitudes):\n",
    "        print(name)\n",
    "            \n",
    "        # create the API request URL\n",
    "        url = 'https://api.foursquare.com/v2/venues/explore?&client_id={}&client_secret={}&v={}&ll={},{}&radius={}&limit={}'.format(\n",
    "            CLIENT_ID, \n",
    "            CLIENT_SECRET, \n",
    "            VERSION, \n",
    "            lat, \n",
    "            lng, \n",
    "            radius, \n",
    "            LIMIT)\n",
    "            \n",
    "        # make the GET request\n",
    "        results = requests.get(url).json()['response']['groups'][0]['items']\n",
    "        \n",
    "        # return only relevant information for each nearby venue\n",
    "        venues_list.append([(\n",
    "            name, \n",
    "            v['venue']['id'],\n",
    "            v['venue']['name'],   \n",
    "            v['venue']['categories'][0]['name']) for v in results])\n",
    "\n",
    "    nearby_venues = pd.DataFrame([item for venue_list in venues_list for item in venue_list])\n",
    "    nearby_venues.columns = ['District', \n",
    "                             'ID', \n",
    "                             'Venue', \n",
    "                             'Category']\n",
    "    \n",
    "    return(nearby_venues)\n",
    "\n",
    "#2\n",
    "\n",
    "def get_venue_details(venue_id):\n",
    "        \n",
    "    #url to fetch data from foursquare api\n",
    "    url = 'https://api.foursquare.com/v2/venues/{}?&client_id={}&client_secret={}&v={}'.format(\n",
    "            venue_id,\n",
    "            CLIENT_ID, \n",
    "            CLIENT_SECRET, \n",
    "            VERSION)\n",
    "    \n",
    "    # get all the data\n",
    "    results = requests.get(url).json()\n",
    "    venue_data = results['response']['venue']\n",
    "    \n",
    "    venue_details=[]\n",
    "    try:\n",
    "        venue_name = venue_data['name']\n",
    "        venue_likes = venue_data['likes']['count']\n",
    "        venue_rating = venue_data['rating']\n",
    "        venue_tips = venue_data['tips']['count']\n",
    "        venue_details.append([venue_name, venue_likes, venue_rating, venue_tips])\n",
    "    except KeyError:\n",
    "        pass\n",
    "        \n",
    "    column_names = ['Venue', 'Likes', 'Rating', 'Tips']\n",
    "    info_df = pd.DataFrame(venue_details, columns=column_names)\n",
    "    return info_df\n",
    "\n",
    "#3\n",
    "\n",
    "def most_common_venues(row, num_top_venues):\n",
    "    row_categories = row.iloc[1:]\n",
    "    row_categories_sorted = row_categories.sort_values(ascending=False)\n",
    "    \n",
    "    return row_categories_sorted.index.values[0:num_top_venues]\n"
   ]
  },
  {
   "cell_type": "code",
   "execution_count": 15,
   "metadata": {},
   "outputs": [
    {
     "name": "stdout",
     "output_type": "stream",
     "text": [
      "Água Rasa\n",
      "Alto de Pinheiros\n",
      "Anhanguera\n",
      "Aricanduva\n",
      "Artur Alvim\n",
      "Barra Funda\n",
      "Bela Vista\n",
      "Belém\n",
      "Bom Retiro\n",
      "Brás\n",
      "Brasilândia\n",
      "Butantã\n",
      "Cachoeirinha\n",
      "Cambuci\n",
      "Campo Belo\n",
      "Campo Grande\n",
      "Campo Limpo\n",
      "Cangaíba\n",
      "Capão Redondo\n",
      "Carrão \n",
      "Casa Verde\n",
      "Cidade Ademar\n",
      "Cidade Dutra\n",
      "Cidade Líder\n",
      "Cidade Tiradentes\n",
      "Consolação\n",
      "Cursino\n",
      "Ermelino Matarazzo\n",
      "Freguesia do Ó\n",
      "Grajaú\n",
      "Guaianazes\n",
      "Iguatemi\n",
      "Ipiranga\n",
      "Itaim Bibi\n",
      "Itaim Paulista\n",
      "Itaquera\n",
      "Jabaquara\n",
      "Jaçanã\n",
      "Jaguará\n",
      "Jaguaré\n",
      "Jaraguá\n",
      "Jardim Ângela\n",
      "Jardim Helena\n",
      "Jardim Paulista\n",
      "Jardim São Luís\n",
      "José Bonifácio\n",
      "Lapa\n",
      "Lajeado\n",
      "Liberdade\n",
      "Limão\n",
      "Mandaqui\n",
      "Marsilac\n",
      "Moema\n",
      "Mooca\n",
      "Morumbi\n",
      "Parelheiros\n",
      "Pari\n",
      "Parque do Carmo\n",
      "Penha\n",
      "Pedreira\n",
      "Perdizes\n",
      "Perus\n",
      "Pinheiros\n",
      "Pirituba\n",
      "Ponte Rasa\n",
      "Raposo Tavares\n",
      "República\n",
      "Rio Pequeno\n",
      "Sacomã\n",
      "Santa Cecília\n",
      "Santana\n",
      "Santo Amaro\n",
      "São Domingos\n",
      "São Lucas\n",
      "São Mateus\n",
      "São Miguel\n",
      "São Rafael\n",
      "Sapopemba\n",
      "Saúde\n",
      "Sé\n",
      "Socorro\n",
      "Tatuapé\n",
      "Tremembé\n",
      "Tucuruvi\n",
      "Vila Andrade\n",
      "Vila Curuçá\n",
      "Vila Formosa\n",
      "Vila Guilherme\n",
      "Vila Jacuí\n",
      "Vila Leopoldina\n",
      "Vila Maria\n",
      "Vila Mariana\n",
      "Vila Matilde\n",
      "Vila Medeiros\n",
      "Vila Prudente\n",
      "Vila Sônia\n"
     ]
    }
   ],
   "source": [
    "sao_paulo_venues = getNearbyVenues(names=df['District'], latitudes=df['Latitude'], longitudes=df['Longitude'])"
   ]
  },
  {
   "cell_type": "markdown",
   "metadata": {},
   "source": [
    "Let us take a look at our dataframe."
   ]
  },
  {
   "cell_type": "code",
   "execution_count": 16,
   "metadata": {},
   "outputs": [
    {
     "name": "stdout",
     "output_type": "stream",
     "text": [
      "(3341, 4)\n"
     ]
    }
   ],
   "source": [
    "print(sao_paulo_venues.shape)\n",
    "sao_paulo_venues.head()\n",
    "sao_paulo_venues.to_csv(r'C:\\Users\\Danilo\\Downloads\\Capstone\\export_dataframe.csv', index = False, header=True)"
   ]
  },
  {
   "cell_type": "markdown",
   "metadata": {},
   "source": [
    "A total 3317 venues collected.\n",
    "By downloading the spreadsheet, it is psossible to find 'pet stores'. A common term used for such business in Brazil is'pet shop', but Fousquare collect it in a different designation.\n",
    "\n",
    "Identifying 'Pet Store' in Sao Paulo: "
   ]
  },
  {
   "cell_type": "code",
   "execution_count": 17,
   "metadata": {},
   "outputs": [
    {
     "data": {
      "text/html": [
       "<div>\n",
       "<style scoped>\n",
       "    .dataframe tbody tr th:only-of-type {\n",
       "        vertical-align: middle;\n",
       "    }\n",
       "\n",
       "    .dataframe tbody tr th {\n",
       "        vertical-align: top;\n",
       "    }\n",
       "\n",
       "    .dataframe thead th {\n",
       "        text-align: right;\n",
       "    }\n",
       "</style>\n",
       "<table border=\"1\" class=\"dataframe\">\n",
       "  <thead>\n",
       "    <tr style=\"text-align: right;\">\n",
       "      <th></th>\n",
       "      <th>District</th>\n",
       "      <th>ID</th>\n",
       "      <th>Venue</th>\n",
       "      <th>Category</th>\n",
       "    </tr>\n",
       "  </thead>\n",
       "  <tbody>\n",
       "    <tr>\n",
       "      <th>57</th>\n",
       "      <td>Anhanguera</td>\n",
       "      <td>5308937d498e95ade0237fb2</td>\n",
       "      <td>Au Miau e Cia Pet Shop</td>\n",
       "      <td>Pet Store</td>\n",
       "    </tr>\n",
       "    <tr>\n",
       "      <th>88</th>\n",
       "      <td>Artur Alvim</td>\n",
       "      <td>4e275f91e4cd6c6cb33c58fc</td>\n",
       "      <td>Petcom</td>\n",
       "      <td>Pet Store</td>\n",
       "    </tr>\n",
       "    <tr>\n",
       "      <th>177</th>\n",
       "      <td>Bela Vista</td>\n",
       "      <td>4d18d248cc216ea82fd078d3</td>\n",
       "      <td>Mac Dog</td>\n",
       "      <td>Pet Store</td>\n",
       "    </tr>\n",
       "    <tr>\n",
       "      <th>499</th>\n",
       "      <td>Campo Belo</td>\n",
       "      <td>4c9edf387ada199c4f479cbc</td>\n",
       "      <td>Dognostic</td>\n",
       "      <td>Pet Store</td>\n",
       "    </tr>\n",
       "    <tr>\n",
       "      <th>535</th>\n",
       "      <td>Campo Belo</td>\n",
       "      <td>52a60b7f11d282bb061d38ce</td>\n",
       "      <td>Pet Shop O Mundo de Bono</td>\n",
       "      <td>Pet Store</td>\n",
       "    </tr>\n",
       "  </tbody>\n",
       "</table>\n",
       "</div>"
      ],
      "text/plain": [
       "        District                        ID                     Venue  \\\n",
       "57    Anhanguera  5308937d498e95ade0237fb2    Au Miau e Cia Pet Shop   \n",
       "88   Artur Alvim  4e275f91e4cd6c6cb33c58fc                    Petcom   \n",
       "177   Bela Vista  4d18d248cc216ea82fd078d3                   Mac Dog   \n",
       "499   Campo Belo  4c9edf387ada199c4f479cbc                 Dognostic   \n",
       "535   Campo Belo  52a60b7f11d282bb061d38ce  Pet Shop O Mundo de Bono   \n",
       "\n",
       "      Category  \n",
       "57   Pet Store  \n",
       "88   Pet Store  \n",
       "177  Pet Store  \n",
       "499  Pet Store  \n",
       "535  Pet Store  "
      ]
     },
     "execution_count": 17,
     "metadata": {},
     "output_type": "execute_result"
    }
   ],
   "source": [
    "pet = sao_paulo_venues[sao_paulo_venues['Category'] == 'Pet Store']\n",
    "pet.head()"
   ]
  },
  {
   "cell_type": "code",
   "execution_count": 18,
   "metadata": {},
   "outputs": [
    {
     "name": "stdout",
     "output_type": "stream",
     "text": [
      "There are 47 Pet Stores in Sao Paulo.\n"
     ]
    }
   ],
   "source": [
    "print('There are {} Pet Stores in Sao Paulo.'.format(pet.shape[0]))"
   ]
  },
  {
   "cell_type": "code",
   "execution_count": 19,
   "metadata": {},
   "outputs": [
    {
     "data": {
      "image/png": "[encoded data removed]",
      "text/plain": [
       "<Figure size 864x576 with 1 Axes>"
      ]
     },
     "metadata": {
      "needs_background": "light"
     },
     "output_type": "display_data"
    }
   ],
   "source": [
    "plt.figure(figsize=(12, 8))\n",
    "pet.groupby('District')['Venue'].count().plot(kind='bar', fontsize=14)\n",
    "plt.title('Pet Stores in Sao Paulo by District', fontsize=15)\n",
    "plt.ylabel('Number of Pet Stores', fontsize=13)\n",
    "plt.show()"
   ]
  },
  {
   "cell_type": "markdown",
   "metadata": {},
   "source": [
    "There are 47 pet stores in Sao Paulo city.\n",
    "\n",
    "CampoBelo, Liberdade and Vila Mariana districts present higher number of pet stores.\n",
    "\n",
    "Use for loop to collect likes, rating and tips info in each district"
   ]
  },
  {
   "cell_type": "code",
   "execution_count": 20,
   "metadata": {},
   "outputs": [
    {
     "name": "stdout",
     "output_type": "stream",
     "text": [
      "Empty DataFrame\n",
      "Columns: [Venue, Likes, Rating, Tips]\n",
      "Index: []\n",
      "No data available for id =  5308937d498e95ade0237fb2\n",
      "( 1 / 47 ) processed\n",
      "    Venue  Likes  Rating  Tips\n",
      "0  Petcom     20     6.4     9\n",
      "( 2 / 47 ) processed\n",
      "     Venue  Likes  Rating  Tips\n",
      "0  Mac Dog     24     8.7     8\n",
      "( 3 / 47 ) processed\n",
      "       Venue  Likes  Rating  Tips\n",
      "0  Dognostic     37     8.4     9\n",
      "( 4 / 47 ) processed\n",
      "                      Venue  Likes  Rating  Tips\n",
      "0  Pet Shop O Mundo de Bono      9     7.8     2\n",
      "( 5 / 47 ) processed\n",
      "     Venue  Likes  Rating  Tips\n",
      "0  Petland     12     7.3     6\n",
      "( 6 / 47 ) processed\n",
      "                     Venue  Likes  Rating  Tips\n",
      "0  Planeta Dog Rações Ltda     15     6.8     2\n",
      "( 7 / 47 ) processed\n",
      "      Venue  Likes  Rating  Tips\n",
      "0  Pet Zoom      8     7.1     4\n",
      "( 8 / 47 ) processed\n",
      "                           Venue  Likes  Rating  Tips\n",
      "0  Centro Veterinário Bom Pastor     12     8.1     8\n",
      "( 9 / 47 ) processed\n",
      "  Venue  Likes  Rating  Tips\n",
      "0  Petz    128     9.1     5\n",
      "( 10 / 47 ) processed\n",
      "Empty DataFrame\n",
      "Columns: [Venue, Likes, Rating, Tips]\n",
      "Index: []\n",
      "No data available for id =  534012bb498eca34f882d821\n",
      "( 11 / 47 ) processed\n",
      "      Venue  Likes  Rating  Tips\n",
      "0  Pet Maxi     26     7.7     3\n",
      "( 12 / 47 ) processed\n",
      "Empty DataFrame\n",
      "Columns: [Venue, Likes, Rating, Tips]\n",
      "Index: []\n",
      "No data available for id =  5491fe71498ee220d8b4d86c\n",
      "( 13 / 47 ) processed\n",
      "Empty DataFrame\n",
      "Columns: [Venue, Likes, Rating, Tips]\n",
      "Index: []\n",
      "No data available for id =  4ebaf14cb803f3246e6b3494\n",
      "( 14 / 47 ) processed\n",
      "    Venue  Likes  Rating  Tips\n",
      "0  Cobasi    651     9.0    62\n",
      "( 15 / 47 ) processed\n",
      "           Venue  Likes  Rating  Tips\n",
      "0  Encrenquinhas     21     7.6     8\n",
      "( 16 / 47 ) processed\n",
      "     Venue  Likes  Rating  Tips\n",
      "0  Petland     23     8.8     4\n",
      "( 17 / 47 ) processed\n",
      "             Venue  Likes  Rating  Tips\n",
      "0  Kaklau Pet Shop      7     8.1     5\n",
      "( 18 / 47 ) processed\n",
      "          Venue  Likes  Rating  Tips\n",
      "0  Yes Pet Shop     11     8.3     1\n",
      "( 19 / 47 ) processed\n",
      "                                       Venue  Likes  Rating  Tips\n",
      "0  Pet Shower Clínica Veterinária e Pet Shop      9     8.1    10\n",
      "( 20 / 47 ) processed\n",
      "         Venue  Likes  Rating  Tips\n",
      "0  Au Au Mania     23     8.4     5\n",
      "( 21 / 47 ) processed\n",
      "               Venue  Likes  Rating  Tips\n",
      "0  Focinhos Pet Shop     10     6.9     5\n",
      "( 22 / 47 ) processed\n",
      "                           Venue  Likes  Rating  Tips\n",
      "0  Petcetera Clínica Veterinária      9     7.5     1\n",
      "( 23 / 47 ) processed\n",
      "                 Venue  Likes  Rating  Tips\n",
      "0  Perdizes Pet Center     11     7.5     2\n",
      "( 24 / 47 ) processed\n",
      "                     Venue  Likes  Rating  Tips\n",
      "0  Mercado Animal Pet Shop      8     6.8     3\n",
      "( 25 / 47 ) processed\n",
      "         Venue  Likes  Rating  Tips\n",
      "0  Yoma Rações     28     7.2     2\n",
      "( 26 / 47 ) processed\n",
      "Empty DataFrame\n",
      "Columns: [Venue, Likes, Rating, Tips]\n",
      "Index: []\n",
      "No data available for id =  4f48c9c4e4b06a7742582843\n",
      "( 27 / 47 ) processed\n",
      "                 Venue  Likes  Rating  Tips\n",
      "0  Focinhos & Rabinhos      3     7.2     7\n",
      "( 28 / 47 ) processed\n",
      "    Venue  Likes  Rating  Tips\n",
      "0  Cobasi    309     8.8    50\n",
      "( 29 / 47 ) processed\n",
      "                  Venue  Likes  Rating  Tips\n",
      "0  Petcom Pq. São Lucas      6     7.2     1\n",
      "( 30 / 47 ) processed\n",
      "               Venue  Likes  Rating  Tips\n",
      "0  Petz Anhaia Mello      7     7.9     0\n",
      "( 31 / 47 ) processed\n",
      "          Venue  Likes  Rating  Tips\n",
      "0  Reino Animal     10     7.1     6\n",
      "( 32 / 47 ) processed\n",
      "         Venue  Likes  Rating  Tips\n",
      "0  MCM Petshop      6     7.4     4\n",
      "( 33 / 47 ) processed\n",
      "         Venue  Likes  Rating  Tips\n",
      "0  Animalândia     11     7.1     3\n",
      "( 34 / 47 ) processed\n",
      "                             Venue  Likes  Rating  Tips\n",
      "0  Tric Tric's e Firulas Pet Store      5     7.5     6\n",
      "( 35 / 47 ) processed\n",
      "                  Venue  Likes  Rating  Tips\n",
      "0  Pet Shop Canto Lindo     17     8.2     2\n",
      "( 36 / 47 ) processed\n",
      "               Venue  Likes  Rating  Tips\n",
      "0  Bicho No Capricho     16     7.1     7\n",
      "( 37 / 47 ) processed\n",
      "           Venue  Likes  Rating  Tips\n",
      "0  Au Au Que Mia     20     6.8     3\n",
      "( 38 / 47 ) processed\n",
      "               Venue  Likes  Rating  Tips\n",
      "0  Alvorada Pet Shop      9     6.6     3\n",
      "( 39 / 47 ) processed\n",
      "  Venue  Likes  Rating  Tips\n",
      "0  Petz      3     7.5     1\n",
      "( 40 / 47 ) processed\n",
      "    Venue  Likes  Rating  Tips\n",
      "0  PetBoo     19     7.8     4\n",
      "( 41 / 47 ) processed\n",
      "                            Venue  Likes  Rating  Tips\n",
      "0  Sociedade dos Animais Pet Shop     16     7.4     3\n",
      "( 42 / 47 ) processed\n",
      "       Venue  Likes  Rating  Tips\n",
      "0  Zelão Dog      9     6.8     5\n",
      "( 43 / 47 ) processed\n",
      "              Venue  Likes  Rating  Tips\n",
      "0  Fofinho Pet Shop     12     7.6     2\n",
      "( 44 / 47 ) processed\n",
      "                  Venue  Likes  Rating  Tips\n",
      "0  Pet Shop Quero Quero     11     7.6     3\n",
      "( 45 / 47 ) processed\n",
      "                   Venue  Likes  Rating  Tips\n",
      "0  Algodão Doce Pet Shop     21     7.7     8\n",
      "( 46 / 47 ) processed\n",
      "Empty DataFrame\n",
      "Columns: [Venue, Likes, Rating, Tips]\n",
      "Index: []\n",
      "No data available for id =  4faaaf18e4b00256e5e79045\n",
      "( 47 / 47 ) processed\n"
     ]
    }
   ],
   "source": [
    "column_names = ['District', 'Venue', 'Likes', 'Rating', 'Tips']\n",
    "pet_stats = pd.DataFrame(columns=column_names)\n",
    "count = 1\n",
    "\n",
    "for row in pet.values.tolist():\n",
    "    District, ID, Venue, Category = row\n",
    "    try:\n",
    "        venue_details = get_venue_details(ID)\n",
    "        print(venue_details)\n",
    "        venue, likes, rating, tips = venue_details.values.tolist()[0]\n",
    "    except IndexError:\n",
    "        print('No data available for id = ', ID)\n",
    "        \n",
    "        # we will assign 0 value for these resturants as they may have been \n",
    "        #recently opened or details does not exist in FourSquare Database\n",
    "        venue, likes, rating, tips = [0] * 4\n",
    "    print('(', count, '/', len(pet),')', 'processed')\n",
    "    pet_stats = pet_stats.append({'District': District, \n",
    "                                'Venue' : venue,\n",
    "                                'Likes' : likes,\n",
    "                                'Rating' : rating,\n",
    "                                'Tips' : tips}, ignore_index=True)\n",
    "    count += 1"
   ]
  },
  {
   "cell_type": "markdown",
   "metadata": {},
   "source": [
    "Let us take a look at the stats dataframe"
   ]
  },
  {
   "cell_type": "code",
   "execution_count": 21,
   "metadata": {},
   "outputs": [
    {
     "data": {
      "text/html": [
       "<div>\n",
       "<style scoped>\n",
       "    .dataframe tbody tr th:only-of-type {\n",
       "        vertical-align: middle;\n",
       "    }\n",
       "\n",
       "    .dataframe tbody tr th {\n",
       "        vertical-align: top;\n",
       "    }\n",
       "\n",
       "    .dataframe thead th {\n",
       "        text-align: right;\n",
       "    }\n",
       "</style>\n",
       "<table border=\"1\" class=\"dataframe\">\n",
       "  <thead>\n",
       "    <tr style=\"text-align: right;\">\n",
       "      <th></th>\n",
       "      <th>District</th>\n",
       "      <th>Venue</th>\n",
       "      <th>Likes</th>\n",
       "      <th>Rating</th>\n",
       "      <th>Tips</th>\n",
       "    </tr>\n",
       "  </thead>\n",
       "  <tbody>\n",
       "    <tr>\n",
       "      <th>0</th>\n",
       "      <td>Anhanguera</td>\n",
       "      <td>0</td>\n",
       "      <td>0</td>\n",
       "      <td>0</td>\n",
       "      <td>0</td>\n",
       "    </tr>\n",
       "    <tr>\n",
       "      <th>1</th>\n",
       "      <td>Artur Alvim</td>\n",
       "      <td>Petcom</td>\n",
       "      <td>20</td>\n",
       "      <td>6.4</td>\n",
       "      <td>9</td>\n",
       "    </tr>\n",
       "    <tr>\n",
       "      <th>2</th>\n",
       "      <td>Bela Vista</td>\n",
       "      <td>Mac Dog</td>\n",
       "      <td>24</td>\n",
       "      <td>8.7</td>\n",
       "      <td>8</td>\n",
       "    </tr>\n",
       "    <tr>\n",
       "      <th>3</th>\n",
       "      <td>Campo Belo</td>\n",
       "      <td>Dognostic</td>\n",
       "      <td>37</td>\n",
       "      <td>8.4</td>\n",
       "      <td>9</td>\n",
       "    </tr>\n",
       "    <tr>\n",
       "      <th>4</th>\n",
       "      <td>Campo Belo</td>\n",
       "      <td>Pet Shop O Mundo de Bono</td>\n",
       "      <td>9</td>\n",
       "      <td>7.8</td>\n",
       "      <td>2</td>\n",
       "    </tr>\n",
       "  </tbody>\n",
       "</table>\n",
       "</div>"
      ],
      "text/plain": [
       "      District                     Venue Likes Rating Tips\n",
       "0   Anhanguera                         0     0      0    0\n",
       "1  Artur Alvim                    Petcom    20    6.4    9\n",
       "2   Bela Vista                   Mac Dog    24    8.7    8\n",
       "3   Campo Belo                 Dognostic    37    8.4    9\n",
       "4   Campo Belo  Pet Shop O Mundo de Bono     9    7.8    2"
      ]
     },
     "execution_count": 21,
     "metadata": {},
     "output_type": "execute_result"
    }
   ],
   "source": [
    "pet_stats.head()"
   ]
  },
  {
   "cell_type": "markdown",
   "metadata": {},
   "source": [
    "Analyzing the dataframe to check each type of each column. For example, is District a object?"
   ]
  },
  {
   "cell_type": "code",
   "execution_count": 22,
   "metadata": {},
   "outputs": [
    {
     "name": "stdout",
     "output_type": "stream",
     "text": [
      "<class 'pandas.core.frame.DataFrame'>\n",
      "RangeIndex: 47 entries, 0 to 46\n",
      "Data columns (total 5 columns):\n",
      " #   Column    Non-Null Count  Dtype \n",
      "---  ------    --------------  ----- \n",
      " 0   District  47 non-null     object\n",
      " 1   Venue     47 non-null     object\n",
      " 2   Likes     47 non-null     object\n",
      " 3   Rating    47 non-null     object\n",
      " 4   Tips      47 non-null     object\n",
      "dtypes: object(5)\n",
      "memory usage: 2.0+ KB\n"
     ]
    }
   ],
   "source": [
    "pet_stats.info()"
   ]
  },
  {
   "cell_type": "markdown",
   "metadata": {},
   "source": [
    "District and  venue are okay.\n",
    "Likes, rating and tips need to be converted to float64."
   ]
  },
  {
   "cell_type": "code",
   "execution_count": 23,
   "metadata": {},
   "outputs": [
    {
     "name": "stdout",
     "output_type": "stream",
     "text": [
      "<class 'pandas.core.frame.DataFrame'>\n",
      "RangeIndex: 47 entries, 0 to 46\n",
      "Data columns (total 5 columns):\n",
      " #   Column    Non-Null Count  Dtype  \n",
      "---  ------    --------------  -----  \n",
      " 0   District  47 non-null     object \n",
      " 1   Venue     47 non-null     object \n",
      " 2   Likes     47 non-null     float64\n",
      " 3   Rating    47 non-null     float64\n",
      " 4   Tips      47 non-null     float64\n",
      "dtypes: float64(3), object(2)\n",
      "memory usage: 2.0+ KB\n"
     ]
    }
   ],
   "source": [
    "pet_stats['Likes']=pet_stats['Likes'].astype('float64')\n",
    "pet_stats['Rating']=pet_stats['Rating'].astype('float64')\n",
    "pet_stats['Tips']=pet_stats['Tips'].astype('float64')\n",
    "pet_stats.info()"
   ]
  },
  {
   "cell_type": "markdown",
   "metadata": {},
   "source": [
    "### Data types look correct, let's continue our analysis"
   ]
  },
  {
   "cell_type": "code",
   "execution_count": 24,
   "metadata": {},
   "outputs": [
    {
     "data": {
      "text/html": [
       "<div>\n",
       "<style scoped>\n",
       "    .dataframe tbody tr th:only-of-type {\n",
       "        vertical-align: middle;\n",
       "    }\n",
       "\n",
       "    .dataframe tbody tr th {\n",
       "        vertical-align: top;\n",
       "    }\n",
       "\n",
       "    .dataframe thead th {\n",
       "        text-align: right;\n",
       "    }\n",
       "</style>\n",
       "<table border=\"1\" class=\"dataframe\">\n",
       "  <thead>\n",
       "    <tr style=\"text-align: right;\">\n",
       "      <th></th>\n",
       "      <th>Likes</th>\n",
       "      <th>Rating</th>\n",
       "      <th>Tips</th>\n",
       "    </tr>\n",
       "  </thead>\n",
       "  <tbody>\n",
       "    <tr>\n",
       "      <th>count</th>\n",
       "      <td>47.000000</td>\n",
       "      <td>47.000000</td>\n",
       "      <td>47.000000</td>\n",
       "    </tr>\n",
       "    <tr>\n",
       "      <th>mean</th>\n",
       "      <td>34.297872</td>\n",
       "      <td>6.657447</td>\n",
       "      <td>6.000000</td>\n",
       "    </tr>\n",
       "    <tr>\n",
       "      <th>std</th>\n",
       "      <td>103.185337</td>\n",
       "      <td>2.651312</td>\n",
       "      <td>11.088576</td>\n",
       "    </tr>\n",
       "    <tr>\n",
       "      <th>min</th>\n",
       "      <td>0.000000</td>\n",
       "      <td>0.000000</td>\n",
       "      <td>0.000000</td>\n",
       "    </tr>\n",
       "    <tr>\n",
       "      <th>25%</th>\n",
       "      <td>7.000000</td>\n",
       "      <td>6.850000</td>\n",
       "      <td>2.000000</td>\n",
       "    </tr>\n",
       "    <tr>\n",
       "      <th>50%</th>\n",
       "      <td>11.000000</td>\n",
       "      <td>7.500000</td>\n",
       "      <td>3.000000</td>\n",
       "    </tr>\n",
       "    <tr>\n",
       "      <th>75%</th>\n",
       "      <td>20.000000</td>\n",
       "      <td>8.000000</td>\n",
       "      <td>6.000000</td>\n",
       "    </tr>\n",
       "    <tr>\n",
       "      <th>max</th>\n",
       "      <td>651.000000</td>\n",
       "      <td>9.100000</td>\n",
       "      <td>62.000000</td>\n",
       "    </tr>\n",
       "  </tbody>\n",
       "</table>\n",
       "</div>"
      ],
      "text/plain": [
       "            Likes     Rating       Tips\n",
       "count   47.000000  47.000000  47.000000\n",
       "mean    34.297872   6.657447   6.000000\n",
       "std    103.185337   2.651312  11.088576\n",
       "min      0.000000   0.000000   0.000000\n",
       "25%      7.000000   6.850000   2.000000\n",
       "50%     11.000000   7.500000   3.000000\n",
       "75%     20.000000   8.000000   6.000000\n",
       "max    651.000000   9.100000  62.000000"
      ]
     },
     "execution_count": 24,
     "metadata": {},
     "output_type": "execute_result"
    }
   ],
   "source": [
    "pet_stats.describe()"
   ]
  },
  {
   "cell_type": "code",
   "execution_count": 25,
   "metadata": {},
   "outputs": [
    {
     "data": {
      "text/plain": [
       "District    Jardim Paulista\n",
       "Venue                Cobasi\n",
       "Likes                   651\n",
       "Rating                    9\n",
       "Tips                     62\n",
       "Name: 14, dtype: object"
      ]
     },
     "execution_count": 25,
     "metadata": {},
     "output_type": "execute_result"
    }
   ],
   "source": [
    "# venue with most likes\n",
    "pet_stats.iloc[pet_stats['Likes'].idxmax()]"
   ]
  },
  {
   "cell_type": "code",
   "execution_count": 26,
   "metadata": {},
   "outputs": [
    {
     "data": {
      "text/plain": [
       "District    Itaim Bibi\n",
       "Venue             Petz\n",
       "Likes              128\n",
       "Rating             9.1\n",
       "Tips                 5\n",
       "Name: 9, dtype: object"
      ]
     },
     "execution_count": 26,
     "metadata": {},
     "output_type": "execute_result"
    }
   ],
   "source": [
    "# venue with best rating\n",
    "pet_stats.iloc[pet_stats['Rating'].idxmax()]"
   ]
  },
  {
   "cell_type": "code",
   "execution_count": 27,
   "metadata": {},
   "outputs": [
    {
     "data": {
      "text/plain": [
       "District    Jardim Paulista\n",
       "Venue                Cobasi\n",
       "Likes                   651\n",
       "Rating                    9\n",
       "Tips                     62\n",
       "Name: 14, dtype: object"
      ]
     },
     "execution_count": 27,
     "metadata": {},
     "output_type": "execute_result"
    }
   ],
   "source": [
    "# venue with most tips\n",
    "pet_stats.iloc[pet_stats['Tips'].idxmax()]"
   ]
  },
  {
   "cell_type": "markdown",
   "metadata": {},
   "source": [
    "Cobasi in Jardim Paulista district has the most likes and tips count. Petz in Itaim Bibi district is the highest rated.\n",
    "\n",
    "In table bwlow is listed pet stores in each district in terms of average rating (descending order)."
   ]
  },
  {
   "cell_type": "code",
   "execution_count": 28,
   "metadata": {},
   "outputs": [
    {
     "data": {
      "text/html": [
       "<div>\n",
       "<style scoped>\n",
       "    .dataframe tbody tr th:only-of-type {\n",
       "        vertical-align: middle;\n",
       "    }\n",
       "\n",
       "    .dataframe tbody tr th {\n",
       "        vertical-align: top;\n",
       "    }\n",
       "\n",
       "    .dataframe thead th {\n",
       "        text-align: right;\n",
       "    }\n",
       "</style>\n",
       "<table border=\"1\" class=\"dataframe\">\n",
       "  <thead>\n",
       "    <tr style=\"text-align: right;\">\n",
       "      <th></th>\n",
       "      <th>District</th>\n",
       "      <th>Average Rating</th>\n",
       "    </tr>\n",
       "  </thead>\n",
       "  <tbody>\n",
       "    <tr>\n",
       "      <th>7</th>\n",
       "      <td>Itaim Bibi</td>\n",
       "      <td>9.100000</td>\n",
       "    </tr>\n",
       "    <tr>\n",
       "      <th>19</th>\n",
       "      <td>Santo Amaro</td>\n",
       "      <td>8.800000</td>\n",
       "    </tr>\n",
       "    <tr>\n",
       "      <th>2</th>\n",
       "      <td>Bela Vista</td>\n",
       "      <td>8.700000</td>\n",
       "    </tr>\n",
       "    <tr>\n",
       "      <th>12</th>\n",
       "      <td>Liberdade</td>\n",
       "      <td>8.325000</td>\n",
       "    </tr>\n",
       "    <tr>\n",
       "      <th>10</th>\n",
       "      <td>Jardim Paulista</td>\n",
       "      <td>8.300000</td>\n",
       "    </tr>\n",
       "    <tr>\n",
       "      <th>24</th>\n",
       "      <td>Tucuruvi</td>\n",
       "      <td>8.200000</td>\n",
       "    </tr>\n",
       "    <tr>\n",
       "      <th>6</th>\n",
       "      <td>Ipiranga</td>\n",
       "      <td>8.100000</td>\n",
       "    </tr>\n",
       "    <tr>\n",
       "      <th>3</th>\n",
       "      <td>Campo Belo</td>\n",
       "      <td>7.833333</td>\n",
       "    </tr>\n",
       "    <tr>\n",
       "      <th>13</th>\n",
       "      <td>Moema</td>\n",
       "      <td>7.650000</td>\n",
       "    </tr>\n",
       "    <tr>\n",
       "      <th>29</th>\n",
       "      <td>Vila Matilde</td>\n",
       "      <td>7.600000</td>\n",
       "    </tr>\n",
       "  </tbody>\n",
       "</table>\n",
       "</div>"
      ],
      "text/plain": [
       "           District  Average Rating\n",
       "7        Itaim Bibi        9.100000\n",
       "19      Santo Amaro        8.800000\n",
       "2        Bela Vista        8.700000\n",
       "12        Liberdade        8.325000\n",
       "10  Jardim Paulista        8.300000\n",
       "24         Tucuruvi        8.200000\n",
       "6          Ipiranga        8.100000\n",
       "3        Campo Belo        7.833333\n",
       "13            Moema        7.650000\n",
       "29     Vila Matilde        7.600000"
      ]
     },
     "execution_count": 28,
     "metadata": {},
     "output_type": "execute_result"
    }
   ],
   "source": [
    "pet_districts = pet_stats.groupby('District', as_index=False).mean()[['District', 'Rating']]\n",
    "pet_districts.columns = ['District', 'Average Rating']\n",
    "pet_districts.sort_values(['Average Rating'], ascending=False).head(10)"
   ]
  },
  {
   "cell_type": "markdown",
   "metadata": {},
   "source": [
    "### Visualizing the results"
   ]
  },
  {
   "cell_type": "code",
   "execution_count": 29,
   "metadata": {},
   "outputs": [
    {
     "data": {
      "image/png": "[encoded data removed]",
      "text/plain": [
       "<Figure size 900x500 with 1 Axes>"
      ]
     },
     "metadata": {
      "needs_background": "light"
     },
     "output_type": "display_data"
    }
   ],
   "source": [
    "plt.figure(figsize=(9,5), dpi = 100)\n",
    "plt.title('Average rating of Pet Stores for each district')\n",
    "plt.xlabel('District', fontsize = 15)\n",
    "plt.ylabel('Average Rating', fontsize=15)\n",
    "pet_stats.groupby('District', as_index=True).mean()['Rating'].plot(kind='bar')\n",
    "plt.legend()\n",
    "plt.show()"
   ]
  },
  {
   "cell_type": "markdown",
   "metadata": {},
   "source": [
    "Foursquare API returned no pet stores in a few districts.\n",
    "\n",
    "We will consider all the neighborhoods with average rating greater or equal 7.0 to visualize on a map thus eliminating those with no stores."
   ]
  },
  {
   "cell_type": "code",
   "execution_count": 30,
   "metadata": {},
   "outputs": [
    {
     "data": {
      "text/html": [
       "<div>\n",
       "<style scoped>\n",
       "    .dataframe tbody tr th:only-of-type {\n",
       "        vertical-align: middle;\n",
       "    }\n",
       "\n",
       "    .dataframe tbody tr th {\n",
       "        vertical-align: top;\n",
       "    }\n",
       "\n",
       "    .dataframe thead th {\n",
       "        text-align: right;\n",
       "    }\n",
       "</style>\n",
       "<table border=\"1\" class=\"dataframe\">\n",
       "  <thead>\n",
       "    <tr style=\"text-align: right;\">\n",
       "      <th></th>\n",
       "      <th>District</th>\n",
       "      <th>Average Rating</th>\n",
       "    </tr>\n",
       "  </thead>\n",
       "  <tbody>\n",
       "    <tr>\n",
       "      <th>2</th>\n",
       "      <td>Bela Vista</td>\n",
       "      <td>8.700000</td>\n",
       "    </tr>\n",
       "    <tr>\n",
       "      <th>3</th>\n",
       "      <td>Campo Belo</td>\n",
       "      <td>7.833333</td>\n",
       "    </tr>\n",
       "    <tr>\n",
       "      <th>5</th>\n",
       "      <td>Freguesia do Ó</td>\n",
       "      <td>7.100000</td>\n",
       "    </tr>\n",
       "    <tr>\n",
       "      <th>6</th>\n",
       "      <td>Ipiranga</td>\n",
       "      <td>8.100000</td>\n",
       "    </tr>\n",
       "    <tr>\n",
       "      <th>7</th>\n",
       "      <td>Itaim Bibi</td>\n",
       "      <td>9.100000</td>\n",
       "    </tr>\n",
       "    <tr>\n",
       "      <th>10</th>\n",
       "      <td>Jardim Paulista</td>\n",
       "      <td>8.300000</td>\n",
       "    </tr>\n",
       "    <tr>\n",
       "      <th>12</th>\n",
       "      <td>Liberdade</td>\n",
       "      <td>8.325000</td>\n",
       "    </tr>\n",
       "    <tr>\n",
       "      <th>13</th>\n",
       "      <td>Moema</td>\n",
       "      <td>7.650000</td>\n",
       "    </tr>\n",
       "    <tr>\n",
       "      <th>14</th>\n",
       "      <td>Mooca</td>\n",
       "      <td>7.500000</td>\n",
       "    </tr>\n",
       "    <tr>\n",
       "      <th>15</th>\n",
       "      <td>Perdizes</td>\n",
       "      <td>7.150000</td>\n",
       "    </tr>\n",
       "    <tr>\n",
       "      <th>16</th>\n",
       "      <td>Rio Pequeno</td>\n",
       "      <td>7.200000</td>\n",
       "    </tr>\n",
       "    <tr>\n",
       "      <th>18</th>\n",
       "      <td>Santana</td>\n",
       "      <td>7.200000</td>\n",
       "    </tr>\n",
       "    <tr>\n",
       "      <th>19</th>\n",
       "      <td>Santo Amaro</td>\n",
       "      <td>8.800000</td>\n",
       "    </tr>\n",
       "    <tr>\n",
       "      <th>20</th>\n",
       "      <td>Saúde</td>\n",
       "      <td>7.250000</td>\n",
       "    </tr>\n",
       "    <tr>\n",
       "      <th>21</th>\n",
       "      <td>Socorro</td>\n",
       "      <td>7.100000</td>\n",
       "    </tr>\n",
       "    <tr>\n",
       "      <th>22</th>\n",
       "      <td>São Lucas</td>\n",
       "      <td>7.550000</td>\n",
       "    </tr>\n",
       "    <tr>\n",
       "      <th>23</th>\n",
       "      <td>Tatuapé</td>\n",
       "      <td>7.500000</td>\n",
       "    </tr>\n",
       "    <tr>\n",
       "      <th>24</th>\n",
       "      <td>Tucuruvi</td>\n",
       "      <td>8.200000</td>\n",
       "    </tr>\n",
       "    <tr>\n",
       "      <th>27</th>\n",
       "      <td>Vila Jacuí</td>\n",
       "      <td>7.500000</td>\n",
       "    </tr>\n",
       "    <tr>\n",
       "      <th>28</th>\n",
       "      <td>Vila Mariana</td>\n",
       "      <td>7.333333</td>\n",
       "    </tr>\n",
       "    <tr>\n",
       "      <th>29</th>\n",
       "      <td>Vila Matilde</td>\n",
       "      <td>7.600000</td>\n",
       "    </tr>\n",
       "    <tr>\n",
       "      <th>30</th>\n",
       "      <td>Vila Medeiros</td>\n",
       "      <td>7.600000</td>\n",
       "    </tr>\n",
       "  </tbody>\n",
       "</table>\n",
       "</div>"
      ],
      "text/plain": [
       "           District  Average Rating\n",
       "2        Bela Vista        8.700000\n",
       "3        Campo Belo        7.833333\n",
       "5    Freguesia do Ó        7.100000\n",
       "6          Ipiranga        8.100000\n",
       "7        Itaim Bibi        9.100000\n",
       "10  Jardim Paulista        8.300000\n",
       "12        Liberdade        8.325000\n",
       "13            Moema        7.650000\n",
       "14            Mooca        7.500000\n",
       "15         Perdizes        7.150000\n",
       "16      Rio Pequeno        7.200000\n",
       "18          Santana        7.200000\n",
       "19      Santo Amaro        8.800000\n",
       "20            Saúde        7.250000\n",
       "21          Socorro        7.100000\n",
       "22        São Lucas        7.550000\n",
       "23          Tatuapé        7.500000\n",
       "24         Tucuruvi        8.200000\n",
       "27       Vila Jacuí        7.500000\n",
       "28     Vila Mariana        7.333333\n",
       "29     Vila Matilde        7.600000\n",
       "30    Vila Medeiros        7.600000"
      ]
     },
     "execution_count": 30,
     "metadata": {},
     "output_type": "execute_result"
    }
   ],
   "source": [
    "pet_districts=pet_districts[pet_districts['Average Rating']>=7.0]\n",
    "pet_districts"
   ]
  },
  {
   "cell_type": "markdown",
   "metadata": {},
   "source": [
    "Plotting graph for top rating (>7.0) districts.\n",
    "This is the data set used in the next steps."
   ]
  },
  {
   "cell_type": "code",
   "execution_count": 31,
   "metadata": {},
   "outputs": [
    {
     "data": {
      "image/png": "[encoded data removed]",
      "text/plain": [
       "<Figure size 900x500 with 1 Axes>"
      ]
     },
     "metadata": {
      "needs_background": "light"
     },
     "output_type": "display_data"
    }
   ],
   "source": [
    "plt.figure(figsize=(9,5), dpi = 100)\n",
    "plt.title('Average rating of Pet Stores for each District rating > 7.0')\n",
    "plt.xlabel('District', fontsize = 15)\n",
    "plt.ylabel('Average Rating', fontsize=15)\n",
    "pet_districts.groupby('District', as_index=True).mean()['Average Rating'].plot(kind='bar')\n",
    "plt.legend()\n",
    "plt.show()"
   ]
  },
  {
   "cell_type": "markdown",
   "metadata": {},
   "source": [
    "## Feature Selection"
   ]
  },
  {
   "cell_type": "markdown",
   "metadata": {},
   "source": [
    "Now that we have the average ratings for every district, we will merge this column with our first dataframe, that contains the geographical coordinates for the districts. We will call this new dataframe `pet_merged`.  The latter 3 columns will be used as features for clustering."
   ]
  },
  {
   "cell_type": "code",
   "execution_count": 32,
   "metadata": {},
   "outputs": [
    {
     "data": {
      "text/html": [
       "<div>\n",
       "<style scoped>\n",
       "    .dataframe tbody tr th:only-of-type {\n",
       "        vertical-align: middle;\n",
       "    }\n",
       "\n",
       "    .dataframe tbody tr th {\n",
       "        vertical-align: top;\n",
       "    }\n",
       "\n",
       "    .dataframe thead th {\n",
       "        text-align: right;\n",
       "    }\n",
       "</style>\n",
       "<table border=\"1\" class=\"dataframe\">\n",
       "  <thead>\n",
       "    <tr style=\"text-align: right;\">\n",
       "      <th></th>\n",
       "      <th>District</th>\n",
       "      <th>Latitude</th>\n",
       "      <th>Longitude</th>\n",
       "      <th>Average Rating</th>\n",
       "    </tr>\n",
       "  </thead>\n",
       "  <tbody>\n",
       "    <tr>\n",
       "      <th>0</th>\n",
       "      <td>Bela Vista</td>\n",
       "      <td>-23.562210</td>\n",
       "      <td>-46.647766</td>\n",
       "      <td>8.700000</td>\n",
       "    </tr>\n",
       "    <tr>\n",
       "      <th>1</th>\n",
       "      <td>Campo Belo</td>\n",
       "      <td>-23.626731</td>\n",
       "      <td>-46.669421</td>\n",
       "      <td>7.833333</td>\n",
       "    </tr>\n",
       "    <tr>\n",
       "      <th>2</th>\n",
       "      <td>Freguesia do Ó</td>\n",
       "      <td>-23.487464</td>\n",
       "      <td>-46.695132</td>\n",
       "      <td>7.100000</td>\n",
       "    </tr>\n",
       "    <tr>\n",
       "      <th>3</th>\n",
       "      <td>Ipiranga</td>\n",
       "      <td>-23.589273</td>\n",
       "      <td>-46.606162</td>\n",
       "      <td>8.100000</td>\n",
       "    </tr>\n",
       "    <tr>\n",
       "      <th>4</th>\n",
       "      <td>Itaim Bibi</td>\n",
       "      <td>-23.584381</td>\n",
       "      <td>-46.678444</td>\n",
       "      <td>9.100000</td>\n",
       "    </tr>\n",
       "    <tr>\n",
       "      <th>5</th>\n",
       "      <td>Jardim Paulista</td>\n",
       "      <td>-23.567436</td>\n",
       "      <td>-46.663692</td>\n",
       "      <td>8.300000</td>\n",
       "    </tr>\n",
       "    <tr>\n",
       "      <th>6</th>\n",
       "      <td>Liberdade</td>\n",
       "      <td>-23.566704</td>\n",
       "      <td>-46.631809</td>\n",
       "      <td>8.325000</td>\n",
       "    </tr>\n",
       "    <tr>\n",
       "      <th>7</th>\n",
       "      <td>Moema</td>\n",
       "      <td>-23.597085</td>\n",
       "      <td>-46.662888</td>\n",
       "      <td>7.650000</td>\n",
       "    </tr>\n",
       "    <tr>\n",
       "      <th>8</th>\n",
       "      <td>Mooca</td>\n",
       "      <td>-23.560681</td>\n",
       "      <td>-46.597192</td>\n",
       "      <td>7.500000</td>\n",
       "    </tr>\n",
       "    <tr>\n",
       "      <th>9</th>\n",
       "      <td>Perdizes</td>\n",
       "      <td>-23.537929</td>\n",
       "      <td>-46.680671</td>\n",
       "      <td>7.150000</td>\n",
       "    </tr>\n",
       "    <tr>\n",
       "      <th>10</th>\n",
       "      <td>Rio Pequeno</td>\n",
       "      <td>-23.568505</td>\n",
       "      <td>-46.756857</td>\n",
       "      <td>7.200000</td>\n",
       "    </tr>\n",
       "    <tr>\n",
       "      <th>11</th>\n",
       "      <td>Santana</td>\n",
       "      <td>-23.499321</td>\n",
       "      <td>-46.628933</td>\n",
       "      <td>7.200000</td>\n",
       "    </tr>\n",
       "    <tr>\n",
       "      <th>12</th>\n",
       "      <td>Santo Amaro</td>\n",
       "      <td>-23.656230</td>\n",
       "      <td>-46.719116</td>\n",
       "      <td>8.800000</td>\n",
       "    </tr>\n",
       "    <tr>\n",
       "      <th>13</th>\n",
       "      <td>Saúde</td>\n",
       "      <td>-23.615178</td>\n",
       "      <td>-46.643393</td>\n",
       "      <td>7.250000</td>\n",
       "    </tr>\n",
       "    <tr>\n",
       "      <th>14</th>\n",
       "      <td>Socorro</td>\n",
       "      <td>-23.590262</td>\n",
       "      <td>-46.524911</td>\n",
       "      <td>7.100000</td>\n",
       "    </tr>\n",
       "    <tr>\n",
       "      <th>15</th>\n",
       "      <td>São Lucas</td>\n",
       "      <td>-23.594946</td>\n",
       "      <td>-46.545900</td>\n",
       "      <td>7.550000</td>\n",
       "    </tr>\n",
       "    <tr>\n",
       "      <th>16</th>\n",
       "      <td>Tatuapé</td>\n",
       "      <td>-23.540252</td>\n",
       "      <td>-46.576642</td>\n",
       "      <td>7.500000</td>\n",
       "    </tr>\n",
       "    <tr>\n",
       "      <th>17</th>\n",
       "      <td>Tucuruvi</td>\n",
       "      <td>-23.480075</td>\n",
       "      <td>-46.603270</td>\n",
       "      <td>8.200000</td>\n",
       "    </tr>\n",
       "    <tr>\n",
       "      <th>18</th>\n",
       "      <td>Vila Jacuí</td>\n",
       "      <td>-23.500294</td>\n",
       "      <td>-46.458717</td>\n",
       "      <td>7.500000</td>\n",
       "    </tr>\n",
       "    <tr>\n",
       "      <th>19</th>\n",
       "      <td>Vila Mariana</td>\n",
       "      <td>-23.583700</td>\n",
       "      <td>-46.632741</td>\n",
       "      <td>7.333333</td>\n",
       "    </tr>\n",
       "    <tr>\n",
       "      <th>20</th>\n",
       "      <td>Vila Matilde</td>\n",
       "      <td>-23.536179</td>\n",
       "      <td>-46.524605</td>\n",
       "      <td>7.600000</td>\n",
       "    </tr>\n",
       "    <tr>\n",
       "      <th>21</th>\n",
       "      <td>Vila Medeiros</td>\n",
       "      <td>-23.487707</td>\n",
       "      <td>-46.584496</td>\n",
       "      <td>7.600000</td>\n",
       "    </tr>\n",
       "  </tbody>\n",
       "</table>\n",
       "</div>"
      ],
      "text/plain": [
       "           District   Latitude  Longitude  Average Rating\n",
       "0        Bela Vista -23.562210 -46.647766        8.700000\n",
       "1        Campo Belo -23.626731 -46.669421        7.833333\n",
       "2    Freguesia do Ó -23.487464 -46.695132        7.100000\n",
       "3          Ipiranga -23.589273 -46.606162        8.100000\n",
       "4        Itaim Bibi -23.584381 -46.678444        9.100000\n",
       "5   Jardim Paulista -23.567436 -46.663692        8.300000\n",
       "6         Liberdade -23.566704 -46.631809        8.325000\n",
       "7             Moema -23.597085 -46.662888        7.650000\n",
       "8             Mooca -23.560681 -46.597192        7.500000\n",
       "9          Perdizes -23.537929 -46.680671        7.150000\n",
       "10      Rio Pequeno -23.568505 -46.756857        7.200000\n",
       "11          Santana -23.499321 -46.628933        7.200000\n",
       "12      Santo Amaro -23.656230 -46.719116        8.800000\n",
       "13            Saúde -23.615178 -46.643393        7.250000\n",
       "14          Socorro -23.590262 -46.524911        7.100000\n",
       "15        São Lucas -23.594946 -46.545900        7.550000\n",
       "16          Tatuapé -23.540252 -46.576642        7.500000\n",
       "17         Tucuruvi -23.480075 -46.603270        8.200000\n",
       "18       Vila Jacuí -23.500294 -46.458717        7.500000\n",
       "19     Vila Mariana -23.583700 -46.632741        7.333333\n",
       "20     Vila Matilde -23.536179 -46.524605        7.600000\n",
       "21    Vila Medeiros -23.487707 -46.584496        7.600000"
      ]
     },
     "execution_count": 32,
     "metadata": {},
     "output_type": "execute_result"
    }
   ],
   "source": [
    "pet_merged = pd.merge(pet_districts, df, on='District')\n",
    "pet_merged = pet_merged[['District', 'Latitude', 'Longitude', 'Average Rating']]\n",
    "pet_merged"
   ]
  },
  {
   "cell_type": "code",
   "execution_count": 33,
   "metadata": {},
   "outputs": [
    {
     "data": {
      "text/plain": [
       "(22, 4)"
      ]
     },
     "execution_count": 33,
     "metadata": {},
     "output_type": "execute_result"
    }
   ],
   "source": [
    "pet_merged.shape"
   ]
  },
  {
   "cell_type": "markdown",
   "metadata": {},
   "source": [
    "Everything looks great to go"
   ]
  },
  {
   "cell_type": "markdown",
   "metadata": {},
   "source": [
    "## One Hot Encoding"
   ]
  },
  {
   "cell_type": "markdown",
   "metadata": {},
   "source": [
    "One hot enconding is used to find the 10 most common categories of venues present in each district"
   ]
  },
  {
   "cell_type": "code",
   "execution_count": 34,
   "metadata": {},
   "outputs": [
    {
     "data": {
      "text/plain": [
       "array(['Bela Vista', 'Campo Belo', 'Freguesia do Ó', 'Ipiranga',\n",
       "       'Itaim Bibi', 'Jardim Paulista', 'Liberdade', 'Moema', 'Mooca',\n",
       "       'Perdizes', 'Rio Pequeno', 'Santana', 'Santo Amaro', 'Saúde',\n",
       "       'Socorro', 'São Lucas', 'Tatuapé', 'Tucuruvi', 'Vila Jacuí',\n",
       "       'Vila Mariana', 'Vila Matilde', 'Vila Medeiros'], dtype=object)"
      ]
     },
     "execution_count": 34,
     "metadata": {},
     "output_type": "execute_result"
    }
   ],
   "source": [
    "petsp_districts = pet_merged['District'].unique()\n",
    "petsp_districts"
   ]
  },
  {
   "cell_type": "code",
   "execution_count": 35,
   "metadata": {},
   "outputs": [
    {
     "data": {
      "text/plain": [
       "22"
      ]
     },
     "execution_count": 35,
     "metadata": {},
     "output_type": "execute_result"
    }
   ],
   "source": [
    "len(petsp_districts)"
   ]
  },
  {
   "cell_type": "markdown",
   "metadata": {},
   "source": [
    "Starting one hot encoding, first get the dummies from the different venue categories found."
   ]
  },
  {
   "cell_type": "code",
   "execution_count": 36,
   "metadata": {},
   "outputs": [],
   "source": [
    "venues_pet = sao_paulo_venues[sao_paulo_venues['District'].isin(petsp_districts)]\n",
    "pet_onehot = pd.get_dummies(venues_pet['Category'], prefix='', prefix_sep='')\n",
    "pet_onehot['District'] = venues_pet['District']\n",
    "fixed_columns = [pet_onehot.columns[-1]] + list(pet_onehot.columns[:-1])\n",
    "pet_onehot = pet_onehot[fixed_columns]"
   ]
  },
  {
   "cell_type": "markdown",
   "metadata": {},
   "source": [
    "We will now group by district and calculate the mean of each category then reseting index"
   ]
  },
  {
   "cell_type": "code",
   "execution_count": 37,
   "metadata": {},
   "outputs": [],
   "source": [
    "pet_grouped = pet_onehot.groupby('District').mean().reset_index()"
   ]
  },
  {
   "cell_type": "markdown",
   "metadata": {},
   "source": [
    "Then create a dataframe to show the 1st up to the 10th most common venue category for each district:"
   ]
  },
  {
   "cell_type": "code",
   "execution_count": 38,
   "metadata": {},
   "outputs": [
    {
     "data": {
      "text/html": [
       "<div>\n",
       "<style scoped>\n",
       "    .dataframe tbody tr th:only-of-type {\n",
       "        vertical-align: middle;\n",
       "    }\n",
       "\n",
       "    .dataframe tbody tr th {\n",
       "        vertical-align: top;\n",
       "    }\n",
       "\n",
       "    .dataframe thead th {\n",
       "        text-align: right;\n",
       "    }\n",
       "</style>\n",
       "<table border=\"1\" class=\"dataframe\">\n",
       "  <thead>\n",
       "    <tr style=\"text-align: right;\">\n",
       "      <th></th>\n",
       "      <th>District</th>\n",
       "      <th>1st Most Common Venue</th>\n",
       "      <th>2nd Most Common Venue</th>\n",
       "      <th>3rd Most Common Venue</th>\n",
       "      <th>4th Most Common Venue</th>\n",
       "      <th>5th Most Common Venue</th>\n",
       "      <th>6th Most Common Venue</th>\n",
       "      <th>7th Most Common Venue</th>\n",
       "      <th>8th Most Common Venue</th>\n",
       "      <th>9th Most Common Venue</th>\n",
       "      <th>10th Most Common Venue</th>\n",
       "    </tr>\n",
       "  </thead>\n",
       "  <tbody>\n",
       "    <tr>\n",
       "      <th>0</th>\n",
       "      <td>Bela Vista</td>\n",
       "      <td>Pizza Place</td>\n",
       "      <td>Hotel</td>\n",
       "      <td>Bar</td>\n",
       "      <td>Cosmetics Shop</td>\n",
       "      <td>Coffee Shop</td>\n",
       "      <td>Café</td>\n",
       "      <td>Gymnastics Gym</td>\n",
       "      <td>Japanese Restaurant</td>\n",
       "      <td>Chocolate Shop</td>\n",
       "      <td>Italian Restaurant</td>\n",
       "    </tr>\n",
       "    <tr>\n",
       "      <th>1</th>\n",
       "      <td>Campo Belo</td>\n",
       "      <td>Bar</td>\n",
       "      <td>Bakery</td>\n",
       "      <td>Restaurant</td>\n",
       "      <td>Brazilian Restaurant</td>\n",
       "      <td>Pet Store</td>\n",
       "      <td>Sushi Restaurant</td>\n",
       "      <td>Middle Eastern Restaurant</td>\n",
       "      <td>Dessert Shop</td>\n",
       "      <td>Pizza Place</td>\n",
       "      <td>Burger Joint</td>\n",
       "    </tr>\n",
       "    <tr>\n",
       "      <th>2</th>\n",
       "      <td>Freguesia do Ó</td>\n",
       "      <td>Pizza Place</td>\n",
       "      <td>Gym / Fitness Center</td>\n",
       "      <td>Pharmacy</td>\n",
       "      <td>Department Store</td>\n",
       "      <td>Brazilian Restaurant</td>\n",
       "      <td>Brewery</td>\n",
       "      <td>Chocolate Shop</td>\n",
       "      <td>Sandwich Place</td>\n",
       "      <td>Salon / Barbershop</td>\n",
       "      <td>Cosmetics Shop</td>\n",
       "    </tr>\n",
       "    <tr>\n",
       "      <th>3</th>\n",
       "      <td>Ipiranga</td>\n",
       "      <td>Bar</td>\n",
       "      <td>Brazilian Restaurant</td>\n",
       "      <td>Burger Joint</td>\n",
       "      <td>Bakery</td>\n",
       "      <td>Pizza Place</td>\n",
       "      <td>Gym</td>\n",
       "      <td>Coffee Shop</td>\n",
       "      <td>Shoe Store</td>\n",
       "      <td>Restaurant</td>\n",
       "      <td>Cosmetics Shop</td>\n",
       "    </tr>\n",
       "    <tr>\n",
       "      <th>4</th>\n",
       "      <td>Itaim Bibi</td>\n",
       "      <td>Italian Restaurant</td>\n",
       "      <td>Japanese Restaurant</td>\n",
       "      <td>Bar</td>\n",
       "      <td>Burger Joint</td>\n",
       "      <td>Ice Cream Shop</td>\n",
       "      <td>Restaurant</td>\n",
       "      <td>Brazilian Restaurant</td>\n",
       "      <td>French Restaurant</td>\n",
       "      <td>Gym / Fitness Center</td>\n",
       "      <td>Hotel</td>\n",
       "    </tr>\n",
       "  </tbody>\n",
       "</table>\n",
       "</div>"
      ],
      "text/plain": [
       "         District 1st Most Common Venue 2nd Most Common Venue  \\\n",
       "0      Bela Vista           Pizza Place                 Hotel   \n",
       "1      Campo Belo                   Bar                Bakery   \n",
       "2  Freguesia do Ó           Pizza Place  Gym / Fitness Center   \n",
       "3        Ipiranga                   Bar  Brazilian Restaurant   \n",
       "4      Itaim Bibi    Italian Restaurant   Japanese Restaurant   \n",
       "\n",
       "  3rd Most Common Venue 4th Most Common Venue 5th Most Common Venue  \\\n",
       "0                   Bar        Cosmetics Shop           Coffee Shop   \n",
       "1            Restaurant  Brazilian Restaurant             Pet Store   \n",
       "2              Pharmacy      Department Store  Brazilian Restaurant   \n",
       "3          Burger Joint                Bakery           Pizza Place   \n",
       "4                   Bar          Burger Joint        Ice Cream Shop   \n",
       "\n",
       "  6th Most Common Venue      7th Most Common Venue 8th Most Common Venue  \\\n",
       "0                  Café             Gymnastics Gym   Japanese Restaurant   \n",
       "1      Sushi Restaurant  Middle Eastern Restaurant          Dessert Shop   \n",
       "2               Brewery             Chocolate Shop        Sandwich Place   \n",
       "3                   Gym                Coffee Shop            Shoe Store   \n",
       "4            Restaurant       Brazilian Restaurant     French Restaurant   \n",
       "\n",
       "  9th Most Common Venue 10th Most Common Venue  \n",
       "0        Chocolate Shop     Italian Restaurant  \n",
       "1           Pizza Place           Burger Joint  \n",
       "2    Salon / Barbershop         Cosmetics Shop  \n",
       "3            Restaurant         Cosmetics Shop  \n",
       "4  Gym / Fitness Center                  Hotel  "
      ]
     },
     "execution_count": 38,
     "metadata": {},
     "output_type": "execute_result"
    }
   ],
   "source": [
    "import numpy as np\n",
    "\n",
    "num_top_venues = 10\n",
    "\n",
    "indicators = ['st', 'nd', 'rd']\n",
    "\n",
    "# create columns according to number of top venues\n",
    "columns = ['District']\n",
    "for ind in np.arange(num_top_venues):\n",
    "    try:\n",
    "        columns.append('{}{} Most Common Venue'.format(ind+1, indicators[ind]))\n",
    "    except:\n",
    "        columns.append('{}th Most Common Venue'.format(ind+1))\n",
    "\n",
    "# create a new dataframe\n",
    "venues_sorted = pd.DataFrame(columns=columns)\n",
    "venues_sorted['District'] = pet_grouped['District']\n",
    "\n",
    "for ind in np.arange(pet_grouped.shape[0]):\n",
    "    venues_sorted.iloc[ind, 1:] = most_common_venues(pet_grouped.iloc[ind, :], num_top_venues)\n",
    "\n",
    "venues_sorted.head()"
   ]
  },
  {
   "cell_type": "markdown",
   "metadata": {},
   "source": [
    "# Methodology for Clustering"
   ]
  },
  {
   "cell_type": "markdown",
   "metadata": {},
   "source": [
    "Description of all features necessary to run the k-means algorithm\n",
    "\n",
    "1 - Drop `District` column from the `pet_merged` dataframe (k-means does not handle categorical variables)\n",
    "\n",
    "2 - Run `StandardScaler` function from `sklearn.preprocessing` to normalize our features\n",
    "\n",
    "3 - Run `KMeans` algorithm to cluster data. Use elbow method to to select the optimal number of clusters"
   ]
  },
  {
   "cell_type": "markdown",
   "metadata": {},
   "source": [
    "Defining features"
   ]
  },
  {
   "cell_type": "code",
   "execution_count": 39,
   "metadata": {},
   "outputs": [
    {
     "data": {
      "text/html": [
       "<div>\n",
       "<style scoped>\n",
       "    .dataframe tbody tr th:only-of-type {\n",
       "        vertical-align: middle;\n",
       "    }\n",
       "\n",
       "    .dataframe tbody tr th {\n",
       "        vertical-align: top;\n",
       "    }\n",
       "\n",
       "    .dataframe thead th {\n",
       "        text-align: right;\n",
       "    }\n",
       "</style>\n",
       "<table border=\"1\" class=\"dataframe\">\n",
       "  <thead>\n",
       "    <tr style=\"text-align: right;\">\n",
       "      <th></th>\n",
       "      <th>Latitude</th>\n",
       "      <th>Longitude</th>\n",
       "      <th>Average Rating</th>\n",
       "    </tr>\n",
       "  </thead>\n",
       "  <tbody>\n",
       "    <tr>\n",
       "      <th>0</th>\n",
       "      <td>-23.562210</td>\n",
       "      <td>-46.647766</td>\n",
       "      <td>8.700000</td>\n",
       "    </tr>\n",
       "    <tr>\n",
       "      <th>1</th>\n",
       "      <td>-23.626731</td>\n",
       "      <td>-46.669421</td>\n",
       "      <td>7.833333</td>\n",
       "    </tr>\n",
       "    <tr>\n",
       "      <th>2</th>\n",
       "      <td>-23.487464</td>\n",
       "      <td>-46.695132</td>\n",
       "      <td>7.100000</td>\n",
       "    </tr>\n",
       "    <tr>\n",
       "      <th>3</th>\n",
       "      <td>-23.589273</td>\n",
       "      <td>-46.606162</td>\n",
       "      <td>8.100000</td>\n",
       "    </tr>\n",
       "    <tr>\n",
       "      <th>4</th>\n",
       "      <td>-23.584381</td>\n",
       "      <td>-46.678444</td>\n",
       "      <td>9.100000</td>\n",
       "    </tr>\n",
       "  </tbody>\n",
       "</table>\n",
       "</div>"
      ],
      "text/plain": [
       "    Latitude  Longitude  Average Rating\n",
       "0 -23.562210 -46.647766        8.700000\n",
       "1 -23.626731 -46.669421        7.833333\n",
       "2 -23.487464 -46.695132        7.100000\n",
       "3 -23.589273 -46.606162        8.100000\n",
       "4 -23.584381 -46.678444        9.100000"
      ]
     },
     "execution_count": 39,
     "metadata": {},
     "output_type": "execute_result"
    }
   ],
   "source": [
    "cluster_features = pet_merged.drop('District', axis=1)\n",
    "cluster_features.head()"
   ]
  },
  {
   "cell_type": "markdown",
   "metadata": {},
   "source": [
    "Normalizing features"
   ]
  },
  {
   "cell_type": "code",
   "execution_count": 40,
   "metadata": {},
   "outputs": [
    {
     "data": {
      "text/plain": [
       "array([[-0.0350997 , -0.34489181,  1.64103489],\n",
       "       [-1.4161095 , -0.66203485,  0.13735534],\n",
       "       [ 1.56476636, -1.03857905, -1.13498889],\n",
       "       [-0.61435712,  0.26440946,  0.60002597],\n",
       "       [-0.50964858, -0.794179  ,  2.33504083]])"
      ]
     },
     "execution_count": 40,
     "metadata": {},
     "output_type": "execute_result"
    }
   ],
   "source": [
    "X = cluster_features.values[:, :]\n",
    "cluster_dataset = StandardScaler().fit_transform(X)\n",
    "cluster_dataset[:5]"
   ]
  },
  {
   "cell_type": "markdown",
   "metadata": {},
   "source": [
    "## Clustering Districts"
   ]
  },
  {
   "cell_type": "markdown",
   "metadata": {},
   "source": [
    "The Elbow method is a very popular technique and the idea is to run k-means clustering for a range of clusters k (let’s say from 1 to 10) and for each value, we are calculating the sum of squared distances from each point to its assigned center(distortions).\n",
    "\n",
    "When the distortions are plotted and the plot looks like an arm then the “elbow” (the point of inflection on the curve) is the best value of k."
   ]
  },
  {
   "cell_type": "code",
   "execution_count": 41,
   "metadata": {},
   "outputs": [],
   "source": [
    "distortions = []\n",
    "K = range(1,10)\n",
    "for k in K:\n",
    "    kmeanModel = KMeans(n_clusters=k)\n",
    "    kmeanModel.fit(cluster_dataset)\n",
    "    distortions.append(kmeanModel.inertia_)"
   ]
  },
  {
   "cell_type": "code",
   "execution_count": 42,
   "metadata": {},
   "outputs": [
    {
     "data": {
      "image/png": "[encoded data removed]",
      "text/plain": [
       "<Figure size 1152x576 with 1 Axes>"
      ]
     },
     "metadata": {
      "needs_background": "light"
     },
     "output_type": "display_data"
    }
   ],
   "source": [
    "plt.figure(figsize=(16,8))\n",
    "plt.plot(K, distortions, 'bx-')\n",
    "plt.xlabel('k')\n",
    "plt.ylabel('Distortion')\n",
    "plt.title('The Elbow Method showing the optimal k')\n",
    "plt.show()"
   ]
  },
  {
   "cell_type": "markdown",
   "metadata": {},
   "source": [
    "According to the elbow method, it seems that the optimal choice for the number of clusters is k = 4"
   ]
  },
  {
   "cell_type": "code",
   "execution_count": 43,
   "metadata": {},
   "outputs": [
    {
     "data": {
      "text/plain": [
       "21.923524915637156"
      ]
     },
     "execution_count": 43,
     "metadata": {},
     "output_type": "execute_result"
    }
   ],
   "source": [
    "# elbow k is k=4\n",
    "\n",
    "k = 4\n",
    "\n",
    "k_means = KMeans(n_clusters=k, random_state=0)\n",
    "k_means.fit(cluster_dataset)\n",
    "k_means.inertia_"
   ]
  },
  {
   "cell_type": "markdown",
   "metadata": {},
   "source": [
    "1 - Storing the estimated labels with the `labels_` attribute and append these labels in a new column in `venues_sorted` dataframe.\n",
    "\n",
    "2 - Merge it with `pet_merged` dataframe."
   ]
  },
  {
   "cell_type": "code",
   "execution_count": 44,
   "metadata": {},
   "outputs": [
    {
     "data": {
      "text/html": [
       "<div>\n",
       "<style scoped>\n",
       "    .dataframe tbody tr th:only-of-type {\n",
       "        vertical-align: middle;\n",
       "    }\n",
       "\n",
       "    .dataframe tbody tr th {\n",
       "        vertical-align: top;\n",
       "    }\n",
       "\n",
       "    .dataframe thead th {\n",
       "        text-align: right;\n",
       "    }\n",
       "</style>\n",
       "<table border=\"1\" class=\"dataframe\">\n",
       "  <thead>\n",
       "    <tr style=\"text-align: right;\">\n",
       "      <th></th>\n",
       "      <th>District</th>\n",
       "      <th>Latitude</th>\n",
       "      <th>Longitude</th>\n",
       "      <th>Average Rating</th>\n",
       "      <th>Cluster Label</th>\n",
       "      <th>1st Most Common Venue</th>\n",
       "      <th>2nd Most Common Venue</th>\n",
       "      <th>3rd Most Common Venue</th>\n",
       "      <th>4th Most Common Venue</th>\n",
       "      <th>5th Most Common Venue</th>\n",
       "      <th>6th Most Common Venue</th>\n",
       "      <th>7th Most Common Venue</th>\n",
       "      <th>8th Most Common Venue</th>\n",
       "      <th>9th Most Common Venue</th>\n",
       "      <th>10th Most Common Venue</th>\n",
       "    </tr>\n",
       "  </thead>\n",
       "  <tbody>\n",
       "    <tr>\n",
       "      <th>0</th>\n",
       "      <td>Bela Vista</td>\n",
       "      <td>-23.562210</td>\n",
       "      <td>-46.647766</td>\n",
       "      <td>8.700000</td>\n",
       "      <td>2</td>\n",
       "      <td>Pizza Place</td>\n",
       "      <td>Hotel</td>\n",
       "      <td>Bar</td>\n",
       "      <td>Cosmetics Shop</td>\n",
       "      <td>Coffee Shop</td>\n",
       "      <td>Café</td>\n",
       "      <td>Gymnastics Gym</td>\n",
       "      <td>Japanese Restaurant</td>\n",
       "      <td>Chocolate Shop</td>\n",
       "      <td>Italian Restaurant</td>\n",
       "    </tr>\n",
       "    <tr>\n",
       "      <th>1</th>\n",
       "      <td>Campo Belo</td>\n",
       "      <td>-23.626731</td>\n",
       "      <td>-46.669421</td>\n",
       "      <td>7.833333</td>\n",
       "      <td>1</td>\n",
       "      <td>Bar</td>\n",
       "      <td>Bakery</td>\n",
       "      <td>Restaurant</td>\n",
       "      <td>Brazilian Restaurant</td>\n",
       "      <td>Pet Store</td>\n",
       "      <td>Sushi Restaurant</td>\n",
       "      <td>Middle Eastern Restaurant</td>\n",
       "      <td>Dessert Shop</td>\n",
       "      <td>Pizza Place</td>\n",
       "      <td>Burger Joint</td>\n",
       "    </tr>\n",
       "    <tr>\n",
       "      <th>2</th>\n",
       "      <td>Freguesia do Ó</td>\n",
       "      <td>-23.487464</td>\n",
       "      <td>-46.695132</td>\n",
       "      <td>7.100000</td>\n",
       "      <td>3</td>\n",
       "      <td>Pizza Place</td>\n",
       "      <td>Gym / Fitness Center</td>\n",
       "      <td>Pharmacy</td>\n",
       "      <td>Department Store</td>\n",
       "      <td>Brazilian Restaurant</td>\n",
       "      <td>Brewery</td>\n",
       "      <td>Chocolate Shop</td>\n",
       "      <td>Sandwich Place</td>\n",
       "      <td>Salon / Barbershop</td>\n",
       "      <td>Cosmetics Shop</td>\n",
       "    </tr>\n",
       "    <tr>\n",
       "      <th>3</th>\n",
       "      <td>Ipiranga</td>\n",
       "      <td>-23.589273</td>\n",
       "      <td>-46.606162</td>\n",
       "      <td>8.100000</td>\n",
       "      <td>1</td>\n",
       "      <td>Bar</td>\n",
       "      <td>Brazilian Restaurant</td>\n",
       "      <td>Burger Joint</td>\n",
       "      <td>Bakery</td>\n",
       "      <td>Pizza Place</td>\n",
       "      <td>Gym</td>\n",
       "      <td>Coffee Shop</td>\n",
       "      <td>Shoe Store</td>\n",
       "      <td>Restaurant</td>\n",
       "      <td>Cosmetics Shop</td>\n",
       "    </tr>\n",
       "    <tr>\n",
       "      <th>4</th>\n",
       "      <td>Itaim Bibi</td>\n",
       "      <td>-23.584381</td>\n",
       "      <td>-46.678444</td>\n",
       "      <td>9.100000</td>\n",
       "      <td>2</td>\n",
       "      <td>Italian Restaurant</td>\n",
       "      <td>Japanese Restaurant</td>\n",
       "      <td>Bar</td>\n",
       "      <td>Burger Joint</td>\n",
       "      <td>Ice Cream Shop</td>\n",
       "      <td>Restaurant</td>\n",
       "      <td>Brazilian Restaurant</td>\n",
       "      <td>French Restaurant</td>\n",
       "      <td>Gym / Fitness Center</td>\n",
       "      <td>Hotel</td>\n",
       "    </tr>\n",
       "  </tbody>\n",
       "</table>\n",
       "</div>"
      ],
      "text/plain": [
       "         District   Latitude  Longitude  Average Rating  Cluster Label  \\\n",
       "0      Bela Vista -23.562210 -46.647766        8.700000              2   \n",
       "1      Campo Belo -23.626731 -46.669421        7.833333              1   \n",
       "2  Freguesia do Ó -23.487464 -46.695132        7.100000              3   \n",
       "3        Ipiranga -23.589273 -46.606162        8.100000              1   \n",
       "4      Itaim Bibi -23.584381 -46.678444        9.100000              2   \n",
       "\n",
       "  1st Most Common Venue 2nd Most Common Venue 3rd Most Common Venue  \\\n",
       "0           Pizza Place                 Hotel                   Bar   \n",
       "1                   Bar                Bakery            Restaurant   \n",
       "2           Pizza Place  Gym / Fitness Center              Pharmacy   \n",
       "3                   Bar  Brazilian Restaurant          Burger Joint   \n",
       "4    Italian Restaurant   Japanese Restaurant                   Bar   \n",
       "\n",
       "  4th Most Common Venue 5th Most Common Venue 6th Most Common Venue  \\\n",
       "0        Cosmetics Shop           Coffee Shop                  Café   \n",
       "1  Brazilian Restaurant             Pet Store      Sushi Restaurant   \n",
       "2      Department Store  Brazilian Restaurant               Brewery   \n",
       "3                Bakery           Pizza Place                   Gym   \n",
       "4          Burger Joint        Ice Cream Shop            Restaurant   \n",
       "\n",
       "       7th Most Common Venue 8th Most Common Venue 9th Most Common Venue  \\\n",
       "0             Gymnastics Gym   Japanese Restaurant        Chocolate Shop   \n",
       "1  Middle Eastern Restaurant          Dessert Shop           Pizza Place   \n",
       "2             Chocolate Shop        Sandwich Place    Salon / Barbershop   \n",
       "3                Coffee Shop            Shoe Store            Restaurant   \n",
       "4       Brazilian Restaurant     French Restaurant  Gym / Fitness Center   \n",
       "\n",
       "  10th Most Common Venue  \n",
       "0     Italian Restaurant  \n",
       "1           Burger Joint  \n",
       "2         Cosmetics Shop  \n",
       "3         Cosmetics Shop  \n",
       "4                  Hotel  "
      ]
     },
     "execution_count": 44,
     "metadata": {},
     "output_type": "execute_result"
    }
   ],
   "source": [
    "labels = k_means.labels_\n",
    "\n",
    "venues_sorted.insert(loc=0, column='Cluster Label', value=labels)\n",
    "\n",
    "pet_nearby = pet_merged.join(venues_sorted.set_index('District'), on='District')\n",
    "pet_nearby.head()"
   ]
  },
  {
   "cell_type": "code",
   "execution_count": 45,
   "metadata": {},
   "outputs": [
    {
     "data": {
      "text/plain": [
       "(22, 15)"
      ]
     },
     "execution_count": 45,
     "metadata": {},
     "output_type": "execute_result"
    }
   ],
   "source": [
    "pet_nearby.shape"
   ]
  },
  {
   "cell_type": "markdown",
   "metadata": {},
   "source": [
    "Each district have their geographical coordinates, pet store average rating, cluster label and the 10 most common venue categories.\n",
    "\n",
    "Display Sao Paulo map and clustering it as defined above: "
   ]
  },
  {
   "cell_type": "code",
   "execution_count": 46,
   "metadata": {},
   "outputs": [
    {
     "name": "stdout",
     "output_type": "stream",
     "text": [
      "The geographical coordinates of São Paulo are -23.5506507, -46.6333824.\n"
     ]
    }
   ],
   "source": [
    "address = 'São Paulo, SP'\n",
    "\n",
    "geolocator = Nominatim(user_agent='sp_explorer')\n",
    "location = geolocator.geocode(address)\n",
    "latitude = location.latitude\n",
    "longitude = location.longitude\n",
    "print('The geographical coordinates of São Paulo are {}, {}.'.format(latitude, longitude))"
   ]
  },
  {
   "cell_type": "code",
   "execution_count": 47,
   "metadata": {},
   "outputs": [
    {
     "data": {
      "text/html": [
       "<div style=\"width:100%;\"><div style=\"position:relative;width:100%;height:0;padding-bottom:60%;\"><span style=\"color:#565656\">Make this Notebook Trusted to load map: File -> Trust Notebook</span><iframe src=\"about:blank\" style=\"position:absolute;width:100%;height:100%;left:0;top:0;border:none !important;\" data-html=%3C%21DOCTYPE%20html%3E%0A%3Chead%3E%20%20%20%20%0A%20%20%20%20%3Cmeta%20http-equiv%3D%22content-type%22%20content%3D%22text/html%3B%20charset%3DUTF-8%22%20/%3E%0A%20%20%20%20%3Cscript%3EL_PREFER_CANVAS%20%3D%20false%3B%20L_NO_TOUCH%20%3D%20false%3B%20L_DISABLE_3D%20%3D%20false%3B%3C/script%3E%0A%20%20%20%20%3Cscript%20src%3D%22https%3A//cdn.jsdelivr.net/npm/leaflet%401.2.0/dist/leaflet.js%22%3E%3C/script%3E%0A%20%20%20%20%3Cscript%20src%3D%22https%3A//ajax.googleapis.com/ajax/libs/jquery/1.11.1/jquery.min.js%22%3E%3C/script%3E%0A%20%20%20%20%3Cscript%20src%3D%22https%3A//maxcdn.bootstrapcdn.com/bootstrap/3.2.0/js/bootstrap.min.js%22%3E%3C/script%3E%0A%20%20%20%20%3Cscript%20src%3D%22https%3A//cdnjs.cloudflare.com/ajax/libs/Leaflet.awesome-markers/2.0.2/leaflet.awesome-markers.js%22%3E%3C/script%3E%0A%20%20%20%20%3Clink%20rel%3D%22stylesheet%22%20href%3D%22https%3A//cdn.jsdelivr.net/npm/leaflet%401.2.0/dist/leaflet.css%22/%3E%0A%20%20%20%20%3Clink%20rel%3D%22stylesheet%22%20href%3D%22https%3A//maxcdn.bootstrapcdn.com/bootstrap/3.2.0/css/bootstrap.min.css%22/%3E%0A%20%20%20%20%3Clink%20rel%3D%22stylesheet%22%20href%3D%22https%3A//maxcdn.bootstrapcdn.com/bootstrap/3.2.0/css/bootstrap-theme.min.css%22/%3E%0A%20%20%20%20%3Clink%20rel%3D%22stylesheet%22%20href%3D%22https%3A//maxcdn.bootstrapcdn.com/font-awesome/4.6.3/css/font-awesome.min.css%22/%3E%0A%20%20%20%20%3Clink%20rel%3D%22stylesheet%22%20href%3D%22https%3A//cdnjs.cloudflare.com/ajax/libs/Leaflet.awesome-markers/2.0.2/leaflet.awesome-markers.css%22/%3E%0A%20%20%20%20%3Clink%20rel%3D%22stylesheet%22%20href%3D%22https%3A//rawgit.com/python-visualization/folium/master/folium/templates/leaflet.awesome.rotate.css%22/%3E%0A%20%20%20%20%3Cstyle%3Ehtml%2C%20body%20%7Bwidth%3A%20100%25%3Bheight%3A%20100%25%3Bmargin%3A%200%3Bpadding%3A%200%3B%7D%3C/style%3E%0A%20%20%20%20%3Cstyle%3E%23map%20%7Bposition%3Aabsolute%3Btop%3A0%3Bbottom%3A0%3Bright%3A0%3Bleft%3A0%3B%7D%3C/style%3E%0A%20%20%20%20%0A%20%20%20%20%20%20%20%20%20%20%20%20%3Cstyle%3E%20%23map_4cc400ee7e0647f68e9805d47db64ff0%20%7B%0A%20%20%20%20%20%20%20%20%20%20%20%20%20%20%20%20position%20%3A%20relative%3B%0A%20%20%20%20%20%20%20%20%20%20%20%20%20%20%20%20width%20%3A%20100.0%25%3B%0A%20%20%20%20%20%20%20%20%20%20%20%20%20%20%20%20height%3A%20100.0%25%3B%0A%20%20%20%20%20%20%20%20%20%20%20%20%20%20%20%20left%3A%200.0%25%3B%0A%20%20%20%20%20%20%20%20%20%20%20%20%20%20%20%20top%3A%200.0%25%3B%0A%20%20%20%20%20%20%20%20%20%20%20%20%20%20%20%20%7D%0A%20%20%20%20%20%20%20%20%20%20%20%20%3C/style%3E%0A%20%20%20%20%20%20%20%20%0A%3C/head%3E%0A%3Cbody%3E%20%20%20%20%0A%20%20%20%20%0A%20%20%20%20%20%20%20%20%20%20%20%20%3Cdiv%20class%3D%22folium-map%22%20id%3D%22map_4cc400ee7e0647f68e9805d47db64ff0%22%20%3E%3C/div%3E%0A%20%20%20%20%20%20%20%20%0A%3C/body%3E%0A%3Cscript%3E%20%20%20%20%0A%20%20%20%20%0A%0A%20%20%20%20%20%20%20%20%20%20%20%20%0A%20%20%20%20%20%20%20%20%20%20%20%20%20%20%20%20var%20bounds%20%3D%20null%3B%0A%20%20%20%20%20%20%20%20%20%20%20%20%0A%0A%20%20%20%20%20%20%20%20%20%20%20%20var%20map_4cc400ee7e0647f68e9805d47db64ff0%20%3D%20L.map%28%0A%20%20%20%20%20%20%20%20%20%20%20%20%20%20%20%20%20%20%20%20%20%20%20%20%20%20%20%20%20%20%20%20%20%20%27map_4cc400ee7e0647f68e9805d47db64ff0%27%2C%0A%20%20%20%20%20%20%20%20%20%20%20%20%20%20%20%20%20%20%20%20%20%20%20%20%20%20%20%20%20%20%20%20%20%20%7Bcenter%3A%20%5B-23.5506507%2C-46.6333824%5D%2C%0A%20%20%20%20%20%20%20%20%20%20%20%20%20%20%20%20%20%20%20%20%20%20%20%20%20%20%20%20%20%20%20%20%20%20zoom%3A%2011%2C%0A%20%20%20%20%20%20%20%20%20%20%20%20%20%20%20%20%20%20%20%20%20%20%20%20%20%20%20%20%20%20%20%20%20%20maxBounds%3A%20bounds%2C%0A%20%20%20%20%20%20%20%20%20%20%20%20%20%20%20%20%20%20%20%20%20%20%20%20%20%20%20%20%20%20%20%20%20%20layers%3A%20%5B%5D%2C%0A%20%20%20%20%20%20%20%20%20%20%20%20%20%20%20%20%20%20%20%20%20%20%20%20%20%20%20%20%20%20%20%20%20%20worldCopyJump%3A%20false%2C%0A%20%20%20%20%20%20%20%20%20%20%20%20%20%20%20%20%20%20%20%20%20%20%20%20%20%20%20%20%20%20%20%20%20%20crs%3A%20L.CRS.EPSG3857%0A%20%20%20%20%20%20%20%20%20%20%20%20%20%20%20%20%20%20%20%20%20%20%20%20%20%20%20%20%20%20%20%20%20%7D%29%3B%0A%20%20%20%20%20%20%20%20%20%20%20%20%0A%20%20%20%20%20%20%20%20%0A%20%20%20%20%0A%20%20%20%20%20%20%20%20%20%20%20%20var%20tile_layer_59b01e1765574afa9f0656b9c56e100d%20%3D%20L.tileLayer%28%0A%20%20%20%20%20%20%20%20%20%20%20%20%20%20%20%20%27https%3A//%7Bs%7D.tile.openstreetmap.org/%7Bz%7D/%7Bx%7D/%7By%7D.png%27%2C%0A%20%20%20%20%20%20%20%20%20%20%20%20%20%20%20%20%7B%0A%20%20%22attribution%22%3A%20null%2C%0A%20%20%22detectRetina%22%3A%20false%2C%0A%20%20%22maxZoom%22%3A%2018%2C%0A%20%20%22minZoom%22%3A%201%2C%0A%20%20%22noWrap%22%3A%20false%2C%0A%20%20%22subdomains%22%3A%20%22abc%22%0A%7D%0A%20%20%20%20%20%20%20%20%20%20%20%20%20%20%20%20%29.addTo%28map_4cc400ee7e0647f68e9805d47db64ff0%29%3B%0A%20%20%20%20%20%20%20%20%0A%20%20%20%20%0A%20%20%20%20%20%20%20%20%20%20%20%20var%20circle_marker_33ada47a5c6943049c011c57c59c269a%20%3D%20L.circleMarker%28%0A%20%20%20%20%20%20%20%20%20%20%20%20%20%20%20%20%5B-23.56221%2C-46.647766%5D%2C%0A%20%20%20%20%20%20%20%20%20%20%20%20%20%20%20%20%7B%0A%20%20%22bubblingMouseEvents%22%3A%20true%2C%0A%20%20%22color%22%3A%20%22%232adddd%22%2C%0A%20%20%22dashArray%22%3A%20null%2C%0A%20%20%22dashOffset%22%3A%20null%2C%0A%20%20%22fill%22%3A%20true%2C%0A%20%20%22fillColor%22%3A%20%22%232adddd%22%2C%0A%20%20%22fillOpacity%22%3A%200.7%2C%0A%20%20%22fillRule%22%3A%20%22evenodd%22%2C%0A%20%20%22lineCap%22%3A%20%22round%22%2C%0A%20%20%22lineJoin%22%3A%20%22round%22%2C%0A%20%20%22opacity%22%3A%201.0%2C%0A%20%20%22radius%22%3A%205%2C%0A%20%20%22stroke%22%3A%20true%2C%0A%20%20%22weight%22%3A%203%0A%7D%0A%20%20%20%20%20%20%20%20%20%20%20%20%20%20%20%20%29.addTo%28map_4cc400ee7e0647f68e9805d47db64ff0%29%3B%0A%20%20%20%20%20%20%20%20%20%20%20%20%0A%20%20%20%20%0A%20%20%20%20%20%20%20%20%20%20%20%20var%20popup_381446fb2fd143a3b3e1aa6b7617e261%20%3D%20L.popup%28%7BmaxWidth%3A%20%27300%27%7D%29%3B%0A%0A%20%20%20%20%20%20%20%20%20%20%20%20%0A%20%20%20%20%20%20%20%20%20%20%20%20%20%20%20%20var%20html_f3589f6aae8341cba3235314574669f3%20%3D%20%24%28%27%3Cdiv%20id%3D%22html_f3589f6aae8341cba3235314574669f3%22%20style%3D%22width%3A%20100.0%25%3B%20height%3A%20100.0%25%3B%22%3EBela%20Vista%20Cluster%202%3C/div%3E%27%29%5B0%5D%3B%0A%20%20%20%20%20%20%20%20%20%20%20%20%20%20%20%20popup_381446fb2fd143a3b3e1aa6b7617e261.setContent%28html_f3589f6aae8341cba3235314574669f3%29%3B%0A%20%20%20%20%20%20%20%20%20%20%20%20%0A%0A%20%20%20%20%20%20%20%20%20%20%20%20circle_marker_33ada47a5c6943049c011c57c59c269a.bindPopup%28popup_381446fb2fd143a3b3e1aa6b7617e261%29%3B%0A%0A%20%20%20%20%20%20%20%20%20%20%20%20%0A%20%20%20%20%20%20%20%20%0A%20%20%20%20%0A%20%20%20%20%20%20%20%20%20%20%20%20var%20circle_marker_38c37be6f25c46a88511602442549fd9%20%3D%20L.circleMarker%28%0A%20%20%20%20%20%20%20%20%20%20%20%20%20%20%20%20%5B-23.626731%2C-46.669421%5D%2C%0A%20%20%20%20%20%20%20%20%20%20%20%20%20%20%20%20%7B%0A%20%20%22bubblingMouseEvents%22%3A%20true%2C%0A%20%20%22color%22%3A%20%22%238000ff%22%2C%0A%20%20%22dashArray%22%3A%20null%2C%0A%20%20%22dashOffset%22%3A%20null%2C%0A%20%20%22fill%22%3A%20true%2C%0A%20%20%22fillColor%22%3A%20%22%238000ff%22%2C%0A%20%20%22fillOpacity%22%3A%200.7%2C%0A%20%20%22fillRule%22%3A%20%22evenodd%22%2C%0A%20%20%22lineCap%22%3A%20%22round%22%2C%0A%20%20%22lineJoin%22%3A%20%22round%22%2C%0A%20%20%22opacity%22%3A%201.0%2C%0A%20%20%22radius%22%3A%205%2C%0A%20%20%22stroke%22%3A%20true%2C%0A%20%20%22weight%22%3A%203%0A%7D%0A%20%20%20%20%20%20%20%20%20%20%20%20%20%20%20%20%29.addTo%28map_4cc400ee7e0647f68e9805d47db64ff0%29%3B%0A%20%20%20%20%20%20%20%20%20%20%20%20%0A%20%20%20%20%0A%20%20%20%20%20%20%20%20%20%20%20%20var%20popup_29c8fa954c004262b0a377cf340c0da1%20%3D%20L.popup%28%7BmaxWidth%3A%20%27300%27%7D%29%3B%0A%0A%20%20%20%20%20%20%20%20%20%20%20%20%0A%20%20%20%20%20%20%20%20%20%20%20%20%20%20%20%20var%20html_8526e241970c41928e21ce7fc7d29204%20%3D%20%24%28%27%3Cdiv%20id%3D%22html_8526e241970c41928e21ce7fc7d29204%22%20style%3D%22width%3A%20100.0%25%3B%20height%3A%20100.0%25%3B%22%3ECampo%20Belo%20Cluster%201%3C/div%3E%27%29%5B0%5D%3B%0A%20%20%20%20%20%20%20%20%20%20%20%20%20%20%20%20popup_29c8fa954c004262b0a377cf340c0da1.setContent%28html_8526e241970c41928e21ce7fc7d29204%29%3B%0A%20%20%20%20%20%20%20%20%20%20%20%20%0A%0A%20%20%20%20%20%20%20%20%20%20%20%20circle_marker_38c37be6f25c46a88511602442549fd9.bindPopup%28popup_29c8fa954c004262b0a377cf340c0da1%29%3B%0A%0A%20%20%20%20%20%20%20%20%20%20%20%20%0A%20%20%20%20%20%20%20%20%0A%20%20%20%20%0A%20%20%20%20%20%20%20%20%20%20%20%20var%20circle_marker_ee216a6dd4a94cffad1c8dbd2930a890%20%3D%20L.circleMarker%28%0A%20%20%20%20%20%20%20%20%20%20%20%20%20%20%20%20%5B-23.487464000000003%2C-46.695132%5D%2C%0A%20%20%20%20%20%20%20%20%20%20%20%20%20%20%20%20%7B%0A%20%20%22bubblingMouseEvents%22%3A%20true%2C%0A%20%20%22color%22%3A%20%22%23d4dd80%22%2C%0A%20%20%22dashArray%22%3A%20null%2C%0A%20%20%22dashOffset%22%3A%20null%2C%0A%20%20%22fill%22%3A%20true%2C%0A%20%20%22fillColor%22%3A%20%22%23d4dd80%22%2C%0A%20%20%22fillOpacity%22%3A%200.7%2C%0A%20%20%22fillRule%22%3A%20%22evenodd%22%2C%0A%20%20%22lineCap%22%3A%20%22round%22%2C%0A%20%20%22lineJoin%22%3A%20%22round%22%2C%0A%20%20%22opacity%22%3A%201.0%2C%0A%20%20%22radius%22%3A%205%2C%0A%20%20%22stroke%22%3A%20true%2C%0A%20%20%22weight%22%3A%203%0A%7D%0A%20%20%20%20%20%20%20%20%20%20%20%20%20%20%20%20%29.addTo%28map_4cc400ee7e0647f68e9805d47db64ff0%29%3B%0A%20%20%20%20%20%20%20%20%20%20%20%20%0A%20%20%20%20%0A%20%20%20%20%20%20%20%20%20%20%20%20var%20popup_d40bfcb5c7ea421f8afc3b92ced556da%20%3D%20L.popup%28%7BmaxWidth%3A%20%27300%27%7D%29%3B%0A%0A%20%20%20%20%20%20%20%20%20%20%20%20%0A%20%20%20%20%20%20%20%20%20%20%20%20%20%20%20%20var%20html_0619d95730ae472b83e3565f1e825846%20%3D%20%24%28%27%3Cdiv%20id%3D%22html_0619d95730ae472b83e3565f1e825846%22%20style%3D%22width%3A%20100.0%25%3B%20height%3A%20100.0%25%3B%22%3EFreguesia%20do%20%C3%93%20Cluster%203%3C/div%3E%27%29%5B0%5D%3B%0A%20%20%20%20%20%20%20%20%20%20%20%20%20%20%20%20popup_d40bfcb5c7ea421f8afc3b92ced556da.setContent%28html_0619d95730ae472b83e3565f1e825846%29%3B%0A%20%20%20%20%20%20%20%20%20%20%20%20%0A%0A%20%20%20%20%20%20%20%20%20%20%20%20circle_marker_ee216a6dd4a94cffad1c8dbd2930a890.bindPopup%28popup_d40bfcb5c7ea421f8afc3b92ced556da%29%3B%0A%0A%20%20%20%20%20%20%20%20%20%20%20%20%0A%20%20%20%20%20%20%20%20%0A%20%20%20%20%0A%20%20%20%20%20%20%20%20%20%20%20%20var%20circle_marker_5ba00d0a9e4346bb91dd4981afb2b6f1%20%3D%20L.circleMarker%28%0A%20%20%20%20%20%20%20%20%20%20%20%20%20%20%20%20%5B-23.589273000000002%2C-46.606162%5D%2C%0A%20%20%20%20%20%20%20%20%20%20%20%20%20%20%20%20%7B%0A%20%20%22bubblingMouseEvents%22%3A%20true%2C%0A%20%20%22color%22%3A%20%22%238000ff%22%2C%0A%20%20%22dashArray%22%3A%20null%2C%0A%20%20%22dashOffset%22%3A%20null%2C%0A%20%20%22fill%22%3A%20true%2C%0A%20%20%22fillColor%22%3A%20%22%238000ff%22%2C%0A%20%20%22fillOpacity%22%3A%200.7%2C%0A%20%20%22fillRule%22%3A%20%22evenodd%22%2C%0A%20%20%22lineCap%22%3A%20%22round%22%2C%0A%20%20%22lineJoin%22%3A%20%22round%22%2C%0A%20%20%22opacity%22%3A%201.0%2C%0A%20%20%22radius%22%3A%205%2C%0A%20%20%22stroke%22%3A%20true%2C%0A%20%20%22weight%22%3A%203%0A%7D%0A%20%20%20%20%20%20%20%20%20%20%20%20%20%20%20%20%29.addTo%28map_4cc400ee7e0647f68e9805d47db64ff0%29%3B%0A%20%20%20%20%20%20%20%20%20%20%20%20%0A%20%20%20%20%0A%20%20%20%20%20%20%20%20%20%20%20%20var%20popup_bd1107ffd6704f4c86161ad0c0d50c18%20%3D%20L.popup%28%7BmaxWidth%3A%20%27300%27%7D%29%3B%0A%0A%20%20%20%20%20%20%20%20%20%20%20%20%0A%20%20%20%20%20%20%20%20%20%20%20%20%20%20%20%20var%20html_a1a0ad64747d48b7bbb22b9601374d60%20%3D%20%24%28%27%3Cdiv%20id%3D%22html_a1a0ad64747d48b7bbb22b9601374d60%22%20style%3D%22width%3A%20100.0%25%3B%20height%3A%20100.0%25%3B%22%3EIpiranga%20Cluster%201%3C/div%3E%27%29%5B0%5D%3B%0A%20%20%20%20%20%20%20%20%20%20%20%20%20%20%20%20popup_bd1107ffd6704f4c86161ad0c0d50c18.setContent%28html_a1a0ad64747d48b7bbb22b9601374d60%29%3B%0A%20%20%20%20%20%20%20%20%20%20%20%20%0A%0A%20%20%20%20%20%20%20%20%20%20%20%20circle_marker_5ba00d0a9e4346bb91dd4981afb2b6f1.bindPopup%28popup_bd1107ffd6704f4c86161ad0c0d50c18%29%3B%0A%0A%20%20%20%20%20%20%20%20%20%20%20%20%0A%20%20%20%20%20%20%20%20%0A%20%20%20%20%0A%20%20%20%20%20%20%20%20%20%20%20%20var%20circle_marker_89a9bc17aabd4ba7a0bbf8cd08a9de22%20%3D%20L.circleMarker%28%0A%20%20%20%20%20%20%20%20%20%20%20%20%20%20%20%20%5B-23.584381%2C-46.678444%5D%2C%0A%20%20%20%20%20%20%20%20%20%20%20%20%20%20%20%20%7B%0A%20%20%22bubblingMouseEvents%22%3A%20true%2C%0A%20%20%22color%22%3A%20%22%232adddd%22%2C%0A%20%20%22dashArray%22%3A%20null%2C%0A%20%20%22dashOffset%22%3A%20null%2C%0A%20%20%22fill%22%3A%20true%2C%0A%20%20%22fillColor%22%3A%20%22%232adddd%22%2C%0A%20%20%22fillOpacity%22%3A%200.7%2C%0A%20%20%22fillRule%22%3A%20%22evenodd%22%2C%0A%20%20%22lineCap%22%3A%20%22round%22%2C%0A%20%20%22lineJoin%22%3A%20%22round%22%2C%0A%20%20%22opacity%22%3A%201.0%2C%0A%20%20%22radius%22%3A%205%2C%0A%20%20%22stroke%22%3A%20true%2C%0A%20%20%22weight%22%3A%203%0A%7D%0A%20%20%20%20%20%20%20%20%20%20%20%20%20%20%20%20%29.addTo%28map_4cc400ee7e0647f68e9805d47db64ff0%29%3B%0A%20%20%20%20%20%20%20%20%20%20%20%20%0A%20%20%20%20%0A%20%20%20%20%20%20%20%20%20%20%20%20var%20popup_4740f52b32d748baa1c79df3dd9af1bf%20%3D%20L.popup%28%7BmaxWidth%3A%20%27300%27%7D%29%3B%0A%0A%20%20%20%20%20%20%20%20%20%20%20%20%0A%20%20%20%20%20%20%20%20%20%20%20%20%20%20%20%20var%20html_d5e8626e42354fb683c78c1afab00e84%20%3D%20%24%28%27%3Cdiv%20id%3D%22html_d5e8626e42354fb683c78c1afab00e84%22%20style%3D%22width%3A%20100.0%25%3B%20height%3A%20100.0%25%3B%22%3EItaim%20Bibi%20Cluster%202%3C/div%3E%27%29%5B0%5D%3B%0A%20%20%20%20%20%20%20%20%20%20%20%20%20%20%20%20popup_4740f52b32d748baa1c79df3dd9af1bf.setContent%28html_d5e8626e42354fb683c78c1afab00e84%29%3B%0A%20%20%20%20%20%20%20%20%20%20%20%20%0A%0A%20%20%20%20%20%20%20%20%20%20%20%20circle_marker_89a9bc17aabd4ba7a0bbf8cd08a9de22.bindPopup%28popup_4740f52b32d748baa1c79df3dd9af1bf%29%3B%0A%0A%20%20%20%20%20%20%20%20%20%20%20%20%0A%20%20%20%20%20%20%20%20%0A%20%20%20%20%0A%20%20%20%20%20%20%20%20%20%20%20%20var%20circle_marker_472c5bc515b140b1b92c136203b1bcf7%20%3D%20L.circleMarker%28%0A%20%20%20%20%20%20%20%20%20%20%20%20%20%20%20%20%5B-23.567435999999997%2C-46.663692%5D%2C%0A%20%20%20%20%20%20%20%20%20%20%20%20%20%20%20%20%7B%0A%20%20%22bubblingMouseEvents%22%3A%20true%2C%0A%20%20%22color%22%3A%20%22%232adddd%22%2C%0A%20%20%22dashArray%22%3A%20null%2C%0A%20%20%22dashOffset%22%3A%20null%2C%0A%20%20%22fill%22%3A%20true%2C%0A%20%20%22fillColor%22%3A%20%22%232adddd%22%2C%0A%20%20%22fillOpacity%22%3A%200.7%2C%0A%20%20%22fillRule%22%3A%20%22evenodd%22%2C%0A%20%20%22lineCap%22%3A%20%22round%22%2C%0A%20%20%22lineJoin%22%3A%20%22round%22%2C%0A%20%20%22opacity%22%3A%201.0%2C%0A%20%20%22radius%22%3A%205%2C%0A%20%20%22stroke%22%3A%20true%2C%0A%20%20%22weight%22%3A%203%0A%7D%0A%20%20%20%20%20%20%20%20%20%20%20%20%20%20%20%20%29.addTo%28map_4cc400ee7e0647f68e9805d47db64ff0%29%3B%0A%20%20%20%20%20%20%20%20%20%20%20%20%0A%20%20%20%20%0A%20%20%20%20%20%20%20%20%20%20%20%20var%20popup_d6574bff5a8d4fa7a59994ff6ead1c9c%20%3D%20L.popup%28%7BmaxWidth%3A%20%27300%27%7D%29%3B%0A%0A%20%20%20%20%20%20%20%20%20%20%20%20%0A%20%20%20%20%20%20%20%20%20%20%20%20%20%20%20%20var%20html_f97dd1db1b9945d4b03b7b08fedf87d8%20%3D%20%24%28%27%3Cdiv%20id%3D%22html_f97dd1db1b9945d4b03b7b08fedf87d8%22%20style%3D%22width%3A%20100.0%25%3B%20height%3A%20100.0%25%3B%22%3EJardim%20Paulista%20Cluster%202%3C/div%3E%27%29%5B0%5D%3B%0A%20%20%20%20%20%20%20%20%20%20%20%20%20%20%20%20popup_d6574bff5a8d4fa7a59994ff6ead1c9c.setContent%28html_f97dd1db1b9945d4b03b7b08fedf87d8%29%3B%0A%20%20%20%20%20%20%20%20%20%20%20%20%0A%0A%20%20%20%20%20%20%20%20%20%20%20%20circle_marker_472c5bc515b140b1b92c136203b1bcf7.bindPopup%28popup_d6574bff5a8d4fa7a59994ff6ead1c9c%29%3B%0A%0A%20%20%20%20%20%20%20%20%20%20%20%20%0A%20%20%20%20%20%20%20%20%0A%20%20%20%20%0A%20%20%20%20%20%20%20%20%20%20%20%20var%20circle_marker_402546fc454644b4a21214afc2856ba1%20%3D%20L.circleMarker%28%0A%20%20%20%20%20%20%20%20%20%20%20%20%20%20%20%20%5B-23.566704%2C-46.631809000000004%5D%2C%0A%20%20%20%20%20%20%20%20%20%20%20%20%20%20%20%20%7B%0A%20%20%22bubblingMouseEvents%22%3A%20true%2C%0A%20%20%22color%22%3A%20%22%232adddd%22%2C%0A%20%20%22dashArray%22%3A%20null%2C%0A%20%20%22dashOffset%22%3A%20null%2C%0A%20%20%22fill%22%3A%20true%2C%0A%20%20%22fillColor%22%3A%20%22%232adddd%22%2C%0A%20%20%22fillOpacity%22%3A%200.7%2C%0A%20%20%22fillRule%22%3A%20%22evenodd%22%2C%0A%20%20%22lineCap%22%3A%20%22round%22%2C%0A%20%20%22lineJoin%22%3A%20%22round%22%2C%0A%20%20%22opacity%22%3A%201.0%2C%0A%20%20%22radius%22%3A%205%2C%0A%20%20%22stroke%22%3A%20true%2C%0A%20%20%22weight%22%3A%203%0A%7D%0A%20%20%20%20%20%20%20%20%20%20%20%20%20%20%20%20%29.addTo%28map_4cc400ee7e0647f68e9805d47db64ff0%29%3B%0A%20%20%20%20%20%20%20%20%20%20%20%20%0A%20%20%20%20%0A%20%20%20%20%20%20%20%20%20%20%20%20var%20popup_1f0f1f04822f4bfea33d44e5a4ceb1d3%20%3D%20L.popup%28%7BmaxWidth%3A%20%27300%27%7D%29%3B%0A%0A%20%20%20%20%20%20%20%20%20%20%20%20%0A%20%20%20%20%20%20%20%20%20%20%20%20%20%20%20%20var%20html_ba66efdf45cf4fdc85ea6e61a1979636%20%3D%20%24%28%27%3Cdiv%20id%3D%22html_ba66efdf45cf4fdc85ea6e61a1979636%22%20style%3D%22width%3A%20100.0%25%3B%20height%3A%20100.0%25%3B%22%3ELiberdade%20Cluster%202%3C/div%3E%27%29%5B0%5D%3B%0A%20%20%20%20%20%20%20%20%20%20%20%20%20%20%20%20popup_1f0f1f04822f4bfea33d44e5a4ceb1d3.setContent%28html_ba66efdf45cf4fdc85ea6e61a1979636%29%3B%0A%20%20%20%20%20%20%20%20%20%20%20%20%0A%0A%20%20%20%20%20%20%20%20%20%20%20%20circle_marker_402546fc454644b4a21214afc2856ba1.bindPopup%28popup_1f0f1f04822f4bfea33d44e5a4ceb1d3%29%3B%0A%0A%20%20%20%20%20%20%20%20%20%20%20%20%0A%20%20%20%20%20%20%20%20%0A%20%20%20%20%0A%20%20%20%20%20%20%20%20%20%20%20%20var%20circle_marker_c435471200fb4eeaaef072891a90d0c5%20%3D%20L.circleMarker%28%0A%20%20%20%20%20%20%20%20%20%20%20%20%20%20%20%20%5B-23.597085%2C-46.662888%5D%2C%0A%20%20%20%20%20%20%20%20%20%20%20%20%20%20%20%20%7B%0A%20%20%22bubblingMouseEvents%22%3A%20true%2C%0A%20%20%22color%22%3A%20%22%238000ff%22%2C%0A%20%20%22dashArray%22%3A%20null%2C%0A%20%20%22dashOffset%22%3A%20null%2C%0A%20%20%22fill%22%3A%20true%2C%0A%20%20%22fillColor%22%3A%20%22%238000ff%22%2C%0A%20%20%22fillOpacity%22%3A%200.7%2C%0A%20%20%22fillRule%22%3A%20%22evenodd%22%2C%0A%20%20%22lineCap%22%3A%20%22round%22%2C%0A%20%20%22lineJoin%22%3A%20%22round%22%2C%0A%20%20%22opacity%22%3A%201.0%2C%0A%20%20%22radius%22%3A%205%2C%0A%20%20%22stroke%22%3A%20true%2C%0A%20%20%22weight%22%3A%203%0A%7D%0A%20%20%20%20%20%20%20%20%20%20%20%20%20%20%20%20%29.addTo%28map_4cc400ee7e0647f68e9805d47db64ff0%29%3B%0A%20%20%20%20%20%20%20%20%20%20%20%20%0A%20%20%20%20%0A%20%20%20%20%20%20%20%20%20%20%20%20var%20popup_0753f79f7fd24e8095bdf922eee9e9e8%20%3D%20L.popup%28%7BmaxWidth%3A%20%27300%27%7D%29%3B%0A%0A%20%20%20%20%20%20%20%20%20%20%20%20%0A%20%20%20%20%20%20%20%20%20%20%20%20%20%20%20%20var%20html_6f005040491946b0aa79d16c63598fc3%20%3D%20%24%28%27%3Cdiv%20id%3D%22html_6f005040491946b0aa79d16c63598fc3%22%20style%3D%22width%3A%20100.0%25%3B%20height%3A%20100.0%25%3B%22%3EMoema%20Cluster%201%3C/div%3E%27%29%5B0%5D%3B%0A%20%20%20%20%20%20%20%20%20%20%20%20%20%20%20%20popup_0753f79f7fd24e8095bdf922eee9e9e8.setContent%28html_6f005040491946b0aa79d16c63598fc3%29%3B%0A%20%20%20%20%20%20%20%20%20%20%20%20%0A%0A%20%20%20%20%20%20%20%20%20%20%20%20circle_marker_c435471200fb4eeaaef072891a90d0c5.bindPopup%28popup_0753f79f7fd24e8095bdf922eee9e9e8%29%3B%0A%0A%20%20%20%20%20%20%20%20%20%20%20%20%0A%20%20%20%20%20%20%20%20%0A%20%20%20%20%0A%20%20%20%20%20%20%20%20%20%20%20%20var%20circle_marker_b025869c0a10418abc1d683dd6c32989%20%3D%20L.circleMarker%28%0A%20%20%20%20%20%20%20%20%20%20%20%20%20%20%20%20%5B-23.560681%2C-46.597192%5D%2C%0A%20%20%20%20%20%20%20%20%20%20%20%20%20%20%20%20%7B%0A%20%20%22bubblingMouseEvents%22%3A%20true%2C%0A%20%20%22color%22%3A%20%22%238000ff%22%2C%0A%20%20%22dashArray%22%3A%20null%2C%0A%20%20%22dashOffset%22%3A%20null%2C%0A%20%20%22fill%22%3A%20true%2C%0A%20%20%22fillColor%22%3A%20%22%238000ff%22%2C%0A%20%20%22fillOpacity%22%3A%200.7%2C%0A%20%20%22fillRule%22%3A%20%22evenodd%22%2C%0A%20%20%22lineCap%22%3A%20%22round%22%2C%0A%20%20%22lineJoin%22%3A%20%22round%22%2C%0A%20%20%22opacity%22%3A%201.0%2C%0A%20%20%22radius%22%3A%205%2C%0A%20%20%22stroke%22%3A%20true%2C%0A%20%20%22weight%22%3A%203%0A%7D%0A%20%20%20%20%20%20%20%20%20%20%20%20%20%20%20%20%29.addTo%28map_4cc400ee7e0647f68e9805d47db64ff0%29%3B%0A%20%20%20%20%20%20%20%20%20%20%20%20%0A%20%20%20%20%0A%20%20%20%20%20%20%20%20%20%20%20%20var%20popup_90bd2d775cac4f3c8fcd92ec7cf20937%20%3D%20L.popup%28%7BmaxWidth%3A%20%27300%27%7D%29%3B%0A%0A%20%20%20%20%20%20%20%20%20%20%20%20%0A%20%20%20%20%20%20%20%20%20%20%20%20%20%20%20%20var%20html_049bfe7a390c4ef3a103b43a783bfa74%20%3D%20%24%28%27%3Cdiv%20id%3D%22html_049bfe7a390c4ef3a103b43a783bfa74%22%20style%3D%22width%3A%20100.0%25%3B%20height%3A%20100.0%25%3B%22%3EMooca%20Cluster%201%3C/div%3E%27%29%5B0%5D%3B%0A%20%20%20%20%20%20%20%20%20%20%20%20%20%20%20%20popup_90bd2d775cac4f3c8fcd92ec7cf20937.setContent%28html_049bfe7a390c4ef3a103b43a783bfa74%29%3B%0A%20%20%20%20%20%20%20%20%20%20%20%20%0A%0A%20%20%20%20%20%20%20%20%20%20%20%20circle_marker_b025869c0a10418abc1d683dd6c32989.bindPopup%28popup_90bd2d775cac4f3c8fcd92ec7cf20937%29%3B%0A%0A%20%20%20%20%20%20%20%20%20%20%20%20%0A%20%20%20%20%20%20%20%20%0A%20%20%20%20%0A%20%20%20%20%20%20%20%20%20%20%20%20var%20circle_marker_632dfb5f7cd8489d8c4a8eda712190c6%20%3D%20L.circleMarker%28%0A%20%20%20%20%20%20%20%20%20%20%20%20%20%20%20%20%5B-23.537929000000002%2C-46.680671000000004%5D%2C%0A%20%20%20%20%20%20%20%20%20%20%20%20%20%20%20%20%7B%0A%20%20%22bubblingMouseEvents%22%3A%20true%2C%0A%20%20%22color%22%3A%20%22%23d4dd80%22%2C%0A%20%20%22dashArray%22%3A%20null%2C%0A%20%20%22dashOffset%22%3A%20null%2C%0A%20%20%22fill%22%3A%20true%2C%0A%20%20%22fillColor%22%3A%20%22%23d4dd80%22%2C%0A%20%20%22fillOpacity%22%3A%200.7%2C%0A%20%20%22fillRule%22%3A%20%22evenodd%22%2C%0A%20%20%22lineCap%22%3A%20%22round%22%2C%0A%20%20%22lineJoin%22%3A%20%22round%22%2C%0A%20%20%22opacity%22%3A%201.0%2C%0A%20%20%22radius%22%3A%205%2C%0A%20%20%22stroke%22%3A%20true%2C%0A%20%20%22weight%22%3A%203%0A%7D%0A%20%20%20%20%20%20%20%20%20%20%20%20%20%20%20%20%29.addTo%28map_4cc400ee7e0647f68e9805d47db64ff0%29%3B%0A%20%20%20%20%20%20%20%20%20%20%20%20%0A%20%20%20%20%0A%20%20%20%20%20%20%20%20%20%20%20%20var%20popup_8b280cafa8e244dcbabb0e1e3d4e76c4%20%3D%20L.popup%28%7BmaxWidth%3A%20%27300%27%7D%29%3B%0A%0A%20%20%20%20%20%20%20%20%20%20%20%20%0A%20%20%20%20%20%20%20%20%20%20%20%20%20%20%20%20var%20html_7908feaf32cd419b92c3826641fe2bbe%20%3D%20%24%28%27%3Cdiv%20id%3D%22html_7908feaf32cd419b92c3826641fe2bbe%22%20style%3D%22width%3A%20100.0%25%3B%20height%3A%20100.0%25%3B%22%3EPerdizes%20Cluster%203%3C/div%3E%27%29%5B0%5D%3B%0A%20%20%20%20%20%20%20%20%20%20%20%20%20%20%20%20popup_8b280cafa8e244dcbabb0e1e3d4e76c4.setContent%28html_7908feaf32cd419b92c3826641fe2bbe%29%3B%0A%20%20%20%20%20%20%20%20%20%20%20%20%0A%0A%20%20%20%20%20%20%20%20%20%20%20%20circle_marker_632dfb5f7cd8489d8c4a8eda712190c6.bindPopup%28popup_8b280cafa8e244dcbabb0e1e3d4e76c4%29%3B%0A%0A%20%20%20%20%20%20%20%20%20%20%20%20%0A%20%20%20%20%20%20%20%20%0A%20%20%20%20%0A%20%20%20%20%20%20%20%20%20%20%20%20var%20circle_marker_34cf313f454a44cebc7fb482da5bd23b%20%3D%20L.circleMarker%28%0A%20%20%20%20%20%20%20%20%20%20%20%20%20%20%20%20%5B-23.568505%2C-46.756857000000004%5D%2C%0A%20%20%20%20%20%20%20%20%20%20%20%20%20%20%20%20%7B%0A%20%20%22bubblingMouseEvents%22%3A%20true%2C%0A%20%20%22color%22%3A%20%22%23d4dd80%22%2C%0A%20%20%22dashArray%22%3A%20null%2C%0A%20%20%22dashOffset%22%3A%20null%2C%0A%20%20%22fill%22%3A%20true%2C%0A%20%20%22fillColor%22%3A%20%22%23d4dd80%22%2C%0A%20%20%22fillOpacity%22%3A%200.7%2C%0A%20%20%22fillRule%22%3A%20%22evenodd%22%2C%0A%20%20%22lineCap%22%3A%20%22round%22%2C%0A%20%20%22lineJoin%22%3A%20%22round%22%2C%0A%20%20%22opacity%22%3A%201.0%2C%0A%20%20%22radius%22%3A%205%2C%0A%20%20%22stroke%22%3A%20true%2C%0A%20%20%22weight%22%3A%203%0A%7D%0A%20%20%20%20%20%20%20%20%20%20%20%20%20%20%20%20%29.addTo%28map_4cc400ee7e0647f68e9805d47db64ff0%29%3B%0A%20%20%20%20%20%20%20%20%20%20%20%20%0A%20%20%20%20%0A%20%20%20%20%20%20%20%20%20%20%20%20var%20popup_5babdb20e5bb4eb68c9ef37ca3df4a43%20%3D%20L.popup%28%7BmaxWidth%3A%20%27300%27%7D%29%3B%0A%0A%20%20%20%20%20%20%20%20%20%20%20%20%0A%20%20%20%20%20%20%20%20%20%20%20%20%20%20%20%20var%20html_6a9e9cc6ae7a4e648baae06fe468cfb3%20%3D%20%24%28%27%3Cdiv%20id%3D%22html_6a9e9cc6ae7a4e648baae06fe468cfb3%22%20style%3D%22width%3A%20100.0%25%3B%20height%3A%20100.0%25%3B%22%3ERio%20Pequeno%20Cluster%203%3C/div%3E%27%29%5B0%5D%3B%0A%20%20%20%20%20%20%20%20%20%20%20%20%20%20%20%20popup_5babdb20e5bb4eb68c9ef37ca3df4a43.setContent%28html_6a9e9cc6ae7a4e648baae06fe468cfb3%29%3B%0A%20%20%20%20%20%20%20%20%20%20%20%20%0A%0A%20%20%20%20%20%20%20%20%20%20%20%20circle_marker_34cf313f454a44cebc7fb482da5bd23b.bindPopup%28popup_5babdb20e5bb4eb68c9ef37ca3df4a43%29%3B%0A%0A%20%20%20%20%20%20%20%20%20%20%20%20%0A%20%20%20%20%20%20%20%20%0A%20%20%20%20%0A%20%20%20%20%20%20%20%20%20%20%20%20var%20circle_marker_81d0b144406e4bb7be9eca4716d1f762%20%3D%20L.circleMarker%28%0A%20%20%20%20%20%20%20%20%20%20%20%20%20%20%20%20%5B-23.499321%2C-46.628933%5D%2C%0A%20%20%20%20%20%20%20%20%20%20%20%20%20%20%20%20%7B%0A%20%20%22bubblingMouseEvents%22%3A%20true%2C%0A%20%20%22color%22%3A%20%22%23d4dd80%22%2C%0A%20%20%22dashArray%22%3A%20null%2C%0A%20%20%22dashOffset%22%3A%20null%2C%0A%20%20%22fill%22%3A%20true%2C%0A%20%20%22fillColor%22%3A%20%22%23d4dd80%22%2C%0A%20%20%22fillOpacity%22%3A%200.7%2C%0A%20%20%22fillRule%22%3A%20%22evenodd%22%2C%0A%20%20%22lineCap%22%3A%20%22round%22%2C%0A%20%20%22lineJoin%22%3A%20%22round%22%2C%0A%20%20%22opacity%22%3A%201.0%2C%0A%20%20%22radius%22%3A%205%2C%0A%20%20%22stroke%22%3A%20true%2C%0A%20%20%22weight%22%3A%203%0A%7D%0A%20%20%20%20%20%20%20%20%20%20%20%20%20%20%20%20%29.addTo%28map_4cc400ee7e0647f68e9805d47db64ff0%29%3B%0A%20%20%20%20%20%20%20%20%20%20%20%20%0A%20%20%20%20%0A%20%20%20%20%20%20%20%20%20%20%20%20var%20popup_ddaada34776844cfaf00cdcc5408f51b%20%3D%20L.popup%28%7BmaxWidth%3A%20%27300%27%7D%29%3B%0A%0A%20%20%20%20%20%20%20%20%20%20%20%20%0A%20%20%20%20%20%20%20%20%20%20%20%20%20%20%20%20var%20html_e5977b458aad4caa83546dd8abf20f5d%20%3D%20%24%28%27%3Cdiv%20id%3D%22html_e5977b458aad4caa83546dd8abf20f5d%22%20style%3D%22width%3A%20100.0%25%3B%20height%3A%20100.0%25%3B%22%3ESantana%20Cluster%203%3C/div%3E%27%29%5B0%5D%3B%0A%20%20%20%20%20%20%20%20%20%20%20%20%20%20%20%20popup_ddaada34776844cfaf00cdcc5408f51b.setContent%28html_e5977b458aad4caa83546dd8abf20f5d%29%3B%0A%20%20%20%20%20%20%20%20%20%20%20%20%0A%0A%20%20%20%20%20%20%20%20%20%20%20%20circle_marker_81d0b144406e4bb7be9eca4716d1f762.bindPopup%28popup_ddaada34776844cfaf00cdcc5408f51b%29%3B%0A%0A%20%20%20%20%20%20%20%20%20%20%20%20%0A%20%20%20%20%20%20%20%20%0A%20%20%20%20%0A%20%20%20%20%20%20%20%20%20%20%20%20var%20circle_marker_7c490567f852446bbcae52f39919f39e%20%3D%20L.circleMarker%28%0A%20%20%20%20%20%20%20%20%20%20%20%20%20%20%20%20%5B-23.656229999999997%2C-46.719116%5D%2C%0A%20%20%20%20%20%20%20%20%20%20%20%20%20%20%20%20%7B%0A%20%20%22bubblingMouseEvents%22%3A%20true%2C%0A%20%20%22color%22%3A%20%22%232adddd%22%2C%0A%20%20%22dashArray%22%3A%20null%2C%0A%20%20%22dashOffset%22%3A%20null%2C%0A%20%20%22fill%22%3A%20true%2C%0A%20%20%22fillColor%22%3A%20%22%232adddd%22%2C%0A%20%20%22fillOpacity%22%3A%200.7%2C%0A%20%20%22fillRule%22%3A%20%22evenodd%22%2C%0A%20%20%22lineCap%22%3A%20%22round%22%2C%0A%20%20%22lineJoin%22%3A%20%22round%22%2C%0A%20%20%22opacity%22%3A%201.0%2C%0A%20%20%22radius%22%3A%205%2C%0A%20%20%22stroke%22%3A%20true%2C%0A%20%20%22weight%22%3A%203%0A%7D%0A%20%20%20%20%20%20%20%20%20%20%20%20%20%20%20%20%29.addTo%28map_4cc400ee7e0647f68e9805d47db64ff0%29%3B%0A%20%20%20%20%20%20%20%20%20%20%20%20%0A%20%20%20%20%0A%20%20%20%20%20%20%20%20%20%20%20%20var%20popup_94746d6401e8488daa9004585b3a72b0%20%3D%20L.popup%28%7BmaxWidth%3A%20%27300%27%7D%29%3B%0A%0A%20%20%20%20%20%20%20%20%20%20%20%20%0A%20%20%20%20%20%20%20%20%20%20%20%20%20%20%20%20var%20html_ff298bea4f8c4d1195688cc9715c7b79%20%3D%20%24%28%27%3Cdiv%20id%3D%22html_ff298bea4f8c4d1195688cc9715c7b79%22%20style%3D%22width%3A%20100.0%25%3B%20height%3A%20100.0%25%3B%22%3ESanto%20Amaro%20Cluster%202%3C/div%3E%27%29%5B0%5D%3B%0A%20%20%20%20%20%20%20%20%20%20%20%20%20%20%20%20popup_94746d6401e8488daa9004585b3a72b0.setContent%28html_ff298bea4f8c4d1195688cc9715c7b79%29%3B%0A%20%20%20%20%20%20%20%20%20%20%20%20%0A%0A%20%20%20%20%20%20%20%20%20%20%20%20circle_marker_7c490567f852446bbcae52f39919f39e.bindPopup%28popup_94746d6401e8488daa9004585b3a72b0%29%3B%0A%0A%20%20%20%20%20%20%20%20%20%20%20%20%0A%20%20%20%20%20%20%20%20%0A%20%20%20%20%0A%20%20%20%20%20%20%20%20%20%20%20%20var%20circle_marker_aec5afb0b47747cd846ab36dcfdb16cc%20%3D%20L.circleMarker%28%0A%20%20%20%20%20%20%20%20%20%20%20%20%20%20%20%20%5B-23.615178%2C-46.643392999999996%5D%2C%0A%20%20%20%20%20%20%20%20%20%20%20%20%20%20%20%20%7B%0A%20%20%22bubblingMouseEvents%22%3A%20true%2C%0A%20%20%22color%22%3A%20%22%238000ff%22%2C%0A%20%20%22dashArray%22%3A%20null%2C%0A%20%20%22dashOffset%22%3A%20null%2C%0A%20%20%22fill%22%3A%20true%2C%0A%20%20%22fillColor%22%3A%20%22%238000ff%22%2C%0A%20%20%22fillOpacity%22%3A%200.7%2C%0A%20%20%22fillRule%22%3A%20%22evenodd%22%2C%0A%20%20%22lineCap%22%3A%20%22round%22%2C%0A%20%20%22lineJoin%22%3A%20%22round%22%2C%0A%20%20%22opacity%22%3A%201.0%2C%0A%20%20%22radius%22%3A%205%2C%0A%20%20%22stroke%22%3A%20true%2C%0A%20%20%22weight%22%3A%203%0A%7D%0A%20%20%20%20%20%20%20%20%20%20%20%20%20%20%20%20%29.addTo%28map_4cc400ee7e0647f68e9805d47db64ff0%29%3B%0A%20%20%20%20%20%20%20%20%20%20%20%20%0A%20%20%20%20%0A%20%20%20%20%20%20%20%20%20%20%20%20var%20popup_12be60375a9b4a78b09fd81cf4d3c5bd%20%3D%20L.popup%28%7BmaxWidth%3A%20%27300%27%7D%29%3B%0A%0A%20%20%20%20%20%20%20%20%20%20%20%20%0A%20%20%20%20%20%20%20%20%20%20%20%20%20%20%20%20var%20html_d96bacf76dfa4e8895fa1005f6043967%20%3D%20%24%28%27%3Cdiv%20id%3D%22html_d96bacf76dfa4e8895fa1005f6043967%22%20style%3D%22width%3A%20100.0%25%3B%20height%3A%20100.0%25%3B%22%3ESa%C3%BAde%20Cluster%201%3C/div%3E%27%29%5B0%5D%3B%0A%20%20%20%20%20%20%20%20%20%20%20%20%20%20%20%20popup_12be60375a9b4a78b09fd81cf4d3c5bd.setContent%28html_d96bacf76dfa4e8895fa1005f6043967%29%3B%0A%20%20%20%20%20%20%20%20%20%20%20%20%0A%0A%20%20%20%20%20%20%20%20%20%20%20%20circle_marker_aec5afb0b47747cd846ab36dcfdb16cc.bindPopup%28popup_12be60375a9b4a78b09fd81cf4d3c5bd%29%3B%0A%0A%20%20%20%20%20%20%20%20%20%20%20%20%0A%20%20%20%20%20%20%20%20%0A%20%20%20%20%0A%20%20%20%20%20%20%20%20%20%20%20%20var%20circle_marker_64ad8c1700684d25b1efafcd3691739c%20%3D%20L.circleMarker%28%0A%20%20%20%20%20%20%20%20%20%20%20%20%20%20%20%20%5B-23.590262%2C-46.524910999999996%5D%2C%0A%20%20%20%20%20%20%20%20%20%20%20%20%20%20%20%20%7B%0A%20%20%22bubblingMouseEvents%22%3A%20true%2C%0A%20%20%22color%22%3A%20%22%238000ff%22%2C%0A%20%20%22dashArray%22%3A%20null%2C%0A%20%20%22dashOffset%22%3A%20null%2C%0A%20%20%22fill%22%3A%20true%2C%0A%20%20%22fillColor%22%3A%20%22%238000ff%22%2C%0A%20%20%22fillOpacity%22%3A%200.7%2C%0A%20%20%22fillRule%22%3A%20%22evenodd%22%2C%0A%20%20%22lineCap%22%3A%20%22round%22%2C%0A%20%20%22lineJoin%22%3A%20%22round%22%2C%0A%20%20%22opacity%22%3A%201.0%2C%0A%20%20%22radius%22%3A%205%2C%0A%20%20%22stroke%22%3A%20true%2C%0A%20%20%22weight%22%3A%203%0A%7D%0A%20%20%20%20%20%20%20%20%20%20%20%20%20%20%20%20%29.addTo%28map_4cc400ee7e0647f68e9805d47db64ff0%29%3B%0A%20%20%20%20%20%20%20%20%20%20%20%20%0A%20%20%20%20%0A%20%20%20%20%20%20%20%20%20%20%20%20var%20popup_b881de8072e6481aa12706d724bcad43%20%3D%20L.popup%28%7BmaxWidth%3A%20%27300%27%7D%29%3B%0A%0A%20%20%20%20%20%20%20%20%20%20%20%20%0A%20%20%20%20%20%20%20%20%20%20%20%20%20%20%20%20var%20html_a473e535551b489eb86a575f7702238a%20%3D%20%24%28%27%3Cdiv%20id%3D%22html_a473e535551b489eb86a575f7702238a%22%20style%3D%22width%3A%20100.0%25%3B%20height%3A%20100.0%25%3B%22%3ESocorro%20Cluster%201%3C/div%3E%27%29%5B0%5D%3B%0A%20%20%20%20%20%20%20%20%20%20%20%20%20%20%20%20popup_b881de8072e6481aa12706d724bcad43.setContent%28html_a473e535551b489eb86a575f7702238a%29%3B%0A%20%20%20%20%20%20%20%20%20%20%20%20%0A%0A%20%20%20%20%20%20%20%20%20%20%20%20circle_marker_64ad8c1700684d25b1efafcd3691739c.bindPopup%28popup_b881de8072e6481aa12706d724bcad43%29%3B%0A%0A%20%20%20%20%20%20%20%20%20%20%20%20%0A%20%20%20%20%20%20%20%20%0A%20%20%20%20%0A%20%20%20%20%20%20%20%20%20%20%20%20var%20circle_marker_d39557c05bf340fcbd51190e45969573%20%3D%20L.circleMarker%28%0A%20%20%20%20%20%20%20%20%20%20%20%20%20%20%20%20%5B-23.594946%2C-46.5459%5D%2C%0A%20%20%20%20%20%20%20%20%20%20%20%20%20%20%20%20%7B%0A%20%20%22bubblingMouseEvents%22%3A%20true%2C%0A%20%20%22color%22%3A%20%22%238000ff%22%2C%0A%20%20%22dashArray%22%3A%20null%2C%0A%20%20%22dashOffset%22%3A%20null%2C%0A%20%20%22fill%22%3A%20true%2C%0A%20%20%22fillColor%22%3A%20%22%238000ff%22%2C%0A%20%20%22fillOpacity%22%3A%200.7%2C%0A%20%20%22fillRule%22%3A%20%22evenodd%22%2C%0A%20%20%22lineCap%22%3A%20%22round%22%2C%0A%20%20%22lineJoin%22%3A%20%22round%22%2C%0A%20%20%22opacity%22%3A%201.0%2C%0A%20%20%22radius%22%3A%205%2C%0A%20%20%22stroke%22%3A%20true%2C%0A%20%20%22weight%22%3A%203%0A%7D%0A%20%20%20%20%20%20%20%20%20%20%20%20%20%20%20%20%29.addTo%28map_4cc400ee7e0647f68e9805d47db64ff0%29%3B%0A%20%20%20%20%20%20%20%20%20%20%20%20%0A%20%20%20%20%0A%20%20%20%20%20%20%20%20%20%20%20%20var%20popup_bc14d246deb64195989e915c060b4371%20%3D%20L.popup%28%7BmaxWidth%3A%20%27300%27%7D%29%3B%0A%0A%20%20%20%20%20%20%20%20%20%20%20%20%0A%20%20%20%20%20%20%20%20%20%20%20%20%20%20%20%20var%20html_f12fdb29cef349089dbb538b103d4c51%20%3D%20%24%28%27%3Cdiv%20id%3D%22html_f12fdb29cef349089dbb538b103d4c51%22%20style%3D%22width%3A%20100.0%25%3B%20height%3A%20100.0%25%3B%22%3ES%C3%A3o%20Lucas%20Cluster%201%3C/div%3E%27%29%5B0%5D%3B%0A%20%20%20%20%20%20%20%20%20%20%20%20%20%20%20%20popup_bc14d246deb64195989e915c060b4371.setContent%28html_f12fdb29cef349089dbb538b103d4c51%29%3B%0A%20%20%20%20%20%20%20%20%20%20%20%20%0A%0A%20%20%20%20%20%20%20%20%20%20%20%20circle_marker_d39557c05bf340fcbd51190e45969573.bindPopup%28popup_bc14d246deb64195989e915c060b4371%29%3B%0A%0A%20%20%20%20%20%20%20%20%20%20%20%20%0A%20%20%20%20%20%20%20%20%0A%20%20%20%20%0A%20%20%20%20%20%20%20%20%20%20%20%20var%20circle_marker_f20281188dc248eda53477f3c9cf66a0%20%3D%20L.circleMarker%28%0A%20%20%20%20%20%20%20%20%20%20%20%20%20%20%20%20%5B-23.540252%2C-46.576642%5D%2C%0A%20%20%20%20%20%20%20%20%20%20%20%20%20%20%20%20%7B%0A%20%20%22bubblingMouseEvents%22%3A%20true%2C%0A%20%20%22color%22%3A%20%22%23ff0000%22%2C%0A%20%20%22dashArray%22%3A%20null%2C%0A%20%20%22dashOffset%22%3A%20null%2C%0A%20%20%22fill%22%3A%20true%2C%0A%20%20%22fillColor%22%3A%20%22%23ff0000%22%2C%0A%20%20%22fillOpacity%22%3A%200.7%2C%0A%20%20%22fillRule%22%3A%20%22evenodd%22%2C%0A%20%20%22lineCap%22%3A%20%22round%22%2C%0A%20%20%22lineJoin%22%3A%20%22round%22%2C%0A%20%20%22opacity%22%3A%201.0%2C%0A%20%20%22radius%22%3A%205%2C%0A%20%20%22stroke%22%3A%20true%2C%0A%20%20%22weight%22%3A%203%0A%7D%0A%20%20%20%20%20%20%20%20%20%20%20%20%20%20%20%20%29.addTo%28map_4cc400ee7e0647f68e9805d47db64ff0%29%3B%0A%20%20%20%20%20%20%20%20%20%20%20%20%0A%20%20%20%20%0A%20%20%20%20%20%20%20%20%20%20%20%20var%20popup_6763bce8f2a049fd97b88edd8bdf2bee%20%3D%20L.popup%28%7BmaxWidth%3A%20%27300%27%7D%29%3B%0A%0A%20%20%20%20%20%20%20%20%20%20%20%20%0A%20%20%20%20%20%20%20%20%20%20%20%20%20%20%20%20var%20html_b27c9a3ef6db403aa706945a2a9a7a85%20%3D%20%24%28%27%3Cdiv%20id%3D%22html_b27c9a3ef6db403aa706945a2a9a7a85%22%20style%3D%22width%3A%20100.0%25%3B%20height%3A%20100.0%25%3B%22%3ETatuap%C3%A9%20Cluster%200%3C/div%3E%27%29%5B0%5D%3B%0A%20%20%20%20%20%20%20%20%20%20%20%20%20%20%20%20popup_6763bce8f2a049fd97b88edd8bdf2bee.setContent%28html_b27c9a3ef6db403aa706945a2a9a7a85%29%3B%0A%20%20%20%20%20%20%20%20%20%20%20%20%0A%0A%20%20%20%20%20%20%20%20%20%20%20%20circle_marker_f20281188dc248eda53477f3c9cf66a0.bindPopup%28popup_6763bce8f2a049fd97b88edd8bdf2bee%29%3B%0A%0A%20%20%20%20%20%20%20%20%20%20%20%20%0A%20%20%20%20%20%20%20%20%0A%20%20%20%20%0A%20%20%20%20%20%20%20%20%20%20%20%20var%20circle_marker_8e2c6fde141d446aa874360b9cfb3b1f%20%3D%20L.circleMarker%28%0A%20%20%20%20%20%20%20%20%20%20%20%20%20%20%20%20%5B-23.480075%2C-46.60327%5D%2C%0A%20%20%20%20%20%20%20%20%20%20%20%20%20%20%20%20%7B%0A%20%20%22bubblingMouseEvents%22%3A%20true%2C%0A%20%20%22color%22%3A%20%22%23ff0000%22%2C%0A%20%20%22dashArray%22%3A%20null%2C%0A%20%20%22dashOffset%22%3A%20null%2C%0A%20%20%22fill%22%3A%20true%2C%0A%20%20%22fillColor%22%3A%20%22%23ff0000%22%2C%0A%20%20%22fillOpacity%22%3A%200.7%2C%0A%20%20%22fillRule%22%3A%20%22evenodd%22%2C%0A%20%20%22lineCap%22%3A%20%22round%22%2C%0A%20%20%22lineJoin%22%3A%20%22round%22%2C%0A%20%20%22opacity%22%3A%201.0%2C%0A%20%20%22radius%22%3A%205%2C%0A%20%20%22stroke%22%3A%20true%2C%0A%20%20%22weight%22%3A%203%0A%7D%0A%20%20%20%20%20%20%20%20%20%20%20%20%20%20%20%20%29.addTo%28map_4cc400ee7e0647f68e9805d47db64ff0%29%3B%0A%20%20%20%20%20%20%20%20%20%20%20%20%0A%20%20%20%20%0A%20%20%20%20%20%20%20%20%20%20%20%20var%20popup_a2073e7facb94db39a6c7885992e9966%20%3D%20L.popup%28%7BmaxWidth%3A%20%27300%27%7D%29%3B%0A%0A%20%20%20%20%20%20%20%20%20%20%20%20%0A%20%20%20%20%20%20%20%20%20%20%20%20%20%20%20%20var%20html_8621a70a76d541e2af062d1fce2b15c3%20%3D%20%24%28%27%3Cdiv%20id%3D%22html_8621a70a76d541e2af062d1fce2b15c3%22%20style%3D%22width%3A%20100.0%25%3B%20height%3A%20100.0%25%3B%22%3ETucuruvi%20Cluster%200%3C/div%3E%27%29%5B0%5D%3B%0A%20%20%20%20%20%20%20%20%20%20%20%20%20%20%20%20popup_a2073e7facb94db39a6c7885992e9966.setContent%28html_8621a70a76d541e2af062d1fce2b15c3%29%3B%0A%20%20%20%20%20%20%20%20%20%20%20%20%0A%0A%20%20%20%20%20%20%20%20%20%20%20%20circle_marker_8e2c6fde141d446aa874360b9cfb3b1f.bindPopup%28popup_a2073e7facb94db39a6c7885992e9966%29%3B%0A%0A%20%20%20%20%20%20%20%20%20%20%20%20%0A%20%20%20%20%20%20%20%20%0A%20%20%20%20%0A%20%20%20%20%20%20%20%20%20%20%20%20var%20circle_marker_ce9cb173588b44b880a023089b34b4f1%20%3D%20L.circleMarker%28%0A%20%20%20%20%20%20%20%20%20%20%20%20%20%20%20%20%5B-23.500294%2C-46.458717%5D%2C%0A%20%20%20%20%20%20%20%20%20%20%20%20%20%20%20%20%7B%0A%20%20%22bubblingMouseEvents%22%3A%20true%2C%0A%20%20%22color%22%3A%20%22%23ff0000%22%2C%0A%20%20%22dashArray%22%3A%20null%2C%0A%20%20%22dashOffset%22%3A%20null%2C%0A%20%20%22fill%22%3A%20true%2C%0A%20%20%22fillColor%22%3A%20%22%23ff0000%22%2C%0A%20%20%22fillOpacity%22%3A%200.7%2C%0A%20%20%22fillRule%22%3A%20%22evenodd%22%2C%0A%20%20%22lineCap%22%3A%20%22round%22%2C%0A%20%20%22lineJoin%22%3A%20%22round%22%2C%0A%20%20%22opacity%22%3A%201.0%2C%0A%20%20%22radius%22%3A%205%2C%0A%20%20%22stroke%22%3A%20true%2C%0A%20%20%22weight%22%3A%203%0A%7D%0A%20%20%20%20%20%20%20%20%20%20%20%20%20%20%20%20%29.addTo%28map_4cc400ee7e0647f68e9805d47db64ff0%29%3B%0A%20%20%20%20%20%20%20%20%20%20%20%20%0A%20%20%20%20%0A%20%20%20%20%20%20%20%20%20%20%20%20var%20popup_8578e714fff94a108328613cb039ab3c%20%3D%20L.popup%28%7BmaxWidth%3A%20%27300%27%7D%29%3B%0A%0A%20%20%20%20%20%20%20%20%20%20%20%20%0A%20%20%20%20%20%20%20%20%20%20%20%20%20%20%20%20var%20html_11ece73dda5145bcadbcc9c2c4d9ab85%20%3D%20%24%28%27%3Cdiv%20id%3D%22html_11ece73dda5145bcadbcc9c2c4d9ab85%22%20style%3D%22width%3A%20100.0%25%3B%20height%3A%20100.0%25%3B%22%3EVila%20Jacu%C3%AD%20Cluster%200%3C/div%3E%27%29%5B0%5D%3B%0A%20%20%20%20%20%20%20%20%20%20%20%20%20%20%20%20popup_8578e714fff94a108328613cb039ab3c.setContent%28html_11ece73dda5145bcadbcc9c2c4d9ab85%29%3B%0A%20%20%20%20%20%20%20%20%20%20%20%20%0A%0A%20%20%20%20%20%20%20%20%20%20%20%20circle_marker_ce9cb173588b44b880a023089b34b4f1.bindPopup%28popup_8578e714fff94a108328613cb039ab3c%29%3B%0A%0A%20%20%20%20%20%20%20%20%20%20%20%20%0A%20%20%20%20%20%20%20%20%0A%20%20%20%20%0A%20%20%20%20%20%20%20%20%20%20%20%20var%20circle_marker_5416289fe2a2409383ec1a8e5ee2306b%20%3D%20L.circleMarker%28%0A%20%20%20%20%20%20%20%20%20%20%20%20%20%20%20%20%5B-23.5837%2C-46.632740999999996%5D%2C%0A%20%20%20%20%20%20%20%20%20%20%20%20%20%20%20%20%7B%0A%20%20%22bubblingMouseEvents%22%3A%20true%2C%0A%20%20%22color%22%3A%20%22%238000ff%22%2C%0A%20%20%22dashArray%22%3A%20null%2C%0A%20%20%22dashOffset%22%3A%20null%2C%0A%20%20%22fill%22%3A%20true%2C%0A%20%20%22fillColor%22%3A%20%22%238000ff%22%2C%0A%20%20%22fillOpacity%22%3A%200.7%2C%0A%20%20%22fillRule%22%3A%20%22evenodd%22%2C%0A%20%20%22lineCap%22%3A%20%22round%22%2C%0A%20%20%22lineJoin%22%3A%20%22round%22%2C%0A%20%20%22opacity%22%3A%201.0%2C%0A%20%20%22radius%22%3A%205%2C%0A%20%20%22stroke%22%3A%20true%2C%0A%20%20%22weight%22%3A%203%0A%7D%0A%20%20%20%20%20%20%20%20%20%20%20%20%20%20%20%20%29.addTo%28map_4cc400ee7e0647f68e9805d47db64ff0%29%3B%0A%20%20%20%20%20%20%20%20%20%20%20%20%0A%20%20%20%20%0A%20%20%20%20%20%20%20%20%20%20%20%20var%20popup_67c49074ed9a4b51b561526fca041244%20%3D%20L.popup%28%7BmaxWidth%3A%20%27300%27%7D%29%3B%0A%0A%20%20%20%20%20%20%20%20%20%20%20%20%0A%20%20%20%20%20%20%20%20%20%20%20%20%20%20%20%20var%20html_bd18ed218e304dc9919c75e885d66189%20%3D%20%24%28%27%3Cdiv%20id%3D%22html_bd18ed218e304dc9919c75e885d66189%22%20style%3D%22width%3A%20100.0%25%3B%20height%3A%20100.0%25%3B%22%3EVila%20Mariana%20Cluster%201%3C/div%3E%27%29%5B0%5D%3B%0A%20%20%20%20%20%20%20%20%20%20%20%20%20%20%20%20popup_67c49074ed9a4b51b561526fca041244.setContent%28html_bd18ed218e304dc9919c75e885d66189%29%3B%0A%20%20%20%20%20%20%20%20%20%20%20%20%0A%0A%20%20%20%20%20%20%20%20%20%20%20%20circle_marker_5416289fe2a2409383ec1a8e5ee2306b.bindPopup%28popup_67c49074ed9a4b51b561526fca041244%29%3B%0A%0A%20%20%20%20%20%20%20%20%20%20%20%20%0A%20%20%20%20%20%20%20%20%0A%20%20%20%20%0A%20%20%20%20%20%20%20%20%20%20%20%20var%20circle_marker_96e294ceb66d4b78bec3c5ee6ea0eb63%20%3D%20L.circleMarker%28%0A%20%20%20%20%20%20%20%20%20%20%20%20%20%20%20%20%5B-23.536179%2C-46.524605%5D%2C%0A%20%20%20%20%20%20%20%20%20%20%20%20%20%20%20%20%7B%0A%20%20%22bubblingMouseEvents%22%3A%20true%2C%0A%20%20%22color%22%3A%20%22%23ff0000%22%2C%0A%20%20%22dashArray%22%3A%20null%2C%0A%20%20%22dashOffset%22%3A%20null%2C%0A%20%20%22fill%22%3A%20true%2C%0A%20%20%22fillColor%22%3A%20%22%23ff0000%22%2C%0A%20%20%22fillOpacity%22%3A%200.7%2C%0A%20%20%22fillRule%22%3A%20%22evenodd%22%2C%0A%20%20%22lineCap%22%3A%20%22round%22%2C%0A%20%20%22lineJoin%22%3A%20%22round%22%2C%0A%20%20%22opacity%22%3A%201.0%2C%0A%20%20%22radius%22%3A%205%2C%0A%20%20%22stroke%22%3A%20true%2C%0A%20%20%22weight%22%3A%203%0A%7D%0A%20%20%20%20%20%20%20%20%20%20%20%20%20%20%20%20%29.addTo%28map_4cc400ee7e0647f68e9805d47db64ff0%29%3B%0A%20%20%20%20%20%20%20%20%20%20%20%20%0A%20%20%20%20%0A%20%20%20%20%20%20%20%20%20%20%20%20var%20popup_37c690138e074156a25789a48cdee4f8%20%3D%20L.popup%28%7BmaxWidth%3A%20%27300%27%7D%29%3B%0A%0A%20%20%20%20%20%20%20%20%20%20%20%20%0A%20%20%20%20%20%20%20%20%20%20%20%20%20%20%20%20var%20html_10a8d24ee29e4b75b676045851bfc32e%20%3D%20%24%28%27%3Cdiv%20id%3D%22html_10a8d24ee29e4b75b676045851bfc32e%22%20style%3D%22width%3A%20100.0%25%3B%20height%3A%20100.0%25%3B%22%3EVila%20Matilde%20Cluster%200%3C/div%3E%27%29%5B0%5D%3B%0A%20%20%20%20%20%20%20%20%20%20%20%20%20%20%20%20popup_37c690138e074156a25789a48cdee4f8.setContent%28html_10a8d24ee29e4b75b676045851bfc32e%29%3B%0A%20%20%20%20%20%20%20%20%20%20%20%20%0A%0A%20%20%20%20%20%20%20%20%20%20%20%20circle_marker_96e294ceb66d4b78bec3c5ee6ea0eb63.bindPopup%28popup_37c690138e074156a25789a48cdee4f8%29%3B%0A%0A%20%20%20%20%20%20%20%20%20%20%20%20%0A%20%20%20%20%20%20%20%20%0A%20%20%20%20%0A%20%20%20%20%20%20%20%20%20%20%20%20var%20circle_marker_f76c4bce6b7f49918581b3e42797ddb8%20%3D%20L.circleMarker%28%0A%20%20%20%20%20%20%20%20%20%20%20%20%20%20%20%20%5B-23.487707%2C-46.584496%5D%2C%0A%20%20%20%20%20%20%20%20%20%20%20%20%20%20%20%20%7B%0A%20%20%22bubblingMouseEvents%22%3A%20true%2C%0A%20%20%22color%22%3A%20%22%23ff0000%22%2C%0A%20%20%22dashArray%22%3A%20null%2C%0A%20%20%22dashOffset%22%3A%20null%2C%0A%20%20%22fill%22%3A%20true%2C%0A%20%20%22fillColor%22%3A%20%22%23ff0000%22%2C%0A%20%20%22fillOpacity%22%3A%200.7%2C%0A%20%20%22fillRule%22%3A%20%22evenodd%22%2C%0A%20%20%22lineCap%22%3A%20%22round%22%2C%0A%20%20%22lineJoin%22%3A%20%22round%22%2C%0A%20%20%22opacity%22%3A%201.0%2C%0A%20%20%22radius%22%3A%205%2C%0A%20%20%22stroke%22%3A%20true%2C%0A%20%20%22weight%22%3A%203%0A%7D%0A%20%20%20%20%20%20%20%20%20%20%20%20%20%20%20%20%29.addTo%28map_4cc400ee7e0647f68e9805d47db64ff0%29%3B%0A%20%20%20%20%20%20%20%20%20%20%20%20%0A%20%20%20%20%0A%20%20%20%20%20%20%20%20%20%20%20%20var%20popup_a1f72349e400441fabd8f12421e32048%20%3D%20L.popup%28%7BmaxWidth%3A%20%27300%27%7D%29%3B%0A%0A%20%20%20%20%20%20%20%20%20%20%20%20%0A%20%20%20%20%20%20%20%20%20%20%20%20%20%20%20%20var%20html_6596e65a7ae6488b92665ab1ef1d12e8%20%3D%20%24%28%27%3Cdiv%20id%3D%22html_6596e65a7ae6488b92665ab1ef1d12e8%22%20style%3D%22width%3A%20100.0%25%3B%20height%3A%20100.0%25%3B%22%3EVila%20Medeiros%20Cluster%200%3C/div%3E%27%29%5B0%5D%3B%0A%20%20%20%20%20%20%20%20%20%20%20%20%20%20%20%20popup_a1f72349e400441fabd8f12421e32048.setContent%28html_6596e65a7ae6488b92665ab1ef1d12e8%29%3B%0A%20%20%20%20%20%20%20%20%20%20%20%20%0A%0A%20%20%20%20%20%20%20%20%20%20%20%20circle_marker_f76c4bce6b7f49918581b3e42797ddb8.bindPopup%28popup_a1f72349e400441fabd8f12421e32048%29%3B%0A%0A%20%20%20%20%20%20%20%20%20%20%20%20%0A%20%20%20%20%20%20%20%20%0A%3C/script%3E onload=\"this.contentDocument.open();this.contentDocument.write(    decodeURIComponent(this.getAttribute('data-html')));this.contentDocument.close();\" allowfullscreen webkitallowfullscreen mozallowfullscreen></iframe></div></div>"
      ],
      "text/plain": [
       "<folium.folium.Map at 0x231d1da5ee0>"
      ]
     },
     "execution_count": 47,
     "metadata": {},
     "output_type": "execute_result"
    }
   ],
   "source": [
    "k = 4 # optimal number of clusters\n",
    "\n",
    "map_clusters = folium.Map(location=[latitude, longitude], zoom_start=11)\n",
    "\n",
    "# set color scheme for clusters\n",
    "x = np.arange(k)\n",
    "ys = [i + x + (i * x) ** 2 for i in range(k)]\n",
    "colors_array = cm.rainbow(np.linspace(0, 1, len(ys)))\n",
    "rainbow = [colors.rgb2hex(i) for i in colors_array]\n",
    "\n",
    "# add markers to the map\n",
    "markers_colors = []\n",
    "for lat, lng, dist, cluster in zip(pet_nearby['Latitude'], \n",
    "                                   pet_nearby['Longitude'], \n",
    "                                   pet_nearby['District'], \n",
    "                                   pet_nearby['Cluster Label']):\n",
    "    label = folium.Popup(str(dist) + ' Cluster ' + str(cluster), parse_html=True)\n",
    "    folium.CircleMarker(\n",
    "        [lat, lng], \n",
    "        radius=5, \n",
    "        popup=label, \n",
    "        color=rainbow[cluster-1], \n",
    "        fill=True, \n",
    "        fill_color=rainbow[cluster-1], \n",
    "        fill_opacity=.7).add_to(map_clusters)\n",
    "    \n",
    "map_clusters"
   ]
  },
  {
   "cell_type": "code",
   "execution_count": 48,
   "metadata": {},
   "outputs": [],
   "source": [
    "map_clusters.save('sp_dists_clustered.html')"
   ]
  },
  {
   "cell_type": "markdown",
   "metadata": {},
   "source": [
    "# Results"
   ]
  },
  {
   "cell_type": "markdown",
   "metadata": {},
   "source": [
    "Finally, we will take a closer look at each cluster to find out the kinds of venues we can find in each of the districts assigned to them."
   ]
  },
  {
   "cell_type": "code",
   "execution_count": 49,
   "metadata": {},
   "outputs": [
    {
     "data": {
      "text/html": [
       "<div>\n",
       "<style scoped>\n",
       "    .dataframe tbody tr th:only-of-type {\n",
       "        vertical-align: middle;\n",
       "    }\n",
       "\n",
       "    .dataframe tbody tr th {\n",
       "        vertical-align: top;\n",
       "    }\n",
       "\n",
       "    .dataframe thead th {\n",
       "        text-align: right;\n",
       "    }\n",
       "</style>\n",
       "<table border=\"1\" class=\"dataframe\">\n",
       "  <thead>\n",
       "    <tr style=\"text-align: right;\">\n",
       "      <th></th>\n",
       "      <th>District</th>\n",
       "      <th>Average Rating</th>\n",
       "      <th>1st Most Common Venue</th>\n",
       "      <th>2nd Most Common Venue</th>\n",
       "      <th>3rd Most Common Venue</th>\n",
       "      <th>4th Most Common Venue</th>\n",
       "      <th>5th Most Common Venue</th>\n",
       "      <th>6th Most Common Venue</th>\n",
       "      <th>7th Most Common Venue</th>\n",
       "      <th>8th Most Common Venue</th>\n",
       "      <th>9th Most Common Venue</th>\n",
       "      <th>10th Most Common Venue</th>\n",
       "    </tr>\n",
       "  </thead>\n",
       "  <tbody>\n",
       "    <tr>\n",
       "      <th>16</th>\n",
       "      <td>Tatuapé</td>\n",
       "      <td>7.5</td>\n",
       "      <td>Coffee Shop</td>\n",
       "      <td>Pizza Place</td>\n",
       "      <td>Dessert Shop</td>\n",
       "      <td>Ice Cream Shop</td>\n",
       "      <td>Burger Joint</td>\n",
       "      <td>Restaurant</td>\n",
       "      <td>Café</td>\n",
       "      <td>Cosmetics Shop</td>\n",
       "      <td>Grocery Store</td>\n",
       "      <td>Bar</td>\n",
       "    </tr>\n",
       "    <tr>\n",
       "      <th>17</th>\n",
       "      <td>Tucuruvi</td>\n",
       "      <td>8.2</td>\n",
       "      <td>Pizza Place</td>\n",
       "      <td>Fast Food Restaurant</td>\n",
       "      <td>Ice Cream Shop</td>\n",
       "      <td>Bar</td>\n",
       "      <td>Dessert Shop</td>\n",
       "      <td>Chocolate Shop</td>\n",
       "      <td>Clothing Store</td>\n",
       "      <td>Bakery</td>\n",
       "      <td>Market</td>\n",
       "      <td>Snack Place</td>\n",
       "    </tr>\n",
       "    <tr>\n",
       "      <th>18</th>\n",
       "      <td>Vila Jacuí</td>\n",
       "      <td>7.5</td>\n",
       "      <td>Bar</td>\n",
       "      <td>Bakery</td>\n",
       "      <td>Burger Joint</td>\n",
       "      <td>Gym / Fitness Center</td>\n",
       "      <td>Clothing Store</td>\n",
       "      <td>College Quad</td>\n",
       "      <td>Hardware Store</td>\n",
       "      <td>Pastelaria</td>\n",
       "      <td>BBQ Joint</td>\n",
       "      <td>Fast Food Restaurant</td>\n",
       "    </tr>\n",
       "    <tr>\n",
       "      <th>20</th>\n",
       "      <td>Vila Matilde</td>\n",
       "      <td>7.6</td>\n",
       "      <td>Pizza Place</td>\n",
       "      <td>Bar</td>\n",
       "      <td>Ice Cream Shop</td>\n",
       "      <td>Gym / Fitness Center</td>\n",
       "      <td>Restaurant</td>\n",
       "      <td>Brazilian Restaurant</td>\n",
       "      <td>Burger Joint</td>\n",
       "      <td>Supermarket</td>\n",
       "      <td>Farmers Market</td>\n",
       "      <td>Paper / Office Supplies Store</td>\n",
       "    </tr>\n",
       "    <tr>\n",
       "      <th>21</th>\n",
       "      <td>Vila Medeiros</td>\n",
       "      <td>7.6</td>\n",
       "      <td>Brazilian Restaurant</td>\n",
       "      <td>Pizza Place</td>\n",
       "      <td>Event Space</td>\n",
       "      <td>Northeastern Brazilian Restaurant</td>\n",
       "      <td>Pastelaria</td>\n",
       "      <td>Farmers Market</td>\n",
       "      <td>Bakery</td>\n",
       "      <td>Market</td>\n",
       "      <td>Convenience Store</td>\n",
       "      <td>Lottery Retailer</td>\n",
       "    </tr>\n",
       "  </tbody>\n",
       "</table>\n",
       "</div>"
      ],
      "text/plain": [
       "         District  Average Rating 1st Most Common Venue 2nd Most Common Venue  \\\n",
       "16        Tatuapé             7.5           Coffee Shop           Pizza Place   \n",
       "17       Tucuruvi             8.2           Pizza Place  Fast Food Restaurant   \n",
       "18     Vila Jacuí             7.5                   Bar                Bakery   \n",
       "20   Vila Matilde             7.6           Pizza Place                   Bar   \n",
       "21  Vila Medeiros             7.6  Brazilian Restaurant           Pizza Place   \n",
       "\n",
       "   3rd Most Common Venue              4th Most Common Venue  \\\n",
       "16          Dessert Shop                     Ice Cream Shop   \n",
       "17        Ice Cream Shop                                Bar   \n",
       "18          Burger Joint               Gym / Fitness Center   \n",
       "20        Ice Cream Shop               Gym / Fitness Center   \n",
       "21           Event Space  Northeastern Brazilian Restaurant   \n",
       "\n",
       "   5th Most Common Venue 6th Most Common Venue 7th Most Common Venue  \\\n",
       "16          Burger Joint            Restaurant                  Café   \n",
       "17          Dessert Shop        Chocolate Shop        Clothing Store   \n",
       "18        Clothing Store          College Quad        Hardware Store   \n",
       "20            Restaurant  Brazilian Restaurant          Burger Joint   \n",
       "21            Pastelaria        Farmers Market                Bakery   \n",
       "\n",
       "   8th Most Common Venue 9th Most Common Venue         10th Most Common Venue  \n",
       "16        Cosmetics Shop         Grocery Store                            Bar  \n",
       "17                Bakery                Market                    Snack Place  \n",
       "18            Pastelaria             BBQ Joint           Fast Food Restaurant  \n",
       "20           Supermarket        Farmers Market  Paper / Office Supplies Store  \n",
       "21                Market     Convenience Store               Lottery Retailer  "
      ]
     },
     "execution_count": 49,
     "metadata": {},
     "output_type": "execute_result"
    }
   ],
   "source": [
    "cluster_0 = pet_nearby.loc[pet_nearby['Cluster Label'] == 0, \n",
    "                              pet_nearby.columns[[0] + [3] + list(range(5, pet_nearby.shape[1]))]]\n",
    "cluster_0"
   ]
  },
  {
   "cell_type": "code",
   "execution_count": 50,
   "metadata": {},
   "outputs": [
    {
     "data": {
      "text/plain": [
       "7.68"
      ]
     },
     "execution_count": 50,
     "metadata": {},
     "output_type": "execute_result"
    }
   ],
   "source": [
    "cluster_0['Average Rating'].mean()"
   ]
  },
  {
   "cell_type": "code",
   "execution_count": 51,
   "metadata": {},
   "outputs": [
    {
     "data": {
      "text/html": [
       "<div>\n",
       "<style scoped>\n",
       "    .dataframe tbody tr th:only-of-type {\n",
       "        vertical-align: middle;\n",
       "    }\n",
       "\n",
       "    .dataframe tbody tr th {\n",
       "        vertical-align: top;\n",
       "    }\n",
       "\n",
       "    .dataframe thead th {\n",
       "        text-align: right;\n",
       "    }\n",
       "</style>\n",
       "<table border=\"1\" class=\"dataframe\">\n",
       "  <thead>\n",
       "    <tr style=\"text-align: right;\">\n",
       "      <th></th>\n",
       "      <th>District</th>\n",
       "      <th>Average Rating</th>\n",
       "      <th>1st Most Common Venue</th>\n",
       "      <th>2nd Most Common Venue</th>\n",
       "      <th>3rd Most Common Venue</th>\n",
       "      <th>4th Most Common Venue</th>\n",
       "      <th>5th Most Common Venue</th>\n",
       "      <th>6th Most Common Venue</th>\n",
       "      <th>7th Most Common Venue</th>\n",
       "      <th>8th Most Common Venue</th>\n",
       "      <th>9th Most Common Venue</th>\n",
       "      <th>10th Most Common Venue</th>\n",
       "    </tr>\n",
       "  </thead>\n",
       "  <tbody>\n",
       "    <tr>\n",
       "      <th>1</th>\n",
       "      <td>Campo Belo</td>\n",
       "      <td>7.833333</td>\n",
       "      <td>Bar</td>\n",
       "      <td>Bakery</td>\n",
       "      <td>Restaurant</td>\n",
       "      <td>Brazilian Restaurant</td>\n",
       "      <td>Pet Store</td>\n",
       "      <td>Sushi Restaurant</td>\n",
       "      <td>Middle Eastern Restaurant</td>\n",
       "      <td>Dessert Shop</td>\n",
       "      <td>Pizza Place</td>\n",
       "      <td>Burger Joint</td>\n",
       "    </tr>\n",
       "    <tr>\n",
       "      <th>3</th>\n",
       "      <td>Ipiranga</td>\n",
       "      <td>8.100000</td>\n",
       "      <td>Bar</td>\n",
       "      <td>Brazilian Restaurant</td>\n",
       "      <td>Burger Joint</td>\n",
       "      <td>Bakery</td>\n",
       "      <td>Pizza Place</td>\n",
       "      <td>Gym</td>\n",
       "      <td>Coffee Shop</td>\n",
       "      <td>Shoe Store</td>\n",
       "      <td>Restaurant</td>\n",
       "      <td>Cosmetics Shop</td>\n",
       "    </tr>\n",
       "    <tr>\n",
       "      <th>7</th>\n",
       "      <td>Moema</td>\n",
       "      <td>7.650000</td>\n",
       "      <td>Dessert Shop</td>\n",
       "      <td>Supermarket</td>\n",
       "      <td>Burger Joint</td>\n",
       "      <td>Plaza</td>\n",
       "      <td>Pizza Place</td>\n",
       "      <td>Pharmacy</td>\n",
       "      <td>Italian Restaurant</td>\n",
       "      <td>Sushi Restaurant</td>\n",
       "      <td>Middle Eastern Restaurant</td>\n",
       "      <td>Massage Studio</td>\n",
       "    </tr>\n",
       "    <tr>\n",
       "      <th>8</th>\n",
       "      <td>Mooca</td>\n",
       "      <td>7.500000</td>\n",
       "      <td>Bar</td>\n",
       "      <td>Burger Joint</td>\n",
       "      <td>Bakery</td>\n",
       "      <td>Gym</td>\n",
       "      <td>Gym / Fitness Center</td>\n",
       "      <td>Dessert Shop</td>\n",
       "      <td>Pizza Place</td>\n",
       "      <td>Brazilian Restaurant</td>\n",
       "      <td>Restaurant</td>\n",
       "      <td>Mexican Restaurant</td>\n",
       "    </tr>\n",
       "    <tr>\n",
       "      <th>13</th>\n",
       "      <td>Saúde</td>\n",
       "      <td>7.250000</td>\n",
       "      <td>Pharmacy</td>\n",
       "      <td>Pizza Place</td>\n",
       "      <td>Bakery</td>\n",
       "      <td>Vegetarian / Vegan Restaurant</td>\n",
       "      <td>Gym / Fitness Center</td>\n",
       "      <td>Martial Arts School</td>\n",
       "      <td>Juice Bar</td>\n",
       "      <td>Chocolate Shop</td>\n",
       "      <td>Pet Store</td>\n",
       "      <td>Japanese Restaurant</td>\n",
       "    </tr>\n",
       "    <tr>\n",
       "      <th>14</th>\n",
       "      <td>Socorro</td>\n",
       "      <td>7.100000</td>\n",
       "      <td>Bakery</td>\n",
       "      <td>Farmers Market</td>\n",
       "      <td>Pizza Place</td>\n",
       "      <td>Candy Store</td>\n",
       "      <td>Pet Store</td>\n",
       "      <td>Market</td>\n",
       "      <td>Food Truck</td>\n",
       "      <td>Soccer Field</td>\n",
       "      <td>Ice Cream Shop</td>\n",
       "      <td>Fruit &amp; Vegetable Store</td>\n",
       "    </tr>\n",
       "    <tr>\n",
       "      <th>15</th>\n",
       "      <td>São Lucas</td>\n",
       "      <td>7.550000</td>\n",
       "      <td>Dessert Shop</td>\n",
       "      <td>Bakery</td>\n",
       "      <td>Pet Store</td>\n",
       "      <td>Food Truck</td>\n",
       "      <td>Pizza Place</td>\n",
       "      <td>Gym / Fitness Center</td>\n",
       "      <td>Bar</td>\n",
       "      <td>Chinese Restaurant</td>\n",
       "      <td>Chocolate Shop</td>\n",
       "      <td>Furniture / Home Store</td>\n",
       "    </tr>\n",
       "    <tr>\n",
       "      <th>19</th>\n",
       "      <td>Vila Mariana</td>\n",
       "      <td>7.333333</td>\n",
       "      <td>Restaurant</td>\n",
       "      <td>Pizza Place</td>\n",
       "      <td>Ice Cream Shop</td>\n",
       "      <td>Pet Store</td>\n",
       "      <td>General Entertainment</td>\n",
       "      <td>Spa</td>\n",
       "      <td>Pharmacy</td>\n",
       "      <td>Farmers Market</td>\n",
       "      <td>Burger Joint</td>\n",
       "      <td>Hostel</td>\n",
       "    </tr>\n",
       "  </tbody>\n",
       "</table>\n",
       "</div>"
      ],
      "text/plain": [
       "        District  Average Rating 1st Most Common Venue 2nd Most Common Venue  \\\n",
       "1     Campo Belo        7.833333                   Bar                Bakery   \n",
       "3       Ipiranga        8.100000                   Bar  Brazilian Restaurant   \n",
       "7          Moema        7.650000          Dessert Shop           Supermarket   \n",
       "8          Mooca        7.500000                   Bar          Burger Joint   \n",
       "13         Saúde        7.250000              Pharmacy           Pizza Place   \n",
       "14       Socorro        7.100000                Bakery        Farmers Market   \n",
       "15     São Lucas        7.550000          Dessert Shop                Bakery   \n",
       "19  Vila Mariana        7.333333            Restaurant           Pizza Place   \n",
       "\n",
       "   3rd Most Common Venue          4th Most Common Venue  \\\n",
       "1             Restaurant           Brazilian Restaurant   \n",
       "3           Burger Joint                         Bakery   \n",
       "7           Burger Joint                          Plaza   \n",
       "8                 Bakery                            Gym   \n",
       "13                Bakery  Vegetarian / Vegan Restaurant   \n",
       "14           Pizza Place                    Candy Store   \n",
       "15             Pet Store                     Food Truck   \n",
       "19        Ice Cream Shop                      Pet Store   \n",
       "\n",
       "    5th Most Common Venue 6th Most Common Venue      7th Most Common Venue  \\\n",
       "1               Pet Store      Sushi Restaurant  Middle Eastern Restaurant   \n",
       "3             Pizza Place                   Gym                Coffee Shop   \n",
       "7             Pizza Place              Pharmacy         Italian Restaurant   \n",
       "8    Gym / Fitness Center          Dessert Shop                Pizza Place   \n",
       "13   Gym / Fitness Center   Martial Arts School                  Juice Bar   \n",
       "14              Pet Store                Market                 Food Truck   \n",
       "15            Pizza Place  Gym / Fitness Center                        Bar   \n",
       "19  General Entertainment                   Spa                   Pharmacy   \n",
       "\n",
       "   8th Most Common Venue      9th Most Common Venue   10th Most Common Venue  \n",
       "1           Dessert Shop                Pizza Place             Burger Joint  \n",
       "3             Shoe Store                 Restaurant           Cosmetics Shop  \n",
       "7       Sushi Restaurant  Middle Eastern Restaurant           Massage Studio  \n",
       "8   Brazilian Restaurant                 Restaurant       Mexican Restaurant  \n",
       "13        Chocolate Shop                  Pet Store      Japanese Restaurant  \n",
       "14          Soccer Field             Ice Cream Shop  Fruit & Vegetable Store  \n",
       "15    Chinese Restaurant             Chocolate Shop   Furniture / Home Store  \n",
       "19        Farmers Market               Burger Joint                   Hostel  "
      ]
     },
     "execution_count": 51,
     "metadata": {},
     "output_type": "execute_result"
    }
   ],
   "source": [
    "cluster_1 = pet_nearby.loc[pet_nearby['Cluster Label'] == 1, \n",
    "                              pet_nearby.columns[[0] + [3] + list(range(5, pet_nearby.shape[1]))]]\n",
    "cluster_1"
   ]
  },
  {
   "cell_type": "code",
   "execution_count": 52,
   "metadata": {},
   "outputs": [
    {
     "data": {
      "text/plain": [
       "7.539583333333334"
      ]
     },
     "execution_count": 52,
     "metadata": {},
     "output_type": "execute_result"
    }
   ],
   "source": [
    "cluster_1['Average Rating'].mean()"
   ]
  },
  {
   "cell_type": "code",
   "execution_count": 53,
   "metadata": {},
   "outputs": [
    {
     "data": {
      "text/html": [
       "<div>\n",
       "<style scoped>\n",
       "    .dataframe tbody tr th:only-of-type {\n",
       "        vertical-align: middle;\n",
       "    }\n",
       "\n",
       "    .dataframe tbody tr th {\n",
       "        vertical-align: top;\n",
       "    }\n",
       "\n",
       "    .dataframe thead th {\n",
       "        text-align: right;\n",
       "    }\n",
       "</style>\n",
       "<table border=\"1\" class=\"dataframe\">\n",
       "  <thead>\n",
       "    <tr style=\"text-align: right;\">\n",
       "      <th></th>\n",
       "      <th>District</th>\n",
       "      <th>Average Rating</th>\n",
       "      <th>1st Most Common Venue</th>\n",
       "      <th>2nd Most Common Venue</th>\n",
       "      <th>3rd Most Common Venue</th>\n",
       "      <th>4th Most Common Venue</th>\n",
       "      <th>5th Most Common Venue</th>\n",
       "      <th>6th Most Common Venue</th>\n",
       "      <th>7th Most Common Venue</th>\n",
       "      <th>8th Most Common Venue</th>\n",
       "      <th>9th Most Common Venue</th>\n",
       "      <th>10th Most Common Venue</th>\n",
       "    </tr>\n",
       "  </thead>\n",
       "  <tbody>\n",
       "    <tr>\n",
       "      <th>0</th>\n",
       "      <td>Bela Vista</td>\n",
       "      <td>8.700</td>\n",
       "      <td>Pizza Place</td>\n",
       "      <td>Hotel</td>\n",
       "      <td>Bar</td>\n",
       "      <td>Cosmetics Shop</td>\n",
       "      <td>Coffee Shop</td>\n",
       "      <td>Café</td>\n",
       "      <td>Gymnastics Gym</td>\n",
       "      <td>Japanese Restaurant</td>\n",
       "      <td>Chocolate Shop</td>\n",
       "      <td>Italian Restaurant</td>\n",
       "    </tr>\n",
       "    <tr>\n",
       "      <th>4</th>\n",
       "      <td>Itaim Bibi</td>\n",
       "      <td>9.100</td>\n",
       "      <td>Italian Restaurant</td>\n",
       "      <td>Japanese Restaurant</td>\n",
       "      <td>Bar</td>\n",
       "      <td>Burger Joint</td>\n",
       "      <td>Ice Cream Shop</td>\n",
       "      <td>Restaurant</td>\n",
       "      <td>Brazilian Restaurant</td>\n",
       "      <td>French Restaurant</td>\n",
       "      <td>Gym / Fitness Center</td>\n",
       "      <td>Hotel</td>\n",
       "    </tr>\n",
       "    <tr>\n",
       "      <th>5</th>\n",
       "      <td>Jardim Paulista</td>\n",
       "      <td>8.300</td>\n",
       "      <td>Italian Restaurant</td>\n",
       "      <td>Hotel</td>\n",
       "      <td>Gym / Fitness Center</td>\n",
       "      <td>Brazilian Restaurant</td>\n",
       "      <td>Restaurant</td>\n",
       "      <td>Middle Eastern Restaurant</td>\n",
       "      <td>Spanish Restaurant</td>\n",
       "      <td>Japanese Restaurant</td>\n",
       "      <td>Dessert Shop</td>\n",
       "      <td>Burger Joint</td>\n",
       "    </tr>\n",
       "    <tr>\n",
       "      <th>6</th>\n",
       "      <td>Liberdade</td>\n",
       "      <td>8.325</td>\n",
       "      <td>Pizza Place</td>\n",
       "      <td>Gym / Fitness Center</td>\n",
       "      <td>Bakery</td>\n",
       "      <td>Brazilian Restaurant</td>\n",
       "      <td>Farmers Market</td>\n",
       "      <td>Pet Store</td>\n",
       "      <td>Pharmacy</td>\n",
       "      <td>Korean Restaurant</td>\n",
       "      <td>Supermarket</td>\n",
       "      <td>BBQ Joint</td>\n",
       "    </tr>\n",
       "    <tr>\n",
       "      <th>12</th>\n",
       "      <td>Santo Amaro</td>\n",
       "      <td>8.800</td>\n",
       "      <td>Gym</td>\n",
       "      <td>Restaurant</td>\n",
       "      <td>Bar</td>\n",
       "      <td>Tea Room</td>\n",
       "      <td>Brazilian Restaurant</td>\n",
       "      <td>Japanese Restaurant</td>\n",
       "      <td>Burger Joint</td>\n",
       "      <td>Sandwich Place</td>\n",
       "      <td>Bike Rental / Bike Share</td>\n",
       "      <td>Metro Station</td>\n",
       "    </tr>\n",
       "  </tbody>\n",
       "</table>\n",
       "</div>"
      ],
      "text/plain": [
       "           District  Average Rating 1st Most Common Venue  \\\n",
       "0        Bela Vista           8.700           Pizza Place   \n",
       "4        Itaim Bibi           9.100    Italian Restaurant   \n",
       "5   Jardim Paulista           8.300    Italian Restaurant   \n",
       "6         Liberdade           8.325           Pizza Place   \n",
       "12      Santo Amaro           8.800                   Gym   \n",
       "\n",
       "   2nd Most Common Venue 3rd Most Common Venue 4th Most Common Venue  \\\n",
       "0                  Hotel                   Bar        Cosmetics Shop   \n",
       "4    Japanese Restaurant                   Bar          Burger Joint   \n",
       "5                  Hotel  Gym / Fitness Center  Brazilian Restaurant   \n",
       "6   Gym / Fitness Center                Bakery  Brazilian Restaurant   \n",
       "12            Restaurant                   Bar              Tea Room   \n",
       "\n",
       "   5th Most Common Venue      6th Most Common Venue 7th Most Common Venue  \\\n",
       "0            Coffee Shop                       Café        Gymnastics Gym   \n",
       "4         Ice Cream Shop                 Restaurant  Brazilian Restaurant   \n",
       "5             Restaurant  Middle Eastern Restaurant    Spanish Restaurant   \n",
       "6         Farmers Market                  Pet Store              Pharmacy   \n",
       "12  Brazilian Restaurant        Japanese Restaurant          Burger Joint   \n",
       "\n",
       "   8th Most Common Venue     9th Most Common Venue 10th Most Common Venue  \n",
       "0    Japanese Restaurant            Chocolate Shop     Italian Restaurant  \n",
       "4      French Restaurant      Gym / Fitness Center                  Hotel  \n",
       "5    Japanese Restaurant              Dessert Shop           Burger Joint  \n",
       "6      Korean Restaurant               Supermarket              BBQ Joint  \n",
       "12        Sandwich Place  Bike Rental / Bike Share          Metro Station  "
      ]
     },
     "execution_count": 53,
     "metadata": {},
     "output_type": "execute_result"
    }
   ],
   "source": [
    "cluster_2 = pet_nearby.loc[pet_nearby['Cluster Label'] == 2, \n",
    "                              pet_nearby.columns[[0] + [3] + list(range(5, pet_nearby.shape[1]))]]\n",
    "cluster_2"
   ]
  },
  {
   "cell_type": "code",
   "execution_count": 54,
   "metadata": {},
   "outputs": [
    {
     "data": {
      "text/plain": [
       "8.645"
      ]
     },
     "execution_count": 54,
     "metadata": {},
     "output_type": "execute_result"
    }
   ],
   "source": [
    "cluster_2['Average Rating'].mean()"
   ]
  },
  {
   "cell_type": "code",
   "execution_count": 55,
   "metadata": {},
   "outputs": [
    {
     "data": {
      "text/html": [
       "<div>\n",
       "<style scoped>\n",
       "    .dataframe tbody tr th:only-of-type {\n",
       "        vertical-align: middle;\n",
       "    }\n",
       "\n",
       "    .dataframe tbody tr th {\n",
       "        vertical-align: top;\n",
       "    }\n",
       "\n",
       "    .dataframe thead th {\n",
       "        text-align: right;\n",
       "    }\n",
       "</style>\n",
       "<table border=\"1\" class=\"dataframe\">\n",
       "  <thead>\n",
       "    <tr style=\"text-align: right;\">\n",
       "      <th></th>\n",
       "      <th>District</th>\n",
       "      <th>Average Rating</th>\n",
       "      <th>1st Most Common Venue</th>\n",
       "      <th>2nd Most Common Venue</th>\n",
       "      <th>3rd Most Common Venue</th>\n",
       "      <th>4th Most Common Venue</th>\n",
       "      <th>5th Most Common Venue</th>\n",
       "      <th>6th Most Common Venue</th>\n",
       "      <th>7th Most Common Venue</th>\n",
       "      <th>8th Most Common Venue</th>\n",
       "      <th>9th Most Common Venue</th>\n",
       "      <th>10th Most Common Venue</th>\n",
       "    </tr>\n",
       "  </thead>\n",
       "  <tbody>\n",
       "    <tr>\n",
       "      <th>2</th>\n",
       "      <td>Freguesia do Ó</td>\n",
       "      <td>7.10</td>\n",
       "      <td>Pizza Place</td>\n",
       "      <td>Gym / Fitness Center</td>\n",
       "      <td>Pharmacy</td>\n",
       "      <td>Department Store</td>\n",
       "      <td>Brazilian Restaurant</td>\n",
       "      <td>Brewery</td>\n",
       "      <td>Chocolate Shop</td>\n",
       "      <td>Sandwich Place</td>\n",
       "      <td>Salon / Barbershop</td>\n",
       "      <td>Cosmetics Shop</td>\n",
       "    </tr>\n",
       "    <tr>\n",
       "      <th>9</th>\n",
       "      <td>Perdizes</td>\n",
       "      <td>7.15</td>\n",
       "      <td>Burger Joint</td>\n",
       "      <td>Bar</td>\n",
       "      <td>Gym / Fitness Center</td>\n",
       "      <td>Pharmacy</td>\n",
       "      <td>Dessert Shop</td>\n",
       "      <td>Italian Restaurant</td>\n",
       "      <td>Pizza Place</td>\n",
       "      <td>Restaurant</td>\n",
       "      <td>Café</td>\n",
       "      <td>Bakery</td>\n",
       "    </tr>\n",
       "    <tr>\n",
       "      <th>10</th>\n",
       "      <td>Rio Pequeno</td>\n",
       "      <td>7.20</td>\n",
       "      <td>Fruit &amp; Vegetable Store</td>\n",
       "      <td>Convenience Store</td>\n",
       "      <td>Gym</td>\n",
       "      <td>Bar</td>\n",
       "      <td>Chocolate Shop</td>\n",
       "      <td>Bakery</td>\n",
       "      <td>Food &amp; Drink Shop</td>\n",
       "      <td>BBQ Joint</td>\n",
       "      <td>Health &amp; Beauty Service</td>\n",
       "      <td>Food Truck</td>\n",
       "    </tr>\n",
       "    <tr>\n",
       "      <th>11</th>\n",
       "      <td>Santana</td>\n",
       "      <td>7.20</td>\n",
       "      <td>Burger Joint</td>\n",
       "      <td>Pharmacy</td>\n",
       "      <td>Pizza Place</td>\n",
       "      <td>Middle Eastern Restaurant</td>\n",
       "      <td>Japanese Restaurant</td>\n",
       "      <td>Cosmetics Shop</td>\n",
       "      <td>Gym / Fitness Center</td>\n",
       "      <td>Food Truck</td>\n",
       "      <td>Restaurant</td>\n",
       "      <td>Brewery</td>\n",
       "    </tr>\n",
       "  </tbody>\n",
       "</table>\n",
       "</div>"
      ],
      "text/plain": [
       "          District  Average Rating    1st Most Common Venue  \\\n",
       "2   Freguesia do Ó            7.10              Pizza Place   \n",
       "9         Perdizes            7.15             Burger Joint   \n",
       "10     Rio Pequeno            7.20  Fruit & Vegetable Store   \n",
       "11         Santana            7.20             Burger Joint   \n",
       "\n",
       "   2nd Most Common Venue 3rd Most Common Venue      4th Most Common Venue  \\\n",
       "2   Gym / Fitness Center              Pharmacy           Department Store   \n",
       "9                    Bar  Gym / Fitness Center                   Pharmacy   \n",
       "10     Convenience Store                   Gym                        Bar   \n",
       "11              Pharmacy           Pizza Place  Middle Eastern Restaurant   \n",
       "\n",
       "   5th Most Common Venue 6th Most Common Venue 7th Most Common Venue  \\\n",
       "2   Brazilian Restaurant               Brewery        Chocolate Shop   \n",
       "9           Dessert Shop    Italian Restaurant           Pizza Place   \n",
       "10        Chocolate Shop                Bakery     Food & Drink Shop   \n",
       "11   Japanese Restaurant        Cosmetics Shop  Gym / Fitness Center   \n",
       "\n",
       "   8th Most Common Venue    9th Most Common Venue 10th Most Common Venue  \n",
       "2         Sandwich Place       Salon / Barbershop         Cosmetics Shop  \n",
       "9             Restaurant                     Café                 Bakery  \n",
       "10             BBQ Joint  Health & Beauty Service             Food Truck  \n",
       "11            Food Truck               Restaurant                Brewery  "
      ]
     },
     "execution_count": 55,
     "metadata": {},
     "output_type": "execute_result"
    }
   ],
   "source": [
    "cluster_3 = pet_nearby.loc[pet_nearby['Cluster Label'] == 3, \n",
    "                              pet_nearby.columns[[0] + [3] + list(range(5, pet_nearby.shape[1]))]]\n",
    "cluster_3"
   ]
  },
  {
   "cell_type": "code",
   "execution_count": 56,
   "metadata": {},
   "outputs": [
    {
     "data": {
      "text/plain": [
       "7.1625"
      ]
     },
     "execution_count": 56,
     "metadata": {},
     "output_type": "execute_result"
    }
   ],
   "source": [
    "cluster_3['Average Rating'].mean()"
   ]
  },
  {
   "cell_type": "code",
   "execution_count": null,
   "metadata": {},
   "outputs": [],
   "source": []
  }
 ],
 "metadata": {
  "kernelspec": {
   "display_name": "Python 3",
   "language": "python",
   "name": "python3"
  },
  "language_info": {
   "codemirror_mode": {
    "name": "ipython",
    "version": 3
   },
   "file_extension": ".py",
   "mimetype": "text/x-python",
   "name": "python",
   "nbconvert_exporter": "python",
   "pygments_lexer": "ipython3",
   "version": "3.8.5"
  }
 },
 "nbformat": 4,
 "nbformat_minor": 4
}
